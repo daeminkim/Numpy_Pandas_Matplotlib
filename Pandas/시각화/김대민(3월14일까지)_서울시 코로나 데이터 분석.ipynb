{
 "cells": [
  {
   "cell_type": "markdown",
   "metadata": {},
   "source": [
    "# 데이터 파일 읽기\n",
    "\n",
    "- [서울시 코로나19 확진자 현황](http://data.seoul.go.kr/dataList/OA-20279/S/1/datasetView.do)\n",
    "## 컬럼\n",
    "- ID : 확진자 ID. 발생순서대로 1씩증가하는 값\n",
    "- 확진일: 확진 날짜\n",
    "- 자치구: 확진 결과를 받은 지역구.\n",
    "- 여행력: 해외유입의 경우 국가명\n",
    "- 접촉력: 감염된 경로. \n",
    "- 현재상태: 퇴원, 사망, NA: 치료중"
   ]
  },
  {
   "cell_type": "code",
   "execution_count": 1,
   "metadata": {},
   "outputs": [],
   "source": [
    "import pandas as pd\n",
    "import numpy as np\n",
    "import matplotlib.pyplot as plt\n",
    "import seaborn as sns\n",
    "import warnings\n",
    "warnings.filterwarnings(action ='ignore')"
   ]
  },
  {
   "cell_type": "code",
   "execution_count": 67,
   "metadata": {},
   "outputs": [
    {
     "data": {
      "text/plain": [
       "(30061, 6)"
      ]
     },
     "execution_count": 67,
     "metadata": {},
     "output_type": "execute_result"
    }
   ],
   "source": [
    "corona_df=pd.read_csv('data1/corona19_seoul_2021-03-15.csv', encoding ='utf-8')\n",
    "corona_df.shape"
   ]
  },
  {
   "cell_type": "code",
   "execution_count": 68,
   "metadata": {},
   "outputs": [
    {
     "data": {
      "text/html": [
       "<div>\n",
       "<style scoped>\n",
       "    .dataframe tbody tr th:only-of-type {\n",
       "        vertical-align: middle;\n",
       "    }\n",
       "\n",
       "    .dataframe tbody tr th {\n",
       "        vertical-align: top;\n",
       "    }\n",
       "\n",
       "    .dataframe thead th {\n",
       "        text-align: right;\n",
       "    }\n",
       "</style>\n",
       "<table border=\"1\" class=\"dataframe\">\n",
       "  <thead>\n",
       "    <tr style=\"text-align: right;\">\n",
       "      <th></th>\n",
       "      <th>ID</th>\n",
       "      <th>확진일</th>\n",
       "      <th>자치구</th>\n",
       "      <th>여행력</th>\n",
       "      <th>접촉력</th>\n",
       "      <th>현재상태</th>\n",
       "    </tr>\n",
       "  </thead>\n",
       "  <tbody>\n",
       "    <tr>\n",
       "      <th>0</th>\n",
       "      <td>30061</td>\n",
       "      <td>2021-03-14</td>\n",
       "      <td>동대문구</td>\n",
       "      <td>NaN</td>\n",
       "      <td>동대문구 소재 병원 관련(\\'21.2.)</td>\n",
       "      <td>사망</td>\n",
       "    </tr>\n",
       "    <tr>\n",
       "      <th>1</th>\n",
       "      <td>30060</td>\n",
       "      <td>2021-03-14</td>\n",
       "      <td>강동구</td>\n",
       "      <td>NaN</td>\n",
       "      <td>감염경로 조사중</td>\n",
       "      <td>NaN</td>\n",
       "    </tr>\n",
       "    <tr>\n",
       "      <th>2</th>\n",
       "      <td>30059</td>\n",
       "      <td>2021-03-14</td>\n",
       "      <td>타시도</td>\n",
       "      <td>NaN</td>\n",
       "      <td>관악구 소재 미용업 관련</td>\n",
       "      <td>NaN</td>\n",
       "    </tr>\n",
       "    <tr>\n",
       "      <th>3</th>\n",
       "      <td>30058</td>\n",
       "      <td>2021-03-14</td>\n",
       "      <td>마포구</td>\n",
       "      <td>NaN</td>\n",
       "      <td>감염경로 조사중</td>\n",
       "      <td>NaN</td>\n",
       "    </tr>\n",
       "    <tr>\n",
       "      <th>4</th>\n",
       "      <td>30057</td>\n",
       "      <td>2021-03-14</td>\n",
       "      <td>서대문구</td>\n",
       "      <td>NaN</td>\n",
       "      <td>타시도 확진자 접촉</td>\n",
       "      <td>NaN</td>\n",
       "    </tr>\n",
       "  </tbody>\n",
       "</table>\n",
       "</div>"
      ],
      "text/plain": [
       "      ID         확진일   자치구  여행력                     접촉력 현재상태\n",
       "0  30061  2021-03-14  동대문구  NaN  동대문구 소재 병원 관련(\\'21.2.)   사망\n",
       "1  30060  2021-03-14   강동구  NaN                감염경로 조사중  NaN\n",
       "2  30059  2021-03-14   타시도  NaN           관악구 소재 미용업 관련  NaN\n",
       "3  30058  2021-03-14   마포구  NaN                감염경로 조사중  NaN\n",
       "4  30057  2021-03-14  서대문구  NaN              타시도 확진자 접촉  NaN"
      ]
     },
     "execution_count": 68,
     "metadata": {},
     "output_type": "execute_result"
    }
   ],
   "source": [
    "corona_df.head()"
   ]
  },
  {
   "cell_type": "markdown",
   "metadata": {},
   "source": [
    "# DataFrame 기본정보 조회"
   ]
  },
  {
   "cell_type": "code",
   "execution_count": 69,
   "metadata": {},
   "outputs": [
    {
     "name": "stdout",
     "output_type": "stream",
     "text": [
      "<class 'pandas.core.frame.DataFrame'>\n",
      "RangeIndex: 30061 entries, 0 to 30060\n",
      "Data columns (total 6 columns):\n",
      " #   Column  Non-Null Count  Dtype \n",
      "---  ------  --------------  ----- \n",
      " 0   ID      30061 non-null  int64 \n",
      " 1   확진일     30061 non-null  object\n",
      " 2   자치구     30061 non-null  object\n",
      " 3   여행력     976 non-null    object\n",
      " 4   접촉력     30061 non-null  object\n",
      " 5   현재상태    27143 non-null  object\n",
      "dtypes: int64(1), object(5)\n",
      "memory usage: 1.4+ MB\n"
     ]
    }
   ],
   "source": [
    "corona_df.info() # 치료중 ->nan"
   ]
  },
  {
   "cell_type": "code",
   "execution_count": 71,
   "metadata": {},
   "outputs": [
    {
     "data": {
      "text/plain": [
       "ID          0\n",
       "확진일         0\n",
       "자치구         0\n",
       "여행력     29085\n",
       "접촉력         0\n",
       "현재상태     2918\n",
       "dtype: int64"
      ]
     },
     "execution_count": 71,
     "metadata": {},
     "output_type": "execute_result"
    }
   ],
   "source": [
    "corona_df.isna().sum()  # na 값 확인"
   ]
  },
  {
   "cell_type": "code",
   "execution_count": 72,
   "metadata": {},
   "outputs": [
    {
     "data": {
      "text/html": [
       "<div>\n",
       "<style scoped>\n",
       "    .dataframe tbody tr th:only-of-type {\n",
       "        vertical-align: middle;\n",
       "    }\n",
       "\n",
       "    .dataframe tbody tr th {\n",
       "        vertical-align: top;\n",
       "    }\n",
       "\n",
       "    .dataframe thead th {\n",
       "        text-align: right;\n",
       "    }\n",
       "</style>\n",
       "<table border=\"1\" class=\"dataframe\">\n",
       "  <thead>\n",
       "    <tr style=\"text-align: right;\">\n",
       "      <th></th>\n",
       "      <th>ID</th>\n",
       "      <th>확진일</th>\n",
       "      <th>자치구</th>\n",
       "      <th>여행력</th>\n",
       "      <th>접촉력</th>\n",
       "      <th>현재상태</th>\n",
       "    </tr>\n",
       "  </thead>\n",
       "  <tbody>\n",
       "    <tr>\n",
       "      <th>0</th>\n",
       "      <td>30061</td>\n",
       "      <td>2021-03-14</td>\n",
       "      <td>동대문구</td>\n",
       "      <td>NaN</td>\n",
       "      <td>동대문구 소재 병원 관련(\\'21.2.)</td>\n",
       "      <td>사망</td>\n",
       "    </tr>\n",
       "    <tr>\n",
       "      <th>1</th>\n",
       "      <td>30060</td>\n",
       "      <td>2021-03-14</td>\n",
       "      <td>강동구</td>\n",
       "      <td>NaN</td>\n",
       "      <td>감염경로 조사중</td>\n",
       "      <td>NaN</td>\n",
       "    </tr>\n",
       "    <tr>\n",
       "      <th>2</th>\n",
       "      <td>30059</td>\n",
       "      <td>2021-03-14</td>\n",
       "      <td>타시도</td>\n",
       "      <td>NaN</td>\n",
       "      <td>관악구 소재 미용업 관련</td>\n",
       "      <td>NaN</td>\n",
       "    </tr>\n",
       "    <tr>\n",
       "      <th>3</th>\n",
       "      <td>30058</td>\n",
       "      <td>2021-03-14</td>\n",
       "      <td>마포구</td>\n",
       "      <td>NaN</td>\n",
       "      <td>감염경로 조사중</td>\n",
       "      <td>NaN</td>\n",
       "    </tr>\n",
       "    <tr>\n",
       "      <th>4</th>\n",
       "      <td>30057</td>\n",
       "      <td>2021-03-14</td>\n",
       "      <td>서대문구</td>\n",
       "      <td>NaN</td>\n",
       "      <td>타시도 확진자 접촉</td>\n",
       "      <td>NaN</td>\n",
       "    </tr>\n",
       "  </tbody>\n",
       "</table>\n",
       "</div>"
      ],
      "text/plain": [
       "      ID         확진일   자치구  여행력                     접촉력 현재상태\n",
       "0  30061  2021-03-14  동대문구  NaN  동대문구 소재 병원 관련(\\'21.2.)   사망\n",
       "1  30060  2021-03-14   강동구  NaN                감염경로 조사중  NaN\n",
       "2  30059  2021-03-14   타시도  NaN           관악구 소재 미용업 관련  NaN\n",
       "3  30058  2021-03-14   마포구  NaN                감염경로 조사중  NaN\n",
       "4  30057  2021-03-14  서대문구  NaN              타시도 확진자 접촉  NaN"
      ]
     },
     "execution_count": 72,
     "metadata": {},
     "output_type": "execute_result"
    }
   ],
   "source": [
    "corona_df.head()"
   ]
  },
  {
   "cell_type": "code",
   "execution_count": null,
   "metadata": {},
   "outputs": [],
   "source": []
  },
  {
   "cell_type": "code",
   "execution_count": 5,
   "metadata": {},
   "outputs": [
    {
     "data": {
      "text/html": [
       "<div>\n",
       "<style scoped>\n",
       "    .dataframe tbody tr th:only-of-type {\n",
       "        vertical-align: middle;\n",
       "    }\n",
       "\n",
       "    .dataframe tbody tr th {\n",
       "        vertical-align: top;\n",
       "    }\n",
       "\n",
       "    .dataframe thead th {\n",
       "        text-align: right;\n",
       "    }\n",
       "</style>\n",
       "<table border=\"1\" class=\"dataframe\">\n",
       "  <thead>\n",
       "    <tr style=\"text-align: right;\">\n",
       "      <th></th>\n",
       "      <th>확진일</th>\n",
       "      <th>자치구</th>\n",
       "      <th>여행력</th>\n",
       "      <th>접촉력</th>\n",
       "      <th>현재상태</th>\n",
       "    </tr>\n",
       "  </thead>\n",
       "  <tbody>\n",
       "    <tr>\n",
       "      <th>count</th>\n",
       "      <td>30061</td>\n",
       "      <td>30061</td>\n",
       "      <td>976</td>\n",
       "      <td>30061</td>\n",
       "      <td>27143</td>\n",
       "    </tr>\n",
       "    <tr>\n",
       "      <th>unique</th>\n",
       "      <td>384</td>\n",
       "      <td>27</td>\n",
       "      <td>120</td>\n",
       "      <td>512</td>\n",
       "      <td>2</td>\n",
       "    </tr>\n",
       "    <tr>\n",
       "      <th>top</th>\n",
       "      <td>2020-12-17</td>\n",
       "      <td>기타</td>\n",
       "      <td>미국</td>\n",
       "      <td>기타 확진자 접촉</td>\n",
       "      <td>퇴원</td>\n",
       "    </tr>\n",
       "    <tr>\n",
       "      <th>freq</th>\n",
       "      <td>588</td>\n",
       "      <td>2000</td>\n",
       "      <td>329</td>\n",
       "      <td>9660</td>\n",
       "      <td>26738</td>\n",
       "    </tr>\n",
       "  </tbody>\n",
       "</table>\n",
       "</div>"
      ],
      "text/plain": [
       "               확진일    자치구  여행력        접촉력   현재상태\n",
       "count        30061  30061  976      30061  27143\n",
       "unique         384     27  120        512      2\n",
       "top     2020-12-17     기타   미국  기타 확진자 접촉     퇴원\n",
       "freq           588   2000  329       9660  26738"
      ]
     },
     "execution_count": 5,
     "metadata": {},
     "output_type": "execute_result"
    }
   ],
   "source": [
    "corona_df.describe(include = 'object')"
   ]
  },
  {
   "cell_type": "code",
   "execution_count": 6,
   "metadata": {},
   "outputs": [
    {
     "data": {
      "text/plain": [
       "Index(['ID', '확진일', '자치구', '여행력', '접촉력', '현재상태'], dtype='object')"
      ]
     },
     "execution_count": 6,
     "metadata": {},
     "output_type": "execute_result"
    }
   ],
   "source": [
    "corona_df.columns"
   ]
  },
  {
   "cell_type": "code",
   "execution_count": null,
   "metadata": {},
   "outputs": [],
   "source": []
  },
  {
   "cell_type": "code",
   "execution_count": null,
   "metadata": {},
   "outputs": [],
   "source": []
  },
  {
   "cell_type": "markdown",
   "metadata": {},
   "source": [
    "##  범주형 컬럼들의 고유값들 조회"
   ]
  },
  {
   "cell_type": "code",
   "execution_count": 7,
   "metadata": {
    "collapsed": true
   },
   "outputs": [
    {
     "data": {
      "text/plain": [
       "2020-12-17    588\n",
       "2020-12-24    566\n",
       "2020-12-28    524\n",
       "2020-12-25    430\n",
       "2020-12-16    427\n",
       "             ... \n",
       "2020-04-24      1\n",
       "2020-05-17      1\n",
       "2020-04-19      1\n",
       "2020-01-24      1\n",
       "2020-04-18      1\n",
       "Name: 확진일, Length: 384, dtype: int64"
      ]
     },
     "execution_count": 7,
     "metadata": {},
     "output_type": "execute_result"
    }
   ],
   "source": [
    "corona_df['확진일'].value_counts()"
   ]
  },
  {
   "cell_type": "code",
   "execution_count": 8,
   "metadata": {
    "collapsed": true
   },
   "outputs": [
    {
     "data": {
      "text/plain": [
       "기타      2000\n",
       "강서구     1704\n",
       "송파구     1658\n",
       "타시도     1413\n",
       "관악구     1408\n",
       "강남구     1376\n",
       "노원구     1322\n",
       "성북구     1298\n",
       "은평구     1262\n",
       "중랑구     1250\n",
       "동작구     1238\n",
       "서초구     1148\n",
       "양천구     1144\n",
       "영등포구    1122\n",
       "구로구     1094\n",
       "동대문구    1087\n",
       "강동구     1036\n",
       "마포구      990\n",
       "도봉구      954\n",
       "광진구      876\n",
       "용산구      815\n",
       "서대문구     786\n",
       "강북구      785\n",
       "성동구      763\n",
       "종로구      579\n",
       "금천구      478\n",
       "중구       475\n",
       "Name: 자치구, dtype: int64"
      ]
     },
     "execution_count": 8,
     "metadata": {},
     "output_type": "execute_result"
    }
   ],
   "source": [
    "corona_df['자치구'].value_counts()"
   ]
  },
  {
   "cell_type": "code",
   "execution_count": 9,
   "metadata": {
    "collapsed": true
   },
   "outputs": [
    {
     "data": {
      "text/plain": [
       "array([nan, '폴란드', '미국', '파키스탄', '베트남 사이공', '카자흐스탄', '인도', '인도네시아',\n",
       "       '나이지리아', '러시아', '체코', '바레인', '과테말라', '아제르바이잔', '아제르바히잔', '프랑스',\n",
       "       '오스트리아', '이집트', '적도기니', '헝가리', '세네갈', '불가리아,터키', '미국LA', '필리핀',\n",
       "       'UAE', '레바논', '덴마크', '벨라루스', '네팔', '일본', '모로코', '콜롬비아', '가나', '영국',\n",
       "       '터키', '에티오피나', '탄자니아', '요르단', '이탈리아', '멕시코', '리투아니아', '에티오피아',\n",
       "       '독일', '모리타니아', '루마니아', '기타', '시에라리온', '캐나다', '벨기에', '파라과이', '중국',\n",
       "       '스페인', '이라크', '우즈베키스탄', '콩고민주공화국', '아이티공화국', '아랍에미리트', '스리랑카',\n",
       "       '에콰도르', '캄보디아', '싱가포르', '르완다', '코트디부아르', '미얀마', '콩고', '우크라이나',\n",
       "       '스웨덴', '브라질', '방글라데시', '시리아', '두바이', '호주', '몰타', '남아공', '알제리',\n",
       "       '알바니아', '핀란드', '네덜란드', '아르헨티나', '가봉', '사우디아라비아', '쿠웨이트', '크로아티아',\n",
       "       '28238', '케냐', '수단', '튀니지', '에디오피아', '키르기스스탄', '이란', '우간다', '카타르',\n",
       "       '키르기즈스탄', '멕시코, 미국', '21263', '베트남', '홍콩', '모로코, 터키', '미국, 멕시코',\n",
       "       '페루', '아일랜드', '아프리카', '프랑스, 스페인, 이탈리아, 독일, 네덜란드', '오세아니아',\n",
       "       '호주, 인도네시아', '포르투갈', '유럽', '미국, 캐나다, 멕시코', '미국, 브라질', '태국', '아시아',\n",
       "       '아르헨티나, 볼리비아, 브라질', '말레이시아, 인도네시아', '브라질,아르헨티아,칠레,볼리비아', '프랑스, 독일',\n",
       "       '스페인, 카타르', '이탈리아, 프랑스', '체코, 헝가리, 오스트리아, 이탈리아, 프랑스',\n",
       "       '오스트리아, 모로코, 프랑스', '독일, 프랑스', '싱가폴'], dtype=object)"
      ]
     },
     "execution_count": 9,
     "metadata": {},
     "output_type": "execute_result"
    }
   ],
   "source": [
    "corona_df['여행력'].unique()#.value_counts()"
   ]
  },
  {
   "cell_type": "code",
   "execution_count": 10,
   "metadata": {
    "collapsed": true
   },
   "outputs": [
    {
     "data": {
      "text/plain": [
       "기타 확진자 접촉                   9660\n",
       "감염경로 조사중                    6994\n",
       "타시도 확진자 접촉                  1304\n",
       "동부구치소 관련                    1175\n",
       "해외유입                         965\n",
       "                            ... \n",
       "안양 목회자 관련                      1\n",
       "신 천 지                          1\n",
       "타시도 확진자 접촉 (수원 베이비시터 관련)       1\n",
       "부산시 방문주사 관련                    1\n",
       "삼성물산                           1\n",
       "Name: 접촉력, Length: 512, dtype: int64"
      ]
     },
     "execution_count": 10,
     "metadata": {},
     "output_type": "execute_result"
    }
   ],
   "source": [
    "corona_df['접촉력'].value_counts()"
   ]
  },
  {
   "cell_type": "code",
   "execution_count": 11,
   "metadata": {},
   "outputs": [
    {
     "data": {
      "text/plain": [
       "퇴원    26738\n",
       "사망      405\n",
       "Name: 현재상태, dtype: int64"
      ]
     },
     "execution_count": 11,
     "metadata": {},
     "output_type": "execute_result"
    }
   ],
   "source": [
    "corona_df['현재상태'].value_counts()"
   ]
  },
  {
   "cell_type": "code",
   "execution_count": 73,
   "metadata": {},
   "outputs": [
    {
     "data": {
      "text/plain": [
       "array(['사망', nan, '퇴원'], dtype=object)"
      ]
     },
     "execution_count": 73,
     "metadata": {},
     "output_type": "execute_result"
    }
   ],
   "source": [
    "corona_df['현재상태'].unique()"
   ]
  },
  {
   "cell_type": "markdown",
   "metadata": {},
   "source": [
    "# 확진일 확진자수 정보 조회"
   ]
  },
  {
   "cell_type": "markdown",
   "metadata": {
    "ExecuteTime": {
     "end_time": "2021-03-10T10:40:05.771434Z",
     "start_time": "2021-03-10T10:40:05.742438Z"
    }
   },
   "source": [
    "## 확진일의 빈도수"
   ]
  },
  {
   "cell_type": "code",
   "execution_count": 12,
   "metadata": {
    "collapsed": true
   },
   "outputs": [
    {
     "data": {
      "text/html": [
       "<div>\n",
       "<style scoped>\n",
       "    .dataframe tbody tr th:only-of-type {\n",
       "        vertical-align: middle;\n",
       "    }\n",
       "\n",
       "    .dataframe tbody tr th {\n",
       "        vertical-align: top;\n",
       "    }\n",
       "\n",
       "    .dataframe thead th {\n",
       "        text-align: right;\n",
       "    }\n",
       "</style>\n",
       "<table border=\"1\" class=\"dataframe\">\n",
       "  <thead>\n",
       "    <tr style=\"text-align: right;\">\n",
       "      <th></th>\n",
       "      <th>ID</th>\n",
       "      <th>확진일</th>\n",
       "      <th>자치구</th>\n",
       "      <th>여행력</th>\n",
       "      <th>접촉력</th>\n",
       "      <th>현재상태</th>\n",
       "    </tr>\n",
       "  </thead>\n",
       "  <tbody>\n",
       "    <tr>\n",
       "      <th>0</th>\n",
       "      <td>30061</td>\n",
       "      <td>2021-03-14</td>\n",
       "      <td>동대문구</td>\n",
       "      <td>NaN</td>\n",
       "      <td>동대문구 소재 병원 관련(\\'21.2.)</td>\n",
       "      <td>사망</td>\n",
       "    </tr>\n",
       "    <tr>\n",
       "      <th>1</th>\n",
       "      <td>30060</td>\n",
       "      <td>2021-03-14</td>\n",
       "      <td>강동구</td>\n",
       "      <td>NaN</td>\n",
       "      <td>감염경로 조사중</td>\n",
       "      <td>NaN</td>\n",
       "    </tr>\n",
       "    <tr>\n",
       "      <th>2</th>\n",
       "      <td>30059</td>\n",
       "      <td>2021-03-14</td>\n",
       "      <td>타시도</td>\n",
       "      <td>NaN</td>\n",
       "      <td>관악구 소재 미용업 관련</td>\n",
       "      <td>NaN</td>\n",
       "    </tr>\n",
       "    <tr>\n",
       "      <th>3</th>\n",
       "      <td>30058</td>\n",
       "      <td>2021-03-14</td>\n",
       "      <td>마포구</td>\n",
       "      <td>NaN</td>\n",
       "      <td>감염경로 조사중</td>\n",
       "      <td>NaN</td>\n",
       "    </tr>\n",
       "    <tr>\n",
       "      <th>4</th>\n",
       "      <td>30057</td>\n",
       "      <td>2021-03-14</td>\n",
       "      <td>서대문구</td>\n",
       "      <td>NaN</td>\n",
       "      <td>타시도 확진자 접촉</td>\n",
       "      <td>NaN</td>\n",
       "    </tr>\n",
       "    <tr>\n",
       "      <th>...</th>\n",
       "      <td>...</td>\n",
       "      <td>...</td>\n",
       "      <td>...</td>\n",
       "      <td>...</td>\n",
       "      <td>...</td>\n",
       "      <td>...</td>\n",
       "    </tr>\n",
       "    <tr>\n",
       "      <th>30056</th>\n",
       "      <td>5</td>\n",
       "      <td>2020-01-31</td>\n",
       "      <td>마포구</td>\n",
       "      <td>NaN</td>\n",
       "      <td>기타 확진자 접촉</td>\n",
       "      <td>퇴원</td>\n",
       "    </tr>\n",
       "    <tr>\n",
       "      <th>30057</th>\n",
       "      <td>4</td>\n",
       "      <td>2020-01-30</td>\n",
       "      <td>종로구</td>\n",
       "      <td>중국</td>\n",
       "      <td>해외유입</td>\n",
       "      <td>퇴원</td>\n",
       "    </tr>\n",
       "    <tr>\n",
       "      <th>30058</th>\n",
       "      <td>3</td>\n",
       "      <td>2020-01-30</td>\n",
       "      <td>중랑구</td>\n",
       "      <td>NaN</td>\n",
       "      <td>종로구 집단발병</td>\n",
       "      <td>퇴원</td>\n",
       "    </tr>\n",
       "    <tr>\n",
       "      <th>30059</th>\n",
       "      <td>2</td>\n",
       "      <td>2020-01-30</td>\n",
       "      <td>강서구</td>\n",
       "      <td>중국</td>\n",
       "      <td>해외유입</td>\n",
       "      <td>퇴원</td>\n",
       "    </tr>\n",
       "    <tr>\n",
       "      <th>30060</th>\n",
       "      <td>1</td>\n",
       "      <td>2020-01-24</td>\n",
       "      <td>강서구</td>\n",
       "      <td>중국</td>\n",
       "      <td>해외유입</td>\n",
       "      <td>퇴원</td>\n",
       "    </tr>\n",
       "  </tbody>\n",
       "</table>\n",
       "<p>30061 rows × 6 columns</p>\n",
       "</div>"
      ],
      "text/plain": [
       "          ID         확진일   자치구  여행력                     접촉력 현재상태\n",
       "0      30061  2021-03-14  동대문구  NaN  동대문구 소재 병원 관련(\\'21.2.)   사망\n",
       "1      30060  2021-03-14   강동구  NaN                감염경로 조사중  NaN\n",
       "2      30059  2021-03-14   타시도  NaN           관악구 소재 미용업 관련  NaN\n",
       "3      30058  2021-03-14   마포구  NaN                감염경로 조사중  NaN\n",
       "4      30057  2021-03-14  서대문구  NaN              타시도 확진자 접촉  NaN\n",
       "...      ...         ...   ...  ...                     ...  ...\n",
       "30056      5  2020-01-31   마포구  NaN               기타 확진자 접촉   퇴원\n",
       "30057      4  2020-01-30   종로구   중국                    해외유입   퇴원\n",
       "30058      3  2020-01-30   중랑구  NaN                종로구 집단발병   퇴원\n",
       "30059      2  2020-01-30   강서구   중국                    해외유입   퇴원\n",
       "30060      1  2020-01-24   강서구   중국                    해외유입   퇴원\n",
       "\n",
       "[30061 rows x 6 columns]"
      ]
     },
     "execution_count": 12,
     "metadata": {},
     "output_type": "execute_result"
    }
   ],
   "source": [
    "corona_df"
   ]
  },
  {
   "cell_type": "code",
   "execution_count": 74,
   "metadata": {},
   "outputs": [
    {
     "data": {
      "text/plain": [
       "2020-12-17    588\n",
       "2020-12-24    566\n",
       "2020-12-28    524\n",
       "2020-12-25    430\n",
       "2020-12-16    427\n",
       "             ... \n",
       "2020-04-24      1\n",
       "2020-05-17      1\n",
       "2020-04-19      1\n",
       "2020-01-24      1\n",
       "2020-04-18      1\n",
       "Name: 확진일, Length: 384, dtype: int64"
      ]
     },
     "execution_count": 74,
     "metadata": {},
     "output_type": "execute_result"
    }
   ],
   "source": [
    "corona_df['확진일'].value_counts()"
   ]
  },
  {
   "cell_type": "code",
   "execution_count": null,
   "metadata": {},
   "outputs": [],
   "source": []
  },
  {
   "cell_type": "markdown",
   "metadata": {},
   "source": [
    "> ### datetime으로 변환\n",
    "> - `pd.to_datetime(변환할 Series)`\n",
    "> - x 또는 y 축이 날짜 일 경우 datetime 타입으로 처리하는 것이 좋다.\n",
    "> - datetime을 변환하면 날짜만의 기능을 다룰 수 있다.\n",
    ">     - dt accessor를 이용해 datetime의 속성값들을(년, 월, 일 등) 추출할 수 있다.\n",
    ">     - https://pandas.pydata.org/pandas-docs/stable/reference/api/pandas.Series.dt.html"
   ]
  },
  {
   "cell_type": "markdown",
   "metadata": {
    "ExecuteTime": {
     "end_time": "2021-03-11T05:05:25.449264Z",
     "start_time": "2021-03-11T05:05:25.433269Z"
    }
   },
   "source": [
    "## 확진일을 datetime으로 변환"
   ]
  },
  {
   "cell_type": "code",
   "execution_count": 14,
   "metadata": {},
   "outputs": [
    {
     "name": "stdout",
     "output_type": "stream",
     "text": [
      "<class 'pandas.core.frame.DataFrame'>\n",
      "RangeIndex: 30061 entries, 0 to 30060\n",
      "Data columns (total 6 columns):\n",
      " #   Column  Non-Null Count  Dtype \n",
      "---  ------  --------------  ----- \n",
      " 0   ID      30061 non-null  int64 \n",
      " 1   확진일     30061 non-null  object\n",
      " 2   자치구     30061 non-null  object\n",
      " 3   여행력     976 non-null    object\n",
      " 4   접촉력     30061 non-null  object\n",
      " 5   현재상태    27143 non-null  object\n",
      "dtypes: int64(1), object(5)\n",
      "memory usage: 1.4+ MB\n"
     ]
    }
   ],
   "source": [
    "corona_df.info()"
   ]
  },
  {
   "cell_type": "code",
   "execution_count": 76,
   "metadata": {},
   "outputs": [],
   "source": [
    "corona_df['확진일']=pd.to_datetime(corona_df['확진일'], format = \"%Y-%m-%d\") # 2021-03-14 이렇게 잘 분리 되있는것은 format 지정안해도 된다.!"
   ]
  },
  {
   "cell_type": "code",
   "execution_count": 75,
   "metadata": {},
   "outputs": [
    {
     "name": "stdout",
     "output_type": "stream",
     "text": [
      "<class 'pandas.core.frame.DataFrame'>\n",
      "RangeIndex: 30061 entries, 0 to 30060\n",
      "Data columns (total 6 columns):\n",
      " #   Column  Non-Null Count  Dtype         \n",
      "---  ------  --------------  -----         \n",
      " 0   ID      30061 non-null  int64         \n",
      " 1   확진일     30061 non-null  datetime64[ns]\n",
      " 2   자치구     30061 non-null  object        \n",
      " 3   여행력     976 non-null    object        \n",
      " 4   접촉력     30061 non-null  object        \n",
      " 5   현재상태    27143 non-null  object        \n",
      "dtypes: datetime64[ns](1), int64(1), object(4)\n",
      "memory usage: 1.4+ MB\n"
     ]
    }
   ],
   "source": [
    "# 읽어올때 datetime 으로 변환\n",
    "from datetime import datetime\n",
    "\n",
    "def parser(x):\n",
    "    return datetime.strptime(x, '%Y-%m-%d')\n",
    "\n",
    "df=pd.read_csv('data1/corona19_seoul_2021-03-15.csv',\n",
    "             parse_dates = ['확진일'],\n",
    "             #date_parser = lambda x: datetime.strptime(x,'%Y-%m-%d'))\n",
    "             date_parser = parser)\n",
    "df.info()"
   ]
  },
  {
   "cell_type": "markdown",
   "metadata": {
    "ExecuteTime": {
     "end_time": "2021-03-10T10:40:10.759659Z",
     "start_time": "2021-03-10T10:40:10.731664Z"
    }
   },
   "source": [
    "## 확진일 관련 파생변수 추가\n",
    "- 확진일에서 년을 추출해서 **'년'** 컬럼을 생성\n",
    "- 확진일에서 월을 추출해서 **'월'** 컬럼을 생성\n",
    "- 확진일에서 주(1년 중 몇번째 주)를 추출해서 **'주'** 컬럼을 생성\n",
    "- 확진일에서 요일을 추출해서 **'요일'** 컬럼을 생성. "
   ]
  },
  {
   "cell_type": "code",
   "execution_count": 81,
   "metadata": {
    "collapsed": true
   },
   "outputs": [
    {
     "data": {
      "text/html": [
       "<div>\n",
       "<style scoped>\n",
       "    .dataframe tbody tr th:only-of-type {\n",
       "        vertical-align: middle;\n",
       "    }\n",
       "\n",
       "    .dataframe tbody tr th {\n",
       "        vertical-align: top;\n",
       "    }\n",
       "\n",
       "    .dataframe thead th {\n",
       "        text-align: right;\n",
       "    }\n",
       "</style>\n",
       "<table border=\"1\" class=\"dataframe\">\n",
       "  <thead>\n",
       "    <tr style=\"text-align: right;\">\n",
       "      <th></th>\n",
       "      <th>ID</th>\n",
       "      <th>확진일</th>\n",
       "      <th>주</th>\n",
       "      <th>자치구</th>\n",
       "      <th>여행력</th>\n",
       "      <th>접촉력</th>\n",
       "      <th>현재상태</th>\n",
       "      <th>년</th>\n",
       "      <th>월</th>\n",
       "      <th>요일</th>\n",
       "    </tr>\n",
       "  </thead>\n",
       "  <tbody>\n",
       "    <tr>\n",
       "      <th>0</th>\n",
       "      <td>30061</td>\n",
       "      <td>2021-03-14</td>\n",
       "      <td>10</td>\n",
       "      <td>동대문구</td>\n",
       "      <td>NaN</td>\n",
       "      <td>동대문구 소재 병원 관련(\\'21.2.)</td>\n",
       "      <td>사망</td>\n",
       "      <td>2021</td>\n",
       "      <td>3</td>\n",
       "      <td>6</td>\n",
       "    </tr>\n",
       "  </tbody>\n",
       "</table>\n",
       "</div>"
      ],
      "text/plain": [
       "      ID        확진일   주   자치구  여행력                     접촉력 현재상태     년  월  요일\n",
       "0  30061 2021-03-14  10  동대문구  NaN  동대문구 소재 병원 관련(\\'21.2.)   사망  2021  3   6"
      ]
     },
     "execution_count": 81,
     "metadata": {},
     "output_type": "execute_result"
    }
   ],
   "source": [
    "corona_df.head(1)"
   ]
  },
  {
   "cell_type": "markdown",
   "metadata": {},
   "source": [
    "### dt (0: 월요일~ 6:일요일)  // isocalendar() 1:월요일~7:일요일\n",
    "\n",
    "- columns(Series).dt.year(month,day...): corona19데이터에서 2020년도에 53주차 이런식으로 겹치는게 있다.그래서 isocalendar 를 사용한다.\n",
    "\n",
    "- columns(Series).dt.isocalender[year,[...]]: 겹치는 부분을 해결해주는데 isocalendar를 사용하려면 \n",
    "                                         - isocalendar를 조회했을때 나오는 year,week,day로 dataframe에 넣어야한다.!"
   ]
  },
  {
   "cell_type": "code",
   "execution_count": 184,
   "metadata": {
    "collapsed": true
   },
   "outputs": [
    {
     "ename": "AttributeError",
     "evalue": "'DatetimeProperties' object has no attribute 'isocalender'",
     "output_type": "error",
     "traceback": [
      "\u001b[1;31m---------------------------------------------------------------------------\u001b[0m",
      "\u001b[1;31mAttributeError\u001b[0m                            Traceback (most recent call last)",
      "\u001b[1;32m<ipython-input-184-ec0023f44e3b>\u001b[0m in \u001b[0;36m<module>\u001b[1;34m\u001b[0m\n\u001b[0;32m      1\u001b[0m \u001b[1;31m# year, week, day 까지 isocalender // tmp  로 해야함 isocalender를 사용하면 year, week, day 다 넣어야함\u001b[0m\u001b[1;33m\u001b[0m\u001b[1;33m\u001b[0m\u001b[1;33m\u001b[0m\u001b[0m\n\u001b[0;32m      2\u001b[0m \u001b[1;31m# 밑에 함수도 1:월~ 7: 일 까지 바꿔야함 # 핸드폰, 강사님 파일 꼭보기\u001b[0m\u001b[1;33m\u001b[0m\u001b[1;33m\u001b[0m\u001b[1;33m\u001b[0m\u001b[0m\n\u001b[1;32m----> 3\u001b[1;33m \u001b[0mtmp\u001b[0m \u001b[1;33m=\u001b[0m \u001b[0mdf\u001b[0m\u001b[1;33m[\u001b[0m\u001b[1;34m'확진일'\u001b[0m\u001b[1;33m]\u001b[0m\u001b[1;33m.\u001b[0m\u001b[0mdt\u001b[0m\u001b[1;33m.\u001b[0m\u001b[0misocalender\u001b[0m\u001b[1;33m(\u001b[0m\u001b[1;33m)\u001b[0m\u001b[1;33m\u001b[0m\u001b[1;33m\u001b[0m\u001b[0m\n\u001b[0m\u001b[0;32m      4\u001b[0m \u001b[0mtmp\u001b[0m\u001b[1;33m\u001b[0m\u001b[1;33m\u001b[0m\u001b[0m\n",
      "\u001b[1;31mAttributeError\u001b[0m: 'DatetimeProperties' object has no attribute 'isocalender'"
     ]
    }
   ],
   "source": [
    "# year, week, day 까지 isocalender 로 설정해야 문제(2020.12월 53주 겹치는 문제)해결//\n",
    "\n",
    "# 함수도 .dt를 사용할때 (0: 월요일~ 6:일요일) //.isocalendar를 사용할때 1:월~ 7: 일 까지 바꿔야함 \n",
    "\n"
   ]
  },
  {
   "cell_type": "code",
   "execution_count": 198,
   "metadata": {},
   "outputs": [],
   "source": [
    "corona_df['년']=corona_df['확진일'].dt.isocalendar()['year']"
   ]
  },
  {
   "cell_type": "code",
   "execution_count": 199,
   "metadata": {},
   "outputs": [],
   "source": [
    "corona_df['월']= corona_df['확진일'].dt.month # isocalendar() 에 month 는 없다."
   ]
  },
  {
   "cell_type": "code",
   "execution_count": 200,
   "metadata": {},
   "outputs": [],
   "source": [
    "corona_df['주']=corona_df['확진일'].dt.isocalendar()['week']"
   ]
  },
  {
   "cell_type": "code",
   "execution_count": 201,
   "metadata": {},
   "outputs": [],
   "source": [
    "corona_df['요일']=corona_df['확진일'].dt.isocalendar()['day']"
   ]
  },
  {
   "cell_type": "code",
   "execution_count": null,
   "metadata": {},
   "outputs": [],
   "source": []
  },
  {
   "cell_type": "markdown",
   "metadata": {},
   "source": [
    "### .dt 를 사용한 컬럼 생성// "
   ]
  },
  {
   "cell_type": "code",
   "execution_count": 77,
   "metadata": {},
   "outputs": [],
   "source": [
    "#corona_df['년']= corona_df['확진일'].dt.year"
   ]
  },
  {
   "cell_type": "code",
   "execution_count": 78,
   "metadata": {},
   "outputs": [],
   "source": [
    "#corona_df['월']= corona_df['확진일'].dt.month"
   ]
  },
  {
   "cell_type": "code",
   "execution_count": 80,
   "metadata": {},
   "outputs": [],
   "source": [
    "#corona_df.insert(2,'주',corona_df['확진일'].dt.week)"
   ]
  },
  {
   "cell_type": "code",
   "execution_count": 79,
   "metadata": {},
   "outputs": [],
   "source": [
    "#corona_df['요일']= corona_df['확진일'].dt.dayofweek"
   ]
  },
  {
   "cell_type": "markdown",
   "metadata": {
    "ExecuteTime": {
     "end_time": "2020-08-22T14:17:12.955322Z",
     "start_time": "2020-08-22T14:17:12.947343Z"
    }
   },
   "source": [
    "## 요일 정수를 문자열(월,화,수,목,금,토,일)로 변경\n",
    "- datetime에서 요일을 추출하면 정수로 반환된다.\n",
    "    - dt.week 로 조회시 - 월요일: 0, 일요일: 6\n",
    "    - dt.isocalendar()['week']로 조회시 - 월요일 : 1, 일요일: 7"
   ]
  },
  {
   "cell_type": "code",
   "execution_count": 202,
   "metadata": {},
   "outputs": [],
   "source": [
    "# 요일을 문자열로 변환((0:월, 6:일))\n",
    "# dt.week 로 조회시 - 월요일: 0, 일요일: 6\n",
    "# def change_day_str(x):\n",
    "#     if x==0:\n",
    "#         return '월'\n",
    "#     elif x==1:\n",
    "#         return '화'\n",
    "#     elif x==2:\n",
    "#         return '수'\n",
    "#     elif x==3:\n",
    "#         return '목'\n",
    "#     elif x==4:\n",
    "#         return '금'\n",
    "#     elif x==5:\n",
    "#         return '토'\n",
    "#     elif x==6:\n",
    "#         return '일'\n",
    "# \n",
    "\n",
    "# isocalendar() 사용\n",
    "\n",
    "def change_day_str(x):\n",
    "    if x==1:\n",
    "        return '월'\n",
    "    elif x==2:\n",
    "        return '화'\n",
    "    elif x==3:\n",
    "        return '수'\n",
    "    elif x==4:\n",
    "        return '목'\n",
    "    elif x==5:\n",
    "        return '금'\n",
    "    elif x==6:\n",
    "        return '토'\n",
    "    elif x==7:\n",
    "        return '일'\n"
   ]
  },
  {
   "cell_type": "code",
   "execution_count": 203,
   "metadata": {},
   "outputs": [],
   "source": [
    "corona_df['요일']= corona_df['요일'].apply(change_day_str)"
   ]
  },
  {
   "cell_type": "code",
   "execution_count": 204,
   "metadata": {},
   "outputs": [
    {
     "data": {
      "text/html": [
       "<div>\n",
       "<style scoped>\n",
       "    .dataframe tbody tr th:only-of-type {\n",
       "        vertical-align: middle;\n",
       "    }\n",
       "\n",
       "    .dataframe tbody tr th {\n",
       "        vertical-align: top;\n",
       "    }\n",
       "\n",
       "    .dataframe thead th {\n",
       "        text-align: right;\n",
       "    }\n",
       "</style>\n",
       "<table border=\"1\" class=\"dataframe\">\n",
       "  <thead>\n",
       "    <tr style=\"text-align: right;\">\n",
       "      <th></th>\n",
       "      <th>ID</th>\n",
       "      <th>확진일</th>\n",
       "      <th>주</th>\n",
       "      <th>자치구</th>\n",
       "      <th>여행력</th>\n",
       "      <th>접촉력</th>\n",
       "      <th>현재상태</th>\n",
       "      <th>년</th>\n",
       "      <th>월</th>\n",
       "      <th>요일</th>\n",
       "    </tr>\n",
       "  </thead>\n",
       "  <tbody>\n",
       "    <tr>\n",
       "      <th>0</th>\n",
       "      <td>30061</td>\n",
       "      <td>2021-03-14</td>\n",
       "      <td>10</td>\n",
       "      <td>동대문구</td>\n",
       "      <td>NaN</td>\n",
       "      <td>동대문구 소재 병원 관련(\\'21.2.)</td>\n",
       "      <td>사망</td>\n",
       "      <td>2021</td>\n",
       "      <td>3</td>\n",
       "      <td>일</td>\n",
       "    </tr>\n",
       "  </tbody>\n",
       "</table>\n",
       "</div>"
      ],
      "text/plain": [
       "      ID        확진일   주   자치구  여행력                     접촉력 현재상태     년  월 요일\n",
       "0  30061 2021-03-14  10  동대문구  NaN  동대문구 소재 병원 관련(\\'21.2.)   사망  2021  3  일"
      ]
     },
     "execution_count": 204,
     "metadata": {},
     "output_type": "execute_result"
    }
   ],
   "source": [
    "corona_df.head(1)"
   ]
  },
  {
   "cell_type": "markdown",
   "metadata": {},
   "source": [
    "###  Categorical Data 타입\n",
    "> - 범주형 타입\n",
    "> - 문자열과 차이점\n",
    ">     - 내부적으로 정수로 관리되기 때문에 메모리를 절약 할 수 있다. \n",
    ">     - 사전적 순서와 논리적 순서가 다를 경우 논리적 순서로 정렬되도록 정의 할 수 있다.\n",
    ">         - 사전적순서: Four One Three Two\n",
    ">         - 논리적순서: One Two Three Four\n",
    "> - str 타입 Series를 Categorical 타입으로 변환\n",
    ">     - `pandas.Categorical(변환할Series, [categories=[고유값 리스트], ordered=None])` \n",
    "                                               // ordered : 원래 갖고 있는 순서가 있다면, 값자체의 순서가 잇다면 True로한다.(ex:a,b,c...)\n",
    "    - categories: 고유값 리스트를 지정한다. 생략할 경우 Series의 고유값들을 가지고 만든다.\n",
    "        - 원하는 순서대로 지정하기 위해서는 설정한다.\n",
    "    - ordered: 순성형 여부 설정"
   ]
  },
  {
   "cell_type": "markdown",
   "metadata": {},
   "source": [
    "## 요일을 Categorical Type으로 변환"
   ]
  },
  {
   "cell_type": "code",
   "execution_count": 90,
   "metadata": {},
   "outputs": [
    {
     "data": {
      "text/plain": [
       "['월', '화', '수', '목', '금', '토', '일']"
      ]
     },
     "execution_count": 90,
     "metadata": {},
     "output_type": "execute_result"
    }
   ],
   "source": [
    "list('월화수목금토일')"
   ]
  },
  {
   "cell_type": "code",
   "execution_count": 205,
   "metadata": {},
   "outputs": [
    {
     "data": {
      "text/plain": [
       "[NaN, NaN, NaN, NaN, NaN, ..., NaN, NaN, NaN, NaN, NaN]\n",
       "Length: 30061\n",
       "Categories (5, object): ['F', 'D', 'C', 'B', 'A']"
      ]
     },
     "execution_count": 205,
     "metadata": {},
     "output_type": "execute_result"
    }
   ],
   "source": [
    "# 예시 \n",
    "pd.Categorical(corona_df['요일'], categories = list('FDCBA'))#, ordered = True)  # 고유값 리스트에 없는 값은 NAN처리 한다"
   ]
  },
  {
   "cell_type": "code",
   "execution_count": 263,
   "metadata": {},
   "outputs": [],
   "source": [
    "# 컬럼의 고유값을 갖고 카테고리를 사전식으로 만든다.// 고유값 리스트 안넣어서\n",
    "corona_df['요일']= pd.Categorical(corona_df['요일'],categories = list('월화수목금토일'))# categories = )  "
   ]
  },
  {
   "cell_type": "code",
   "execution_count": 212,
   "metadata": {},
   "outputs": [
    {
     "data": {
      "text/plain": [
       "['일', '일', '일', '일', '일', ..., '금', '목', '목', '목', '금']\n",
       "Length: 30061\n",
       "Categories (7, object): ['월' < '화' < '수' < '목' < '금' < '토' < '일']"
      ]
     },
     "execution_count": 212,
     "metadata": {},
     "output_type": "execute_result"
    }
   ],
   "source": [
    "pd.Categorical(corona_df['요일'], ordered = True, categories = list('월화수목금토일'))"
   ]
  },
  {
   "cell_type": "code",
   "execution_count": 213,
   "metadata": {
    "collapsed": true
   },
   "outputs": [
    {
     "name": "stdout",
     "output_type": "stream",
     "text": [
      "<class 'pandas.core.frame.DataFrame'>\n",
      "RangeIndex: 30061 entries, 0 to 30060\n",
      "Data columns (total 10 columns):\n",
      " #   Column  Non-Null Count  Dtype         \n",
      "---  ------  --------------  -----         \n",
      " 0   ID      30061 non-null  int64         \n",
      " 1   확진일     30061 non-null  datetime64[ns]\n",
      " 2   주       30061 non-null  UInt32        \n",
      " 3   자치구     30061 non-null  object        \n",
      " 4   여행력     976 non-null    object        \n",
      " 5   접촉력     30061 non-null  object        \n",
      " 6   현재상태    27143 non-null  object        \n",
      " 7   년       30061 non-null  UInt32        \n",
      " 8   월       30061 non-null  int64         \n",
      " 9   요일      30061 non-null  category      \n",
      "dtypes: UInt32(2), category(1), datetime64[ns](1), int64(2), object(4)\n",
      "memory usage: 1.9+ MB\n"
     ]
    }
   ],
   "source": [
    "corona_df.info()"
   ]
  },
  {
   "cell_type": "code",
   "execution_count": 30,
   "metadata": {},
   "outputs": [
    {
     "data": {
      "text/plain": [
       "<bound method NDFrame.tail of 0        10\n",
       "1        10\n",
       "2        10\n",
       "3        10\n",
       "4        10\n",
       "         ..\n",
       "30056     5\n",
       "30057     5\n",
       "30058     5\n",
       "30059     5\n",
       "30060     4\n",
       "Name: 주, Length: 30061, dtype: int64>"
      ]
     },
     "execution_count": 30,
     "metadata": {},
     "output_type": "execute_result"
    }
   ],
   "source": [
    "corona_df['주'].tail"
   ]
  },
  {
   "cell_type": "markdown",
   "metadata": {},
   "source": [
    "## 확진자 수 변화 추이 시각화"
   ]
  },
  {
   "cell_type": "code",
   "execution_count": 219,
   "metadata": {
    "collapsed": true
   },
   "outputs": [
    {
     "data": {
      "text/plain": [
       "2020-12-17    588\n",
       "2020-12-24    566\n",
       "2020-12-28    524\n",
       "2020-12-25    430\n",
       "2020-12-16    427\n",
       "             ... \n",
       "2020-05-01      1\n",
       "2020-04-19      1\n",
       "2020-01-24      1\n",
       "2020-03-05      1\n",
       "2020-04-24      1\n",
       "Name: 확진일, Length: 384, dtype: int64"
      ]
     },
     "execution_count": 219,
     "metadata": {},
     "output_type": "execute_result"
    }
   ],
   "source": [
    "일자별_확진자수"
   ]
  },
  {
   "cell_type": "code",
   "execution_count": 96,
   "metadata": {
    "collapsed": true
   },
   "outputs": [
    {
     "data": {
      "image/png": "[encoded data removed]",
      "text/plain": [
       "<Figure size 1080x432 with 1 Axes>"
      ]
     },
     "metadata": {
      "needs_background": "light"
     },
     "output_type": "display_data"
    }
   ],
   "source": [
    "일자별_확진자수 = corona_df['확진일'].value_counts()  # 수업시간에 보기위해서 그림// datetime type으로 변경했기때문에 자동으로 순서데로 x축을 그림\n",
    "일자별_확진자수.plot(kind ='line', figsize =(15,6))\n",
    "\n",
    "plt.axhline(300, color = 'r', linestyle =':', label = '300명')\n",
    "plt.grid(True)\n",
    "plt.legend()\n",
    "plt.show()\n"
   ]
  },
  {
   "cell_type": "code",
   "execution_count": 221,
   "metadata": {
    "collapsed": true
   },
   "outputs": [
    {
     "data": {
      "text/plain": [
       "확진일\n",
       "2020-12-17    588\n",
       "2020-12-24    566\n",
       "2020-12-28    524\n",
       "2020-12-25    430\n",
       "2020-12-16    427\n",
       "             ... \n",
       "2020-03-05      1\n",
       "2020-05-17      1\n",
       "2020-04-24      1\n",
       "2020-05-01      1\n",
       "2020-01-24      1\n",
       "Name: ID, Length: 384, dtype: int64"
      ]
     },
     "execution_count": 221,
     "metadata": {},
     "output_type": "execute_result"
    }
   ],
   "source": [
    "corona_df.groupby('확진일')['ID'].count().sort_values(ascending = False)"
   ]
  },
  {
   "cell_type": "code",
   "execution_count": 237,
   "metadata": {},
   "outputs": [
    {
     "data": {
      "image/png": "[encoded data removed]",
      "text/plain": [
       "<Figure size 1080x432 with 1 Axes>"
      ]
     },
     "metadata": {
      "needs_background": "light"
     },
     "output_type": "display_data"
    }
   ],
   "source": [
    "plt.figure(figsize = (15,6))\n",
    "corona_df.groupby('확진일')['ID'].count().plot(kind = 'line')\n",
    "\n",
    "plt.axhline(300,color ='k', label = '300', linestyle = '--')\n",
    "plt.grid()\n",
    "plt.legend(fontsize = 20)\n",
    "plt.show()"
   ]
  },
  {
   "cell_type": "code",
   "execution_count": 234,
   "metadata": {
    "collapsed": true
   },
   "outputs": [
    {
     "data": {
      "text/html": [
       "<div>\n",
       "<style scoped>\n",
       "    .dataframe tbody tr th:only-of-type {\n",
       "        vertical-align: middle;\n",
       "    }\n",
       "\n",
       "    .dataframe tbody tr th {\n",
       "        vertical-align: top;\n",
       "    }\n",
       "\n",
       "    .dataframe thead th {\n",
       "        text-align: right;\n",
       "    }\n",
       "</style>\n",
       "<table border=\"1\" class=\"dataframe\">\n",
       "  <thead>\n",
       "    <tr style=\"text-align: right;\">\n",
       "      <th></th>\n",
       "      <th>ID</th>\n",
       "    </tr>\n",
       "    <tr>\n",
       "      <th>확진일</th>\n",
       "      <th></th>\n",
       "    </tr>\n",
       "  </thead>\n",
       "  <tbody>\n",
       "    <tr>\n",
       "      <th>2020-12-17</th>\n",
       "      <td>588</td>\n",
       "    </tr>\n",
       "    <tr>\n",
       "      <th>2020-12-24</th>\n",
       "      <td>566</td>\n",
       "    </tr>\n",
       "    <tr>\n",
       "      <th>2020-12-28</th>\n",
       "      <td>524</td>\n",
       "    </tr>\n",
       "    <tr>\n",
       "      <th>2020-12-25</th>\n",
       "      <td>430</td>\n",
       "    </tr>\n",
       "    <tr>\n",
       "      <th>2020-12-16</th>\n",
       "      <td>427</td>\n",
       "    </tr>\n",
       "    <tr>\n",
       "      <th>...</th>\n",
       "      <td>...</td>\n",
       "    </tr>\n",
       "    <tr>\n",
       "      <th>2020-04-30</th>\n",
       "      <td>1</td>\n",
       "    </tr>\n",
       "    <tr>\n",
       "      <th>2020-05-01</th>\n",
       "      <td>1</td>\n",
       "    </tr>\n",
       "    <tr>\n",
       "      <th>2020-02-02</th>\n",
       "      <td>1</td>\n",
       "    </tr>\n",
       "    <tr>\n",
       "      <th>2020-03-05</th>\n",
       "      <td>1</td>\n",
       "    </tr>\n",
       "    <tr>\n",
       "      <th>2020-01-24</th>\n",
       "      <td>1</td>\n",
       "    </tr>\n",
       "  </tbody>\n",
       "</table>\n",
       "<p>384 rows × 1 columns</p>\n",
       "</div>"
      ],
      "text/plain": [
       "             ID\n",
       "확진일            \n",
       "2020-12-17  588\n",
       "2020-12-24  566\n",
       "2020-12-28  524\n",
       "2020-12-25  430\n",
       "2020-12-16  427\n",
       "...         ...\n",
       "2020-04-30    1\n",
       "2020-05-01    1\n",
       "2020-02-02    1\n",
       "2020-03-05    1\n",
       "2020-01-24    1\n",
       "\n",
       "[384 rows x 1 columns]"
      ]
     },
     "execution_count": 234,
     "metadata": {},
     "output_type": "execute_result"
    }
   ],
   "source": [
    "확진일별확진자=corona_df.pivot_table(index = '확진일',values = 'ID',aggfunc='count')\n",
    "확진일별확진자.sort_values(\"ID\",ascending = False)"
   ]
  },
  {
   "cell_type": "code",
   "execution_count": 34,
   "metadata": {
    "collapsed": true
   },
   "outputs": [
    {
     "data": {
      "image/png": "[encoded data removed]",
      "text/plain": [
       "<Figure size 1440x504 with 1 Axes>"
      ]
     },
     "metadata": {
      "needs_background": "light"
     },
     "output_type": "display_data"
    }
   ],
   "source": [
    "plt.figure(figsize = (20,7))\n",
    "sns.lineplot(x = 확진일별확진자.index, y ='ID' ,data =확진일별확진자)\n",
    "\n",
    "plt.ylabel('확진자수')\n",
    "#plt.xticks(확진일별확진자.index)\n",
    "plt.show()"
   ]
  },
  {
   "cell_type": "markdown",
   "metadata": {},
   "source": [
    "## 2020년 12월 이후 확진일 기준으로 확진자 수 변화 추이 시각화"
   ]
  },
  {
   "cell_type": "code",
   "execution_count": 238,
   "metadata": {},
   "outputs": [
    {
     "data": {
      "text/plain": [
       "2020-12-17    588\n",
       "2020-12-24    566\n",
       "2020-12-28    524\n",
       "2020-12-25    430\n",
       "2020-12-16    427\n",
       "             ... \n",
       "2021-01-24    101\n",
       "2021-01-30    100\n",
       "2021-03-07     99\n",
       "2021-02-28     92\n",
       "2021-02-08     91\n",
       "Name: 확진일, Length: 104, dtype: int64"
      ]
     },
     "execution_count": 238,
     "metadata": {},
     "output_type": "execute_result"
    }
   ],
   "source": [
    "일자별확진자_12월이후=corona_df.loc[corona_df['확진일']>='2020-12-01','확진일'].value_counts()\n",
    "일자별확진자_12월이후"
   ]
  },
  {
   "cell_type": "code",
   "execution_count": 128,
   "metadata": {
    "collapsed": true
   },
   "outputs": [
    {
     "data": {
      "image/png": "[encoded data removed]",
      "text/plain": [
       "<Figure size 1080x432 with 1 Axes>"
      ]
     },
     "metadata": {
      "needs_background": "light"
     },
     "output_type": "display_data"
    }
   ],
   "source": [
    "일자별확진자_12월이후.plot(kind = 'line', figsize =(15,6))\n",
    "\n",
    "plt.grid(True)\n",
    "plt.axhline(300, color ='r', linestyle =':', label = \"300명\" )\n",
    "plt.legend()\n",
    "plt.show()"
   ]
  },
  {
   "cell_type": "code",
   "execution_count": null,
   "metadata": {},
   "outputs": [],
   "source": []
  },
  {
   "cell_type": "code",
   "execution_count": null,
   "metadata": {},
   "outputs": [],
   "source": []
  },
  {
   "cell_type": "code",
   "execution_count": null,
   "metadata": {},
   "outputs": [],
   "source": []
  },
  {
   "cell_type": "code",
   "execution_count": 35,
   "metadata": {
    "collapsed": true
   },
   "outputs": [
    {
     "data": {
      "text/html": [
       "<div>\n",
       "<style scoped>\n",
       "    .dataframe tbody tr th:only-of-type {\n",
       "        vertical-align: middle;\n",
       "    }\n",
       "\n",
       "    .dataframe tbody tr th {\n",
       "        vertical-align: top;\n",
       "    }\n",
       "\n",
       "    .dataframe thead th {\n",
       "        text-align: right;\n",
       "    }\n",
       "</style>\n",
       "<table border=\"1\" class=\"dataframe\">\n",
       "  <thead>\n",
       "    <tr style=\"text-align: right;\">\n",
       "      <th></th>\n",
       "      <th>ID</th>\n",
       "      <th>확진일</th>\n",
       "      <th>주</th>\n",
       "      <th>자치구</th>\n",
       "      <th>여행력</th>\n",
       "      <th>접촉력</th>\n",
       "      <th>현재상태</th>\n",
       "      <th>년</th>\n",
       "      <th>월</th>\n",
       "      <th>요일</th>\n",
       "    </tr>\n",
       "  </thead>\n",
       "  <tbody>\n",
       "    <tr>\n",
       "      <th>0</th>\n",
       "      <td>30061</td>\n",
       "      <td>2021-03-14</td>\n",
       "      <td>10</td>\n",
       "      <td>동대문구</td>\n",
       "      <td>NaN</td>\n",
       "      <td>동대문구 소재 병원 관련(\\'21.2.)</td>\n",
       "      <td>사망</td>\n",
       "      <td>2021</td>\n",
       "      <td>3</td>\n",
       "      <td>일</td>\n",
       "    </tr>\n",
       "    <tr>\n",
       "      <th>1</th>\n",
       "      <td>30060</td>\n",
       "      <td>2021-03-14</td>\n",
       "      <td>10</td>\n",
       "      <td>강동구</td>\n",
       "      <td>NaN</td>\n",
       "      <td>감염경로 조사중</td>\n",
       "      <td>NaN</td>\n",
       "      <td>2021</td>\n",
       "      <td>3</td>\n",
       "      <td>일</td>\n",
       "    </tr>\n",
       "    <tr>\n",
       "      <th>2</th>\n",
       "      <td>30059</td>\n",
       "      <td>2021-03-14</td>\n",
       "      <td>10</td>\n",
       "      <td>타시도</td>\n",
       "      <td>NaN</td>\n",
       "      <td>관악구 소재 미용업 관련</td>\n",
       "      <td>NaN</td>\n",
       "      <td>2021</td>\n",
       "      <td>3</td>\n",
       "      <td>일</td>\n",
       "    </tr>\n",
       "    <tr>\n",
       "      <th>3</th>\n",
       "      <td>30058</td>\n",
       "      <td>2021-03-14</td>\n",
       "      <td>10</td>\n",
       "      <td>마포구</td>\n",
       "      <td>NaN</td>\n",
       "      <td>감염경로 조사중</td>\n",
       "      <td>NaN</td>\n",
       "      <td>2021</td>\n",
       "      <td>3</td>\n",
       "      <td>일</td>\n",
       "    </tr>\n",
       "    <tr>\n",
       "      <th>4</th>\n",
       "      <td>30057</td>\n",
       "      <td>2021-03-14</td>\n",
       "      <td>10</td>\n",
       "      <td>서대문구</td>\n",
       "      <td>NaN</td>\n",
       "      <td>타시도 확진자 접촉</td>\n",
       "      <td>NaN</td>\n",
       "      <td>2021</td>\n",
       "      <td>3</td>\n",
       "      <td>일</td>\n",
       "    </tr>\n",
       "    <tr>\n",
       "      <th>...</th>\n",
       "      <td>...</td>\n",
       "      <td>...</td>\n",
       "      <td>...</td>\n",
       "      <td>...</td>\n",
       "      <td>...</td>\n",
       "      <td>...</td>\n",
       "      <td>...</td>\n",
       "      <td>...</td>\n",
       "      <td>...</td>\n",
       "      <td>...</td>\n",
       "    </tr>\n",
       "    <tr>\n",
       "      <th>10700</th>\n",
       "      <td>19361</td>\n",
       "      <td>2021-01-01</td>\n",
       "      <td>53</td>\n",
       "      <td>동작구</td>\n",
       "      <td>NaN</td>\n",
       "      <td>감염경로 조사중</td>\n",
       "      <td>NaN</td>\n",
       "      <td>2021</td>\n",
       "      <td>1</td>\n",
       "      <td>금</td>\n",
       "    </tr>\n",
       "    <tr>\n",
       "      <th>10701</th>\n",
       "      <td>19360</td>\n",
       "      <td>2021-01-01</td>\n",
       "      <td>53</td>\n",
       "      <td>금천구</td>\n",
       "      <td>NaN</td>\n",
       "      <td>감염경로 조사중</td>\n",
       "      <td>NaN</td>\n",
       "      <td>2021</td>\n",
       "      <td>1</td>\n",
       "      <td>금</td>\n",
       "    </tr>\n",
       "    <tr>\n",
       "      <th>10702</th>\n",
       "      <td>19359</td>\n",
       "      <td>2021-01-01</td>\n",
       "      <td>53</td>\n",
       "      <td>동작구</td>\n",
       "      <td>NaN</td>\n",
       "      <td>기타 확진자 접촉</td>\n",
       "      <td>NaN</td>\n",
       "      <td>2021</td>\n",
       "      <td>1</td>\n",
       "      <td>금</td>\n",
       "    </tr>\n",
       "    <tr>\n",
       "      <th>10703</th>\n",
       "      <td>19358</td>\n",
       "      <td>2021-01-01</td>\n",
       "      <td>53</td>\n",
       "      <td>성동구</td>\n",
       "      <td>NaN</td>\n",
       "      <td>감염경로 조사중</td>\n",
       "      <td>NaN</td>\n",
       "      <td>2021</td>\n",
       "      <td>1</td>\n",
       "      <td>금</td>\n",
       "    </tr>\n",
       "    <tr>\n",
       "      <th>10704</th>\n",
       "      <td>19357</td>\n",
       "      <td>2021-01-01</td>\n",
       "      <td>53</td>\n",
       "      <td>강북구</td>\n",
       "      <td>NaN</td>\n",
       "      <td>감염경로 조사중</td>\n",
       "      <td>NaN</td>\n",
       "      <td>2021</td>\n",
       "      <td>1</td>\n",
       "      <td>금</td>\n",
       "    </tr>\n",
       "  </tbody>\n",
       "</table>\n",
       "<p>10667 rows × 10 columns</p>\n",
       "</div>"
      ],
      "text/plain": [
       "          ID        확진일   주   자치구  여행력                     접촉력 현재상태     년  월  \\\n",
       "0      30061 2021-03-14  10  동대문구  NaN  동대문구 소재 병원 관련(\\'21.2.)   사망  2021  3   \n",
       "1      30060 2021-03-14  10   강동구  NaN                감염경로 조사중  NaN  2021  3   \n",
       "2      30059 2021-03-14  10   타시도  NaN           관악구 소재 미용업 관련  NaN  2021  3   \n",
       "3      30058 2021-03-14  10   마포구  NaN                감염경로 조사중  NaN  2021  3   \n",
       "4      30057 2021-03-14  10  서대문구  NaN              타시도 확진자 접촉  NaN  2021  3   \n",
       "...      ...        ...  ..   ...  ...                     ...  ...   ... ..   \n",
       "10700  19361 2021-01-01  53   동작구  NaN                감염경로 조사중  NaN  2021  1   \n",
       "10701  19360 2021-01-01  53   금천구  NaN                감염경로 조사중  NaN  2021  1   \n",
       "10702  19359 2021-01-01  53   동작구  NaN               기타 확진자 접촉  NaN  2021  1   \n",
       "10703  19358 2021-01-01  53   성동구  NaN                감염경로 조사중  NaN  2021  1   \n",
       "10704  19357 2021-01-01  53   강북구  NaN                감염경로 조사중  NaN  2021  1   \n",
       "\n",
       "      요일  \n",
       "0      일  \n",
       "1      일  \n",
       "2      일  \n",
       "3      일  \n",
       "4      일  \n",
       "...   ..  \n",
       "10700  금  \n",
       "10701  금  \n",
       "10702  금  \n",
       "10703  금  \n",
       "10704  금  \n",
       "\n",
       "[10667 rows x 10 columns]"
      ]
     },
     "execution_count": 35,
     "metadata": {},
     "output_type": "execute_result"
    }
   ],
   "source": [
    "# 12월 이후라고 해서 다음 년도 인줄 알았음 \n",
    "\n",
    "이번년도확진자=corona_df[corona_df['년']>2020]  #내가\n",
    "이번년도확진자"
   ]
  },
  {
   "cell_type": "code",
   "execution_count": 36,
   "metadata": {
    "collapsed": true
   },
   "outputs": [
    {
     "data": {
      "image/png": "[encoded data removed]",
      "text/plain": [
       "<Figure size 1440x504 with 1 Axes>"
      ]
     },
     "metadata": {
      "needs_background": "light"
     },
     "output_type": "display_data"
    }
   ],
   "source": [
    "plt.figure(figsize =(20,7))# 내가\n",
    "\n",
    "이번년도확진자.groupby('확진일')['ID'].count().plot(kind= 'line')\n",
    "plt.show()"
   ]
  },
  {
   "cell_type": "code",
   "execution_count": null,
   "metadata": {},
   "outputs": [],
   "source": []
  },
  {
   "cell_type": "markdown",
   "metadata": {},
   "source": [
    "## 년도-주 단위 확진자 수 변화 추이 시각화\n",
    "- ex) 2020년 1주차, 2020년 2주차 ... "
   ]
  },
  {
   "cell_type": "code",
   "execution_count": null,
   "metadata": {},
   "outputs": [],
   "source": []
  },
  {
   "cell_type": "code",
   "execution_count": 239,
   "metadata": {
    "collapsed": true
   },
   "outputs": [
    {
     "data": {
      "text/html": [
       "<div>\n",
       "<style scoped>\n",
       "    .dataframe tbody tr th:only-of-type {\n",
       "        vertical-align: middle;\n",
       "    }\n",
       "\n",
       "    .dataframe tbody tr th {\n",
       "        vertical-align: top;\n",
       "    }\n",
       "\n",
       "    .dataframe thead th {\n",
       "        text-align: right;\n",
       "    }\n",
       "</style>\n",
       "<table border=\"1\" class=\"dataframe\">\n",
       "  <thead>\n",
       "    <tr style=\"text-align: right;\">\n",
       "      <th></th>\n",
       "      <th>year</th>\n",
       "      <th>week</th>\n",
       "      <th>day</th>\n",
       "    </tr>\n",
       "  </thead>\n",
       "  <tbody>\n",
       "    <tr>\n",
       "      <th>0</th>\n",
       "      <td>2021</td>\n",
       "      <td>10</td>\n",
       "      <td>7</td>\n",
       "    </tr>\n",
       "    <tr>\n",
       "      <th>1</th>\n",
       "      <td>2021</td>\n",
       "      <td>10</td>\n",
       "      <td>7</td>\n",
       "    </tr>\n",
       "    <tr>\n",
       "      <th>2</th>\n",
       "      <td>2021</td>\n",
       "      <td>10</td>\n",
       "      <td>7</td>\n",
       "    </tr>\n",
       "    <tr>\n",
       "      <th>3</th>\n",
       "      <td>2021</td>\n",
       "      <td>10</td>\n",
       "      <td>7</td>\n",
       "    </tr>\n",
       "    <tr>\n",
       "      <th>4</th>\n",
       "      <td>2021</td>\n",
       "      <td>10</td>\n",
       "      <td>7</td>\n",
       "    </tr>\n",
       "    <tr>\n",
       "      <th>...</th>\n",
       "      <td>...</td>\n",
       "      <td>...</td>\n",
       "      <td>...</td>\n",
       "    </tr>\n",
       "    <tr>\n",
       "      <th>30056</th>\n",
       "      <td>2020</td>\n",
       "      <td>5</td>\n",
       "      <td>5</td>\n",
       "    </tr>\n",
       "    <tr>\n",
       "      <th>30057</th>\n",
       "      <td>2020</td>\n",
       "      <td>5</td>\n",
       "      <td>4</td>\n",
       "    </tr>\n",
       "    <tr>\n",
       "      <th>30058</th>\n",
       "      <td>2020</td>\n",
       "      <td>5</td>\n",
       "      <td>4</td>\n",
       "    </tr>\n",
       "    <tr>\n",
       "      <th>30059</th>\n",
       "      <td>2020</td>\n",
       "      <td>5</td>\n",
       "      <td>4</td>\n",
       "    </tr>\n",
       "    <tr>\n",
       "      <th>30060</th>\n",
       "      <td>2020</td>\n",
       "      <td>4</td>\n",
       "      <td>5</td>\n",
       "    </tr>\n",
       "  </tbody>\n",
       "</table>\n",
       "<p>30061 rows × 3 columns</p>\n",
       "</div>"
      ],
      "text/plain": [
       "       year  week  day\n",
       "0      2021    10    7\n",
       "1      2021    10    7\n",
       "2      2021    10    7\n",
       "3      2021    10    7\n",
       "4      2021    10    7\n",
       "...     ...   ...  ...\n",
       "30056  2020     5    5\n",
       "30057  2020     5    4\n",
       "30058  2020     5    4\n",
       "30059  2020     5    4\n",
       "30060  2020     4    5\n",
       "\n",
       "[30061 rows x 3 columns]"
      ]
     },
     "execution_count": 239,
     "metadata": {},
     "output_type": "execute_result"
    }
   ],
   "source": [
    "corona_df['확진일'].dt.isocalendar()"
   ]
  },
  {
   "cell_type": "code",
   "execution_count": 136,
   "metadata": {
    "collapsed": true
   },
   "outputs": [
    {
     "data": {
      "text/html": [
       "<div>\n",
       "<style scoped>\n",
       "    .dataframe tbody tr th:only-of-type {\n",
       "        vertical-align: middle;\n",
       "    }\n",
       "\n",
       "    .dataframe tbody tr th {\n",
       "        vertical-align: top;\n",
       "    }\n",
       "\n",
       "    .dataframe thead th {\n",
       "        text-align: right;\n",
       "    }\n",
       "</style>\n",
       "<table border=\"1\" class=\"dataframe\">\n",
       "  <thead>\n",
       "    <tr style=\"text-align: right;\">\n",
       "      <th></th>\n",
       "      <th>year</th>\n",
       "      <th>week</th>\n",
       "      <th>day</th>\n",
       "    </tr>\n",
       "  </thead>\n",
       "  <tbody>\n",
       "    <tr>\n",
       "      <th>0</th>\n",
       "      <td>2021</td>\n",
       "      <td>10</td>\n",
       "      <td>7</td>\n",
       "    </tr>\n",
       "    <tr>\n",
       "      <th>1</th>\n",
       "      <td>2021</td>\n",
       "      <td>10</td>\n",
       "      <td>7</td>\n",
       "    </tr>\n",
       "    <tr>\n",
       "      <th>2</th>\n",
       "      <td>2021</td>\n",
       "      <td>10</td>\n",
       "      <td>7</td>\n",
       "    </tr>\n",
       "    <tr>\n",
       "      <th>3</th>\n",
       "      <td>2021</td>\n",
       "      <td>10</td>\n",
       "      <td>7</td>\n",
       "    </tr>\n",
       "    <tr>\n",
       "      <th>4</th>\n",
       "      <td>2021</td>\n",
       "      <td>10</td>\n",
       "      <td>7</td>\n",
       "    </tr>\n",
       "    <tr>\n",
       "      <th>...</th>\n",
       "      <td>...</td>\n",
       "      <td>...</td>\n",
       "      <td>...</td>\n",
       "    </tr>\n",
       "    <tr>\n",
       "      <th>30056</th>\n",
       "      <td>2020</td>\n",
       "      <td>5</td>\n",
       "      <td>5</td>\n",
       "    </tr>\n",
       "    <tr>\n",
       "      <th>30057</th>\n",
       "      <td>2020</td>\n",
       "      <td>5</td>\n",
       "      <td>4</td>\n",
       "    </tr>\n",
       "    <tr>\n",
       "      <th>30058</th>\n",
       "      <td>2020</td>\n",
       "      <td>5</td>\n",
       "      <td>4</td>\n",
       "    </tr>\n",
       "    <tr>\n",
       "      <th>30059</th>\n",
       "      <td>2020</td>\n",
       "      <td>5</td>\n",
       "      <td>4</td>\n",
       "    </tr>\n",
       "    <tr>\n",
       "      <th>30060</th>\n",
       "      <td>2020</td>\n",
       "      <td>4</td>\n",
       "      <td>5</td>\n",
       "    </tr>\n",
       "  </tbody>\n",
       "</table>\n",
       "<p>30061 rows × 3 columns</p>\n",
       "</div>"
      ],
      "text/plain": [
       "       year  week  day\n",
       "0      2021    10    7\n",
       "1      2021    10    7\n",
       "2      2021    10    7\n",
       "3      2021    10    7\n",
       "4      2021    10    7\n",
       "...     ...   ...  ...\n",
       "30056  2020     5    5\n",
       "30057  2020     5    4\n",
       "30058  2020     5    4\n",
       "30059  2020     5    4\n",
       "30060  2020     4    5\n",
       "\n",
       "[30061 rows x 3 columns]"
      ]
     },
     "execution_count": 136,
     "metadata": {},
     "output_type": "execute_result"
    }
   ],
   "source": [
    "corona_df['확진일'].dt.isocalendar()#.groupby(['year','week'])['year'].count()"
   ]
  },
  {
   "cell_type": "code",
   "execution_count": 242,
   "metadata": {
    "scrolled": true
   },
   "outputs": [
    {
     "data": {
      "text/plain": [
       "년     주 \n",
       "2020  4        1\n",
       "      5        7\n",
       "      6        4\n",
       "      7        2\n",
       "      8       17\n",
       "      9       61\n",
       "      10      38\n",
       "      11     124\n",
       "      12      76\n",
       "      13     105\n",
       "      14     129\n",
       "      15      47\n",
       "      16      15\n",
       "      17       3\n",
       "      18       8\n",
       "      19      52\n",
       "      20      47\n",
       "      21      39\n",
       "      22      88\n",
       "      23     134\n",
       "      24     125\n",
       "      25     105\n",
       "      26      78\n",
       "      27      67\n",
       "      28      57\n",
       "      29      48\n",
       "      30      97\n",
       "      31      38\n",
       "      32      76\n",
       "      33     394\n",
       "      34     912\n",
       "      35     921\n",
       "      36     459\n",
       "      37     341\n",
       "      38     280\n",
       "      39     237\n",
       "      40     164\n",
       "      41     170\n",
       "      42     139\n",
       "      43     127\n",
       "      44     250\n",
       "      45     291\n",
       "      46     432\n",
       "      47     820\n",
       "      48    1182\n",
       "      49    1627\n",
       "      50    1977\n",
       "      51    2655\n",
       "      52    2696\n",
       "      53    2401\n",
       "2021  1     1456\n",
       "      2     1002\n",
       "      3      844\n",
       "      4      809\n",
       "      5     1010\n",
       "      6     1044\n",
       "      7     1149\n",
       "      8      848\n",
       "      9      854\n",
       "      10     882\n",
       "Name: ID, dtype: int64"
      ]
     },
     "execution_count": 242,
     "metadata": {},
     "output_type": "execute_result"
    }
   ],
   "source": [
    "년도_주_확진자=corona_df.groupby(['년','주'])['ID'].count()\n",
    "년도_주_확진자"
   ]
  },
  {
   "cell_type": "code",
   "execution_count": 245,
   "metadata": {},
   "outputs": [
    {
     "data": {
      "text/plain": [
       "60"
      ]
     },
     "execution_count": 245,
     "metadata": {},
     "output_type": "execute_result"
    }
   ],
   "source": [
    "년도_주_확진자.size"
   ]
  },
  {
   "cell_type": "code",
   "execution_count": 255,
   "metadata": {},
   "outputs": [
    {
     "data": {
      "image/png": "[encoded data removed]",
      "text/plain": [
       "<Figure size 1440x360 with 1 Axes>"
      ]
     },
     "metadata": {
      "needs_background": "light"
     },
     "output_type": "display_data"
    }
   ],
   "source": [
    "plt.figure(figsize = (20,5))\n",
    "년도_주_확진자.plot(kind='line')\n",
    "\n",
    "plt.xticks(ticks = range(0,년도_주_확진자.size,5),\n",
    "           labels = [f'{year}년 {week}주 'for i, (year, week) in enumerate(년도_주_확진자.index) if i%5==0],\n",
    "           rotation =30)\n",
    "\n",
    "plt.show()\n",
    "\n",
    "\n",
    "#주를 isocalendar로 빼오니까 해결됐어요!\n"
   ]
  },
  {
   "cell_type": "markdown",
   "metadata": {},
   "source": [
    "## 년-월 단위  확진자수 조회 및 시각화"
   ]
  },
  {
   "cell_type": "code",
   "execution_count": 256,
   "metadata": {
    "collapsed": true
   },
   "outputs": [
    {
     "data": {
      "text/plain": [
       "년     월 \n",
       "2020  1       776\n",
       "      2        80\n",
       "      3       391\n",
       "      4       156\n",
       "      5       229\n",
       "      6       459\n",
       "      7       281\n",
       "      8      2415\n",
       "      9      1306\n",
       "      10      733\n",
       "      11     2904\n",
       "      12    10433\n",
       "2021  1      4111\n",
       "      2      4051\n",
       "      3      1736\n",
       "Name: ID, dtype: int64"
      ]
     },
     "execution_count": 256,
     "metadata": {},
     "output_type": "execute_result"
    }
   ],
   "source": [
    "년_월별_확진자수=corona_df.groupby(['년','월'])['ID'].count()\n",
    "년_월별_확진자수"
   ]
  },
  {
   "cell_type": "code",
   "execution_count": 109,
   "metadata": {
    "collapsed": true
   },
   "outputs": [
    {
     "data": {
      "image/png": "[encoded data removed]",
      "text/plain": [
       "<Figure size 1080x360 with 1 Axes>"
      ]
     },
     "metadata": {
      "needs_background": "light"
     },
     "output_type": "display_data"
    }
   ],
   "source": [
    "plt.figure(figsize = (15,5))\n",
    "년_월별_확진자수.plot(kind='line')\n",
    "plt.show()"
   ]
  },
  {
   "cell_type": "code",
   "execution_count": 260,
   "metadata": {
    "collapsed": true
   },
   "outputs": [
    {
     "data": {
      "text/plain": [
       "년     월 \n",
       "2020  1       776\n",
       "      2        80\n",
       "      3       391\n",
       "      4       156\n",
       "      5       229\n",
       "      6       459\n",
       "      7       281\n",
       "      8      2415\n",
       "      9      1306\n",
       "      10      733\n",
       "      11     2904\n",
       "      12    10433\n",
       "2021  1      4111\n",
       "      2      4051\n",
       "      3      1736\n",
       "Name: ID, dtype: int64"
      ]
     },
     "execution_count": 260,
     "metadata": {},
     "output_type": "execute_result"
    }
   ],
   "source": [
    "년_월별_확진자수"
   ]
  },
  {
   "cell_type": "code",
   "execution_count": 261,
   "metadata": {},
   "outputs": [
    {
     "data": {
      "image/png": "[encoded data removed]",
      "text/plain": [
       "<Figure size 1080x360 with 1 Axes>"
      ]
     },
     "metadata": {
      "needs_background": "light"
     },
     "output_type": "display_data"
    }
   ],
   "source": [
    "plt.figure(figsize = (15,5))\n",
    "\n",
    "년_월별_확진자수.plot(kind = 'bar', rot=45)\n",
    "\n",
    "plt.xticks(ticks = range(0,년_월별_확진자수.size),\n",
    "           labels = [f'{year}년 {month}월' for i, (year,month) in enumerate(년_월별_확진자수.index)])\n",
    "\n",
    "\n",
    "plt.show()"
   ]
  },
  {
   "cell_type": "markdown",
   "metadata": {},
   "source": [
    "## 월-요일별 확진자수 조회 및 시각화"
   ]
  },
  {
   "cell_type": "code",
   "execution_count": 118,
   "metadata": {
    "scrolled": true
   },
   "outputs": [
    {
     "data": {
      "text/plain": [
       "월   요일\n",
       "1   금        4\n",
       "    목        3\n",
       "2   금       14\n",
       "    목       16\n",
       "    수       14\n",
       "          ... \n",
       "12  수     1647\n",
       "    월     1335\n",
       "    일     1092\n",
       "    토     1273\n",
       "    화     1604\n",
       "Name: ID, Length: 79, dtype: int64"
      ]
     },
     "execution_count": 118,
     "metadata": {},
     "output_type": "execute_result"
    }
   ],
   "source": [
    "월_요일별_확진자수_2020=corona_df[corona_df['년']==2020].groupby(['월','요일'])['ID'].count()\n",
    "월_요일별_확진자수_2020"
   ]
  },
  {
   "cell_type": "code",
   "execution_count": 119,
   "metadata": {},
   "outputs": [
    {
     "data": {
      "image/png": "[encoded data removed]",
      "text/plain": [
       "<Figure size 1080x360 with 1 Axes>"
      ]
     },
     "metadata": {
      "needs_background": "light"
     },
     "output_type": "display_data"
    }
   ],
   "source": [
    "plt.figure(figsize = (15,5))\n",
    "월_요일별_확진자수_2020.plot(kind='line')\n",
    "\n",
    "#plt.xticks(ticks = range(1,13))\n",
    "plt.show()"
   ]
  },
  {
   "cell_type": "code",
   "execution_count": 126,
   "metadata": {
    "scrolled": true
   },
   "outputs": [
    {
     "data": {
      "image/png": "[encoded data removed]",
      "text/plain": [
       "<Figure size 720x1440 with 1 Axes>"
      ]
     },
     "metadata": {
      "needs_background": "light"
     },
     "output_type": "display_data"
    }
   ],
   "source": [
    "plt.figure(figsize = (10,20))\n",
    "월_요일별_확진자수_2020.plot(kind='barh')\n",
    "plt.show()"
   ]
  },
  {
   "cell_type": "code",
   "execution_count": 264,
   "metadata": {},
   "outputs": [
    {
     "data": {
      "text/html": [
       "<div>\n",
       "<style scoped>\n",
       "    .dataframe tbody tr th:only-of-type {\n",
       "        vertical-align: middle;\n",
       "    }\n",
       "\n",
       "    .dataframe tbody tr th {\n",
       "        vertical-align: top;\n",
       "    }\n",
       "\n",
       "    .dataframe thead th {\n",
       "        text-align: right;\n",
       "    }\n",
       "</style>\n",
       "<table border=\"1\" class=\"dataframe\">\n",
       "  <thead>\n",
       "    <tr style=\"text-align: right;\">\n",
       "      <th>요일</th>\n",
       "      <th>월</th>\n",
       "      <th>화</th>\n",
       "      <th>수</th>\n",
       "      <th>목</th>\n",
       "      <th>금</th>\n",
       "      <th>토</th>\n",
       "      <th>일</th>\n",
       "    </tr>\n",
       "    <tr>\n",
       "      <th>월</th>\n",
       "      <th></th>\n",
       "      <th></th>\n",
       "      <th></th>\n",
       "      <th></th>\n",
       "      <th></th>\n",
       "      <th></th>\n",
       "      <th></th>\n",
       "    </tr>\n",
       "  </thead>\n",
       "  <tbody>\n",
       "    <tr>\n",
       "      <th>1</th>\n",
       "      <td>0</td>\n",
       "      <td>0</td>\n",
       "      <td>0</td>\n",
       "      <td>3</td>\n",
       "      <td>252</td>\n",
       "      <td>191</td>\n",
       "      <td>330</td>\n",
       "    </tr>\n",
       "    <tr>\n",
       "      <th>2</th>\n",
       "      <td>4</td>\n",
       "      <td>16</td>\n",
       "      <td>14</td>\n",
       "      <td>16</td>\n",
       "      <td>14</td>\n",
       "      <td>10</td>\n",
       "      <td>6</td>\n",
       "    </tr>\n",
       "    <tr>\n",
       "      <th>3</th>\n",
       "      <td>68</td>\n",
       "      <td>89</td>\n",
       "      <td>48</td>\n",
       "      <td>44</td>\n",
       "      <td>48</td>\n",
       "      <td>45</td>\n",
       "      <td>49</td>\n",
       "    </tr>\n",
       "    <tr>\n",
       "      <th>4</th>\n",
       "      <td>15</td>\n",
       "      <td>17</td>\n",
       "      <td>28</td>\n",
       "      <td>28</td>\n",
       "      <td>26</td>\n",
       "      <td>23</td>\n",
       "      <td>19</td>\n",
       "    </tr>\n",
       "    <tr>\n",
       "      <th>5</th>\n",
       "      <td>26</td>\n",
       "      <td>37</td>\n",
       "      <td>33</td>\n",
       "      <td>34</td>\n",
       "      <td>32</td>\n",
       "      <td>36</td>\n",
       "      <td>31</td>\n",
       "    </tr>\n",
       "    <tr>\n",
       "      <th>6</th>\n",
       "      <td>55</td>\n",
       "      <td>65</td>\n",
       "      <td>66</td>\n",
       "      <td>74</td>\n",
       "      <td>92</td>\n",
       "      <td>69</td>\n",
       "      <td>38</td>\n",
       "    </tr>\n",
       "    <tr>\n",
       "      <th>7</th>\n",
       "      <td>38</td>\n",
       "      <td>42</td>\n",
       "      <td>42</td>\n",
       "      <td>57</td>\n",
       "      <td>34</td>\n",
       "      <td>40</td>\n",
       "      <td>28</td>\n",
       "    </tr>\n",
       "    <tr>\n",
       "      <th>8</th>\n",
       "      <td>389</td>\n",
       "      <td>331</td>\n",
       "      <td>273</td>\n",
       "      <td>334</td>\n",
       "      <td>332</td>\n",
       "      <td>480</td>\n",
       "      <td>276</td>\n",
       "    </tr>\n",
       "    <tr>\n",
       "      <th>9</th>\n",
       "      <td>182</td>\n",
       "      <td>261</td>\n",
       "      <td>235</td>\n",
       "      <td>216</td>\n",
       "      <td>138</td>\n",
       "      <td>160</td>\n",
       "      <td>114</td>\n",
       "    </tr>\n",
       "    <tr>\n",
       "      <th>10</th>\n",
       "      <td>71</td>\n",
       "      <td>112</td>\n",
       "      <td>81</td>\n",
       "      <td>132</td>\n",
       "      <td>134</td>\n",
       "      <td>123</td>\n",
       "      <td>80</td>\n",
       "    </tr>\n",
       "    <tr>\n",
       "      <th>11</th>\n",
       "      <td>444</td>\n",
       "      <td>321</td>\n",
       "      <td>423</td>\n",
       "      <td>449</td>\n",
       "      <td>439</td>\n",
       "      <td>417</td>\n",
       "      <td>411</td>\n",
       "    </tr>\n",
       "    <tr>\n",
       "      <th>12</th>\n",
       "      <td>1335</td>\n",
       "      <td>1604</td>\n",
       "      <td>1647</td>\n",
       "      <td>2072</td>\n",
       "      <td>1410</td>\n",
       "      <td>1273</td>\n",
       "      <td>1092</td>\n",
       "    </tr>\n",
       "  </tbody>\n",
       "</table>\n",
       "</div>"
      ],
      "text/plain": [
       "요일     월     화     수     목     금     토     일\n",
       "월                                           \n",
       "1      0     0     0     3   252   191   330\n",
       "2      4    16    14    16    14    10     6\n",
       "3     68    89    48    44    48    45    49\n",
       "4     15    17    28    28    26    23    19\n",
       "5     26    37    33    34    32    36    31\n",
       "6     55    65    66    74    92    69    38\n",
       "7     38    42    42    57    34    40    28\n",
       "8    389   331   273   334   332   480   276\n",
       "9    182   261   235   216   138   160   114\n",
       "10    71   112    81   132   134   123    80\n",
       "11   444   321   423   449   439   417   411\n",
       "12  1335  1604  1647  2072  1410  1273  1092"
      ]
     },
     "execution_count": 264,
     "metadata": {},
     "output_type": "execute_result"
    }
   ],
   "source": [
    "월_요일별_확진자수2 = corona_df[corona_df['년']==2020].pivot_table(values ='ID',\n",
    "                                                                 index ='월',\n",
    "                                                                 columns ='요일',\n",
    "                                                                 aggfunc ='count',\n",
    "                                                                  fill_value =0)\n",
    "\n",
    "월_요일별_확진자수2 # 카테고리컬도 다시 해줘야함 isocalendar 한다음에 "
   ]
  },
  {
   "cell_type": "code",
   "execution_count": 143,
   "metadata": {
    "collapsed": true
   },
   "outputs": [
    {
     "data": {
      "image/png": "[encoded data removed]",
      "text/plain": [
       "<Figure size 1440x360 with 1 Axes>"
      ]
     },
     "metadata": {
      "needs_background": "light"
     },
     "output_type": "display_data"
    }
   ],
   "source": [
    "월_요일별_확진자수2.plot(kind ='bar', figsize= (20,5))\n",
    "plt.show()"
   ]
  },
  {
   "cell_type": "code",
   "execution_count": 265,
   "metadata": {},
   "outputs": [
    {
     "data": {
      "image/png": "[encoded data removed]",
      "text/plain": [
       "<Figure size 720x720 with 2 Axes>"
      ]
     },
     "metadata": {
      "needs_background": "light"
     },
     "output_type": "display_data"
    }
   ],
   "source": [
    "plt.figure(figsize=(10,10))\n",
    "\n",
    "sns.heatmap(월_요일별_확진자수2 , cmap ='Blues', annot =True, fmt='d')  # 결측치가 있을때는 d 를 넣으면 error발생\n",
    "\n",
    "plt.show()"
   ]
  },
  {
   "cell_type": "code",
   "execution_count": null,
   "metadata": {},
   "outputs": [],
   "source": []
  },
  {
   "cell_type": "code",
   "execution_count": null,
   "metadata": {},
   "outputs": [],
   "source": []
  },
  {
   "cell_type": "code",
   "execution_count": null,
   "metadata": {},
   "outputs": [],
   "source": []
  },
  {
   "cell_type": "code",
   "execution_count": 271,
   "metadata": {},
   "outputs": [
    {
     "data": {
      "text/plain": [
       "월  요일\n",
       "1  월     564\n",
       "   화     684\n",
       "   수     663\n",
       "   목     536\n",
       "   금     622\n",
       "   토     563\n",
       "   일     479\n",
       "2  월     495\n",
       "   화     767\n",
       "   수     661\n",
       "   목     592\n",
       "   금     534\n",
       "   토     537\n",
       "   일     465\n",
       "3  월     228\n",
       "   화     257\n",
       "   수     258\n",
       "   목     269\n",
       "   금     269\n",
       "   토     244\n",
       "   일     211\n",
       "Name: ID, dtype: int64"
      ]
     },
     "execution_count": 271,
     "metadata": {},
     "output_type": "execute_result"
    }
   ],
   "source": [
    "월_요일별_확진자수_2021=corona_df[corona_df['년']==2021].groupby(['월','요일'])['ID'].count()\n",
    "월_요일별_확진자수_2021"
   ]
  },
  {
   "cell_type": "code",
   "execution_count": 283,
   "metadata": {},
   "outputs": [
    {
     "data": {
      "image/png": "[encoded data removed]",
      "text/plain": [
       "<Figure size 1080x360 with 1 Axes>"
      ]
     },
     "metadata": {
      "needs_background": "light"
     },
     "output_type": "display_data"
    }
   ],
   "source": [
    "plt.figure(figsize = (15,5))\n",
    "월_요일별_확진자수_2021.plot(kind='line')\n",
    "\n",
    "\n",
    "plt.xticks(ticks = range(0,월_요일별_확진자수_2021.size,3),\n",
    "          labels = [f'{month}월 {day}요일 'for i, (month,day) in enumerate(월_요일별_확진자수_2021.index) if i%3==0]);"
   ]
  },
  {
   "cell_type": "code",
   "execution_count": null,
   "metadata": {},
   "outputs": [],
   "source": []
  },
  {
   "cell_type": "markdown",
   "metadata": {},
   "source": [
    "# 누적 확진자수 조회 및 변화 흐름 시각화\n",
    "- Series/DataFrame.cumsum()\n",
    "    - 누적 합계\n",
    "- Series.to_frame()\n",
    "    - Series를 DataFrame으로 변환"
   ]
  },
  {
   "cell_type": "markdown",
   "metadata": {},
   "source": [
    "## 일별 누적 확진자수 조회"
   ]
  },
  {
   "cell_type": "code",
   "execution_count": null,
   "metadata": {},
   "outputs": [],
   "source": []
  },
  {
   "cell_type": "code",
   "execution_count": null,
   "metadata": {},
   "outputs": [],
   "source": []
  },
  {
   "cell_type": "code",
   "execution_count": 40,
   "metadata": {
    "collapsed": true
   },
   "outputs": [
    {
     "data": {
      "text/html": [
       "<div>\n",
       "<style scoped>\n",
       "    .dataframe tbody tr th:only-of-type {\n",
       "        vertical-align: middle;\n",
       "    }\n",
       "\n",
       "    .dataframe tbody tr th {\n",
       "        vertical-align: top;\n",
       "    }\n",
       "\n",
       "    .dataframe thead th {\n",
       "        text-align: right;\n",
       "    }\n",
       "</style>\n",
       "<table border=\"1\" class=\"dataframe\">\n",
       "  <thead>\n",
       "    <tr style=\"text-align: right;\">\n",
       "      <th></th>\n",
       "      <th>ID</th>\n",
       "      <th>확진일</th>\n",
       "      <th>주</th>\n",
       "      <th>자치구</th>\n",
       "      <th>여행력</th>\n",
       "      <th>접촉력</th>\n",
       "      <th>현재상태</th>\n",
       "      <th>년</th>\n",
       "      <th>월</th>\n",
       "      <th>요일</th>\n",
       "    </tr>\n",
       "  </thead>\n",
       "  <tbody>\n",
       "    <tr>\n",
       "      <th>0</th>\n",
       "      <td>30061</td>\n",
       "      <td>2021-03-14</td>\n",
       "      <td>10</td>\n",
       "      <td>동대문구</td>\n",
       "      <td>NaN</td>\n",
       "      <td>동대문구 소재 병원 관련(\\'21.2.)</td>\n",
       "      <td>사망</td>\n",
       "      <td>2021</td>\n",
       "      <td>3</td>\n",
       "      <td>일</td>\n",
       "    </tr>\n",
       "  </tbody>\n",
       "</table>\n",
       "</div>"
      ],
      "text/plain": [
       "      ID        확진일   주   자치구  여행력                     접촉력 현재상태     년  월 요일\n",
       "0  30061 2021-03-14  10  동대문구  NaN  동대문구 소재 병원 관련(\\'21.2.)   사망  2021  3  일"
      ]
     },
     "execution_count": 40,
     "metadata": {},
     "output_type": "execute_result"
    }
   ],
   "source": [
    "corona_df.head(1)"
   ]
  },
  {
   "cell_type": "code",
   "execution_count": 155,
   "metadata": {},
   "outputs": [
    {
     "data": {
      "text/plain": [
       "확진일\n",
       "2020-01-24        1\n",
       "2020-01-30        4\n",
       "2020-01-31        7\n",
       "2020-02-02        8\n",
       "2020-02-05       10\n",
       "              ...  \n",
       "2021-03-10    29557\n",
       "2021-03-11    29697\n",
       "2021-03-12    29837\n",
       "2021-03-13    29949\n",
       "2021-03-14    30061\n",
       "Name: ID, Length: 384, dtype: int64"
      ]
     },
     "execution_count": 155,
     "metadata": {},
     "output_type": "execute_result"
    }
   ],
   "source": [
    "s=corona_df.groupby('확진일')['ID'].count().cumsum() # 확진일별 ID 행수 count==> 확진일별 확진자 수 \n",
    "s"
   ]
  },
  {
   "cell_type": "code",
   "execution_count": 159,
   "metadata": {
    "collapsed": true
   },
   "outputs": [
    {
     "data": {
      "text/html": [
       "<div>\n",
       "<style scoped>\n",
       "    .dataframe tbody tr th:only-of-type {\n",
       "        vertical-align: middle;\n",
       "    }\n",
       "\n",
       "    .dataframe tbody tr th {\n",
       "        vertical-align: top;\n",
       "    }\n",
       "\n",
       "    .dataframe thead th {\n",
       "        text-align: right;\n",
       "    }\n",
       "</style>\n",
       "<table border=\"1\" class=\"dataframe\">\n",
       "  <thead>\n",
       "    <tr style=\"text-align: right;\">\n",
       "      <th></th>\n",
       "      <th>ID</th>\n",
       "    </tr>\n",
       "    <tr>\n",
       "      <th>확진일</th>\n",
       "      <th></th>\n",
       "    </tr>\n",
       "  </thead>\n",
       "  <tbody>\n",
       "    <tr>\n",
       "      <th>2020-01-24</th>\n",
       "      <td>1</td>\n",
       "    </tr>\n",
       "    <tr>\n",
       "      <th>2020-01-30</th>\n",
       "      <td>4</td>\n",
       "    </tr>\n",
       "    <tr>\n",
       "      <th>2020-01-31</th>\n",
       "      <td>7</td>\n",
       "    </tr>\n",
       "    <tr>\n",
       "      <th>2020-02-02</th>\n",
       "      <td>8</td>\n",
       "    </tr>\n",
       "    <tr>\n",
       "      <th>2020-02-05</th>\n",
       "      <td>10</td>\n",
       "    </tr>\n",
       "    <tr>\n",
       "      <th>...</th>\n",
       "      <td>...</td>\n",
       "    </tr>\n",
       "    <tr>\n",
       "      <th>2021-03-10</th>\n",
       "      <td>29557</td>\n",
       "    </tr>\n",
       "    <tr>\n",
       "      <th>2021-03-11</th>\n",
       "      <td>29697</td>\n",
       "    </tr>\n",
       "    <tr>\n",
       "      <th>2021-03-12</th>\n",
       "      <td>29837</td>\n",
       "    </tr>\n",
       "    <tr>\n",
       "      <th>2021-03-13</th>\n",
       "      <td>29949</td>\n",
       "    </tr>\n",
       "    <tr>\n",
       "      <th>2021-03-14</th>\n",
       "      <td>30061</td>\n",
       "    </tr>\n",
       "  </tbody>\n",
       "</table>\n",
       "<p>384 rows × 1 columns</p>\n",
       "</div>"
      ],
      "text/plain": [
       "               ID\n",
       "확진일              \n",
       "2020-01-24      1\n",
       "2020-01-30      4\n",
       "2020-01-31      7\n",
       "2020-02-02      8\n",
       "2020-02-05     10\n",
       "...           ...\n",
       "2021-03-10  29557\n",
       "2021-03-11  29697\n",
       "2021-03-12  29837\n",
       "2021-03-13  29949\n",
       "2021-03-14  30061\n",
       "\n",
       "[384 rows x 1 columns]"
      ]
     },
     "execution_count": 159,
     "metadata": {},
     "output_type": "execute_result"
    }
   ],
   "source": [
    "cumsum_df=s.to_frame()\n",
    "cumsum_df"
   ]
  },
  {
   "cell_type": "code",
   "execution_count": 161,
   "metadata": {
    "collapsed": true
   },
   "outputs": [
    {
     "data": {
      "text/html": [
       "<div>\n",
       "<style scoped>\n",
       "    .dataframe tbody tr th:only-of-type {\n",
       "        vertical-align: middle;\n",
       "    }\n",
       "\n",
       "    .dataframe tbody tr th {\n",
       "        vertical-align: top;\n",
       "    }\n",
       "\n",
       "    .dataframe thead th {\n",
       "        text-align: right;\n",
       "    }\n",
       "</style>\n",
       "<table border=\"1\" class=\"dataframe\">\n",
       "  <thead>\n",
       "    <tr style=\"text-align: right;\">\n",
       "      <th></th>\n",
       "      <th>누적확진자수</th>\n",
       "    </tr>\n",
       "    <tr>\n",
       "      <th>확진일</th>\n",
       "      <th></th>\n",
       "    </tr>\n",
       "  </thead>\n",
       "  <tbody>\n",
       "    <tr>\n",
       "      <th>2020-01-24</th>\n",
       "      <td>1</td>\n",
       "    </tr>\n",
       "    <tr>\n",
       "      <th>2020-01-30</th>\n",
       "      <td>4</td>\n",
       "    </tr>\n",
       "    <tr>\n",
       "      <th>2020-01-31</th>\n",
       "      <td>7</td>\n",
       "    </tr>\n",
       "    <tr>\n",
       "      <th>2020-02-02</th>\n",
       "      <td>8</td>\n",
       "    </tr>\n",
       "    <tr>\n",
       "      <th>2020-02-05</th>\n",
       "      <td>10</td>\n",
       "    </tr>\n",
       "    <tr>\n",
       "      <th>...</th>\n",
       "      <td>...</td>\n",
       "    </tr>\n",
       "    <tr>\n",
       "      <th>2021-03-10</th>\n",
       "      <td>29557</td>\n",
       "    </tr>\n",
       "    <tr>\n",
       "      <th>2021-03-11</th>\n",
       "      <td>29697</td>\n",
       "    </tr>\n",
       "    <tr>\n",
       "      <th>2021-03-12</th>\n",
       "      <td>29837</td>\n",
       "    </tr>\n",
       "    <tr>\n",
       "      <th>2021-03-13</th>\n",
       "      <td>29949</td>\n",
       "    </tr>\n",
       "    <tr>\n",
       "      <th>2021-03-14</th>\n",
       "      <td>30061</td>\n",
       "    </tr>\n",
       "  </tbody>\n",
       "</table>\n",
       "<p>384 rows × 1 columns</p>\n",
       "</div>"
      ],
      "text/plain": [
       "            누적확진자수\n",
       "확진일               \n",
       "2020-01-24       1\n",
       "2020-01-30       4\n",
       "2020-01-31       7\n",
       "2020-02-02       8\n",
       "2020-02-05      10\n",
       "...            ...\n",
       "2021-03-10   29557\n",
       "2021-03-11   29697\n",
       "2021-03-12   29837\n",
       "2021-03-13   29949\n",
       "2021-03-14   30061\n",
       "\n",
       "[384 rows x 1 columns]"
      ]
     },
     "execution_count": 161,
     "metadata": {},
     "output_type": "execute_result"
    }
   ],
   "source": [
    "cumsum_df.columns= ['누적확진자수']\n",
    "cumsum_df"
   ]
  },
  {
   "cell_type": "code",
   "execution_count": null,
   "metadata": {},
   "outputs": [],
   "source": []
  },
  {
   "cell_type": "markdown",
   "metadata": {},
   "source": [
    "## 확진자수 파생변수 생성"
   ]
  },
  {
   "cell_type": "code",
   "execution_count": 286,
   "metadata": {},
   "outputs": [
    {
     "data": {
      "text/plain": [
       "2020-01-24      1\n",
       "2020-01-30      3\n",
       "2020-01-31      3\n",
       "2020-02-02      1\n",
       "2020-02-05      2\n",
       "             ... \n",
       "2021-03-10    137\n",
       "2021-03-11    140\n",
       "2021-03-12    140\n",
       "2021-03-13    112\n",
       "2021-03-14    112\n",
       "Name: 확진일, Length: 384, dtype: int64"
      ]
     },
     "execution_count": 286,
     "metadata": {},
     "output_type": "execute_result"
    }
   ],
   "source": [
    "corona_df['확진일'].value_counts().sort_index()"
   ]
  },
  {
   "cell_type": "code",
   "execution_count": 162,
   "metadata": {},
   "outputs": [
    {
     "data": {
      "text/html": [
       "<div>\n",
       "<style scoped>\n",
       "    .dataframe tbody tr th:only-of-type {\n",
       "        vertical-align: middle;\n",
       "    }\n",
       "\n",
       "    .dataframe tbody tr th {\n",
       "        vertical-align: top;\n",
       "    }\n",
       "\n",
       "    .dataframe thead th {\n",
       "        text-align: right;\n",
       "    }\n",
       "</style>\n",
       "<table border=\"1\" class=\"dataframe\">\n",
       "  <thead>\n",
       "    <tr style=\"text-align: right;\">\n",
       "      <th></th>\n",
       "      <th>누적확진자수</th>\n",
       "      <th>확진자수</th>\n",
       "    </tr>\n",
       "    <tr>\n",
       "      <th>확진일</th>\n",
       "      <th></th>\n",
       "      <th></th>\n",
       "    </tr>\n",
       "  </thead>\n",
       "  <tbody>\n",
       "    <tr>\n",
       "      <th>2020-01-24</th>\n",
       "      <td>1</td>\n",
       "      <td>1</td>\n",
       "    </tr>\n",
       "    <tr>\n",
       "      <th>2020-01-30</th>\n",
       "      <td>4</td>\n",
       "      <td>3</td>\n",
       "    </tr>\n",
       "    <tr>\n",
       "      <th>2020-01-31</th>\n",
       "      <td>7</td>\n",
       "      <td>3</td>\n",
       "    </tr>\n",
       "    <tr>\n",
       "      <th>2020-02-02</th>\n",
       "      <td>8</td>\n",
       "      <td>1</td>\n",
       "    </tr>\n",
       "    <tr>\n",
       "      <th>2020-02-05</th>\n",
       "      <td>10</td>\n",
       "      <td>2</td>\n",
       "    </tr>\n",
       "  </tbody>\n",
       "</table>\n",
       "</div>"
      ],
      "text/plain": [
       "            누적확진자수  확진자수\n",
       "확진일                     \n",
       "2020-01-24       1     1\n",
       "2020-01-30       4     3\n",
       "2020-01-31       7     3\n",
       "2020-02-02       8     1\n",
       "2020-02-05      10     2"
      ]
     },
     "execution_count": 162,
     "metadata": {},
     "output_type": "execute_result"
    }
   ],
   "source": [
    "cumsum_df['확진자수'] = corona_df['확진일'].value_counts().sort_index()\n",
    "cumsum_df.head()"
   ]
  },
  {
   "cell_type": "code",
   "execution_count": 43,
   "metadata": {
    "collapsed": true
   },
   "outputs": [
    {
     "data": {
      "text/html": [
       "<div>\n",
       "<style scoped>\n",
       "    .dataframe tbody tr th:only-of-type {\n",
       "        vertical-align: middle;\n",
       "    }\n",
       "\n",
       "    .dataframe tbody tr th {\n",
       "        vertical-align: top;\n",
       "    }\n",
       "\n",
       "    .dataframe thead th {\n",
       "        text-align: right;\n",
       "    }\n",
       "</style>\n",
       "<table border=\"1\" class=\"dataframe\">\n",
       "  <thead>\n",
       "    <tr style=\"text-align: right;\">\n",
       "      <th></th>\n",
       "      <th>ID</th>\n",
       "    </tr>\n",
       "    <tr>\n",
       "      <th>확진일</th>\n",
       "      <th></th>\n",
       "    </tr>\n",
       "  </thead>\n",
       "  <tbody>\n",
       "    <tr>\n",
       "      <th>2020-01-24</th>\n",
       "      <td>1</td>\n",
       "    </tr>\n",
       "    <tr>\n",
       "      <th>2020-01-30</th>\n",
       "      <td>3</td>\n",
       "    </tr>\n",
       "    <tr>\n",
       "      <th>2020-01-31</th>\n",
       "      <td>3</td>\n",
       "    </tr>\n",
       "  </tbody>\n",
       "</table>\n",
       "</div>"
      ],
      "text/plain": [
       "            ID\n",
       "확진일           \n",
       "2020-01-24   1\n",
       "2020-01-30   3\n",
       "2020-01-31   3"
      ]
     },
     "execution_count": 43,
     "metadata": {},
     "output_type": "execute_result"
    }
   ],
   "source": [
    "s1=s.to_frame()\n",
    "s1.head(3)"
   ]
  },
  {
   "cell_type": "markdown",
   "metadata": {},
   "source": [
    "## 누적 확진자수 선그래프"
   ]
  },
  {
   "cell_type": "code",
   "execution_count": 164,
   "metadata": {},
   "outputs": [
    {
     "data": {
      "image/png": "[encoded data removed]",
      "text/plain": [
       "<Figure size 1080x432 with 1 Axes>"
      ]
     },
     "metadata": {
      "needs_background": "light"
     },
     "output_type": "display_data"
    }
   ],
   "source": [
    "cumsum_df['누적확진자수'].plot(kind = 'line', figsize =(15,6))\n",
    "plt.show()"
   ]
  },
  {
   "cell_type": "code",
   "execution_count": 167,
   "metadata": {},
   "outputs": [
    {
     "data": {
      "image/png": "[encoded data removed]",
      "text/plain": [
       "<Figure size 1080x432 with 1 Axes>"
      ]
     },
     "metadata": {
      "needs_background": "light"
     },
     "output_type": "display_data"
    }
   ],
   "source": [
    "cumsum_df.plot(kind ='line', figsize =(15,6))\n",
    "\n",
    "\n",
    "\n",
    "plt.show()"
   ]
  },
  {
   "cell_type": "code",
   "execution_count": null,
   "metadata": {},
   "outputs": [],
   "source": []
  },
  {
   "cell_type": "code",
   "execution_count": null,
   "metadata": {},
   "outputs": [],
   "source": []
  },
  {
   "cell_type": "markdown",
   "metadata": {},
   "source": [
    "# 자치구 기준 확진자 조회"
   ]
  },
  {
   "cell_type": "markdown",
   "metadata": {},
   "source": [
    "## 자치구별 확진자수 조회"
   ]
  },
  {
   "cell_type": "code",
   "execution_count": 287,
   "metadata": {
    "collapsed": true
   },
   "outputs": [
    {
     "data": {
      "text/plain": [
       "자치구\n",
       "강남구     1376\n",
       "강동구     1036\n",
       "강북구      785\n",
       "강서구     1704\n",
       "관악구     1408\n",
       "광진구      876\n",
       "구로구     1094\n",
       "금천구      478\n",
       "기타      2000\n",
       "노원구     1322\n",
       "도봉구      954\n",
       "동대문구    1087\n",
       "동작구     1238\n",
       "마포구      990\n",
       "서대문구     786\n",
       "서초구     1148\n",
       "성동구      763\n",
       "성북구     1298\n",
       "송파구     1658\n",
       "양천구     1144\n",
       "영등포구    1122\n",
       "용산구      815\n",
       "은평구     1262\n",
       "종로구      579\n",
       "중구       475\n",
       "중랑구     1250\n",
       "타시도     1413\n",
       "Name: ID, dtype: int64"
      ]
     },
     "execution_count": 287,
     "metadata": {},
     "output_type": "execute_result"
    }
   ],
   "source": [
    "자치구별확진자=corona_df.groupby('자치구')['ID'].count()\n",
    "자치구별확진자.sort_index()"
   ]
  },
  {
   "cell_type": "code",
   "execution_count": 46,
   "metadata": {},
   "outputs": [],
   "source": [
    "자치구별확진자1=corona_df.pivot_table(index = '자치구', values= 'ID', aggfunc = 'count')"
   ]
  },
  {
   "cell_type": "markdown",
   "metadata": {
    "ExecuteTime": {
     "end_time": "2020-08-22T14:19:41.422028Z",
     "start_time": "2020-08-22T14:19:40.632144Z"
    }
   },
   "source": [
    "## 자치구별 확진자수 시각화"
   ]
  },
  {
   "cell_type": "code",
   "execution_count": 176,
   "metadata": {},
   "outputs": [
    {
     "data": {
      "image/png": "[encoded data removed]",
      "text/plain": [
       "<Figure size 1440x504 with 1 Axes>"
      ]
     },
     "metadata": {
      "needs_background": "light"
     },
     "output_type": "display_data"
    }
   ],
   "source": [
    "plt.figure(figsize= (20,7))\n",
    "\n",
    "자치구별확진자.sort_values().plot(kind='barh')\n",
    "\n",
    "plt.xticks(rotation = 43)\n",
    "\n",
    "plt.show()"
   ]
  },
  {
   "cell_type": "code",
   "execution_count": null,
   "metadata": {},
   "outputs": [],
   "source": []
  },
  {
   "cell_type": "markdown",
   "metadata": {},
   "source": [
    "# 접촉력 관련 확진자 조회"
   ]
  },
  {
   "cell_type": "markdown",
   "metadata": {},
   "source": [
    "## 가장 많은 집단 감염자를 낸 접촉력 상위 15개 조회"
   ]
  },
  {
   "cell_type": "code",
   "execution_count": 48,
   "metadata": {
    "collapsed": true
   },
   "outputs": [
    {
     "data": {
      "text/html": [
       "<div>\n",
       "<style scoped>\n",
       "    .dataframe tbody tr th:only-of-type {\n",
       "        vertical-align: middle;\n",
       "    }\n",
       "\n",
       "    .dataframe tbody tr th {\n",
       "        vertical-align: top;\n",
       "    }\n",
       "\n",
       "    .dataframe thead th {\n",
       "        text-align: right;\n",
       "    }\n",
       "</style>\n",
       "<table border=\"1\" class=\"dataframe\">\n",
       "  <thead>\n",
       "    <tr style=\"text-align: right;\">\n",
       "      <th></th>\n",
       "      <th>ID</th>\n",
       "      <th>확진일</th>\n",
       "      <th>주</th>\n",
       "      <th>자치구</th>\n",
       "      <th>여행력</th>\n",
       "      <th>접촉력</th>\n",
       "      <th>현재상태</th>\n",
       "      <th>년</th>\n",
       "      <th>월</th>\n",
       "      <th>요일</th>\n",
       "    </tr>\n",
       "  </thead>\n",
       "  <tbody>\n",
       "    <tr>\n",
       "      <th>0</th>\n",
       "      <td>30061</td>\n",
       "      <td>2021-03-14</td>\n",
       "      <td>10</td>\n",
       "      <td>동대문구</td>\n",
       "      <td>NaN</td>\n",
       "      <td>동대문구 소재 병원 관련(\\'21.2.)</td>\n",
       "      <td>사망</td>\n",
       "      <td>2021</td>\n",
       "      <td>3</td>\n",
       "      <td>일</td>\n",
       "    </tr>\n",
       "    <tr>\n",
       "      <th>1</th>\n",
       "      <td>30060</td>\n",
       "      <td>2021-03-14</td>\n",
       "      <td>10</td>\n",
       "      <td>강동구</td>\n",
       "      <td>NaN</td>\n",
       "      <td>감염경로 조사중</td>\n",
       "      <td>NaN</td>\n",
       "      <td>2021</td>\n",
       "      <td>3</td>\n",
       "      <td>일</td>\n",
       "    </tr>\n",
       "    <tr>\n",
       "      <th>2</th>\n",
       "      <td>30059</td>\n",
       "      <td>2021-03-14</td>\n",
       "      <td>10</td>\n",
       "      <td>타시도</td>\n",
       "      <td>NaN</td>\n",
       "      <td>관악구 소재 미용업 관련</td>\n",
       "      <td>NaN</td>\n",
       "      <td>2021</td>\n",
       "      <td>3</td>\n",
       "      <td>일</td>\n",
       "    </tr>\n",
       "    <tr>\n",
       "      <th>3</th>\n",
       "      <td>30058</td>\n",
       "      <td>2021-03-14</td>\n",
       "      <td>10</td>\n",
       "      <td>마포구</td>\n",
       "      <td>NaN</td>\n",
       "      <td>감염경로 조사중</td>\n",
       "      <td>NaN</td>\n",
       "      <td>2021</td>\n",
       "      <td>3</td>\n",
       "      <td>일</td>\n",
       "    </tr>\n",
       "    <tr>\n",
       "      <th>4</th>\n",
       "      <td>30057</td>\n",
       "      <td>2021-03-14</td>\n",
       "      <td>10</td>\n",
       "      <td>서대문구</td>\n",
       "      <td>NaN</td>\n",
       "      <td>타시도 확진자 접촉</td>\n",
       "      <td>NaN</td>\n",
       "      <td>2021</td>\n",
       "      <td>3</td>\n",
       "      <td>일</td>\n",
       "    </tr>\n",
       "  </tbody>\n",
       "</table>\n",
       "</div>"
      ],
      "text/plain": [
       "      ID        확진일   주   자치구  여행력                     접촉력 현재상태     년  월 요일\n",
       "0  30061 2021-03-14  10  동대문구  NaN  동대문구 소재 병원 관련(\\'21.2.)   사망  2021  3  일\n",
       "1  30060 2021-03-14  10   강동구  NaN                감염경로 조사중  NaN  2021  3  일\n",
       "2  30059 2021-03-14  10   타시도  NaN           관악구 소재 미용업 관련  NaN  2021  3  일\n",
       "3  30058 2021-03-14  10   마포구  NaN                감염경로 조사중  NaN  2021  3  일\n",
       "4  30057 2021-03-14  10  서대문구  NaN              타시도 확진자 접촉  NaN  2021  3  일"
      ]
     },
     "execution_count": 48,
     "metadata": {},
     "output_type": "execute_result"
    }
   ],
   "source": [
    "corona_df.head()"
   ]
  },
  {
   "cell_type": "code",
   "execution_count": 177,
   "metadata": {},
   "outputs": [
    {
     "data": {
      "text/plain": [
       "79"
      ]
     },
     "execution_count": 177,
     "metadata": {},
     "output_type": "execute_result"
    }
   ],
   "source": [
    "접촉력=corona_df.groupby('접촉력')['ID'].count()\n",
    "접촉력.nunique()"
   ]
  },
  {
   "cell_type": "code",
   "execution_count": 50,
   "metadata": {
    "collapsed": true
   },
   "outputs": [
    {
     "data": {
      "text/plain": [
       "접촉력\n",
       "기타 확진자 접촉             9660\n",
       "감염경로 조사중              6994\n",
       "타시도 확진자 접촉            1304\n",
       "동부구치소 관련              1175\n",
       "해외유입                   965\n",
       "성북구 사랑제일교회 관련          641\n",
       "강서구 교회 관련              246\n",
       "종로구 소재 파고다타운 관련        227\n",
       "구로구 소재 요양병원/요양원 관련     226\n",
       "강서구 댄스교습관련 시설          224\n",
       "용산구 소재 병원 관련           219\n",
       "병원 및 요양시설              170\n",
       "이태원 클럽 관련              139\n",
       "8.15서울도심집회             126\n",
       "마포구 홍대새교회 관련           109\n",
       "Name: ID, dtype: int64"
      ]
     },
     "execution_count": 50,
     "metadata": {},
     "output_type": "execute_result"
    }
   ],
   "source": [
    "접촉력상위=접촉력.sort_values(ascending=False).head(15)\n",
    "접촉력상위"
   ]
  },
  {
   "cell_type": "code",
   "execution_count": null,
   "metadata": {},
   "outputs": [],
   "source": []
  },
  {
   "cell_type": "code",
   "execution_count": 178,
   "metadata": {},
   "outputs": [
    {
     "data": {
      "text/plain": [
       "기타 확진자 접촉             9660\n",
       "감염경로 조사중              6994\n",
       "타시도 확진자 접촉            1304\n",
       "동부구치소 관련              1175\n",
       "해외유입                   965\n",
       "성북구 사랑제일교회 관련          641\n",
       "강서구 교회 관련              246\n",
       "종로구 소재 파고다타운 관련        227\n",
       "구로구 소재 요양병원/요양원 관련     226\n",
       "강서구 댄스교습관련 시설          224\n",
       "용산구 소재 병원 관련           219\n",
       "병원 및 요양시설              170\n",
       "이태원 클럽 관련              139\n",
       "8.15서울도심집회             126\n",
       "마포구 홍대새교회 관련           109\n",
       "Name: 접촉력, dtype: int64"
      ]
     },
     "execution_count": 178,
     "metadata": {},
     "output_type": "execute_result"
    }
   ],
   "source": [
    "# 수업시간\n",
    "corona_df['접촉력'].value_counts().head(15)"
   ]
  },
  {
   "cell_type": "code",
   "execution_count": null,
   "metadata": {},
   "outputs": [],
   "source": []
  },
  {
   "cell_type": "code",
   "execution_count": null,
   "metadata": {},
   "outputs": [],
   "source": []
  },
  {
   "cell_type": "markdown",
   "metadata": {
    "ExecuteTime": {
     "end_time": "2020-08-22T14:21:14.842511Z",
     "start_time": "2020-08-22T14:21:14.814585Z"
    }
   },
   "source": [
    "## 가장 많은 집단 감염자를 낸 접촉력 하위 15 "
   ]
  },
  {
   "cell_type": "code",
   "execution_count": 51,
   "metadata": {
    "collapsed": true
   },
   "outputs": [
    {
     "data": {
      "text/plain": [
       "접촉력\n",
       "역조실 일보 반영           1\n",
       "중랑구 서울의료원           1\n",
       "서초구소재 종교시설 관련       1\n",
       "구로구소재 고등학교 관련       1\n",
       "중구 소재 콜센터(다은컨설팅)    1\n",
       "광진구 소재 병원 관련        1\n",
       "관악구 투석환자 관련         1\n",
       "신 천 지               1\n",
       "아산병원                1\n",
       "안양 목회자 관련           1\n",
       "관악구 김혜근의원           1\n",
       "영등포 소재 의료기관 관련      1\n",
       "강남구 오렌지라이프 관련       1\n",
       "종로구 서울대병원           1\n",
       "용산구 음식점 관련          1\n",
       "Name: ID, dtype: int64"
      ]
     },
     "execution_count": 51,
     "metadata": {},
     "output_type": "execute_result"
    }
   ],
   "source": [
    "접촉력.sort_values().head(15)"
   ]
  },
  {
   "cell_type": "code",
   "execution_count": null,
   "metadata": {},
   "outputs": [],
   "source": []
  },
  {
   "cell_type": "markdown",
   "metadata": {
    "ExecuteTime": {
     "end_time": "2020-08-22T14:21:15.511336Z",
     "start_time": "2020-08-22T14:21:15.499366Z"
    }
   },
   "source": [
    "## 접촉력 상위 15개만 시각화"
   ]
  },
  {
   "cell_type": "code",
   "execution_count": 52,
   "metadata": {
    "collapsed": true
   },
   "outputs": [
    {
     "data": {
      "text/plain": [
       "접촉력\n",
       "기타 확진자 접촉             9660\n",
       "감염경로 조사중              6994\n",
       "타시도 확진자 접촉            1304\n",
       "동부구치소 관련              1175\n",
       "해외유입                   965\n",
       "성북구 사랑제일교회 관련          641\n",
       "강서구 교회 관련              246\n",
       "종로구 소재 파고다타운 관련        227\n",
       "구로구 소재 요양병원/요양원 관련     226\n",
       "강서구 댄스교습관련 시설          224\n",
       "용산구 소재 병원 관련           219\n",
       "병원 및 요양시설              170\n",
       "이태원 클럽 관련              139\n",
       "8.15서울도심집회             126\n",
       "마포구 홍대새교회 관련           109\n",
       "Name: ID, dtype: int64"
      ]
     },
     "execution_count": 52,
     "metadata": {},
     "output_type": "execute_result"
    }
   ],
   "source": [
    "접촉력상위"
   ]
  },
  {
   "cell_type": "code",
   "execution_count": 289,
   "metadata": {},
   "outputs": [
    {
     "data": {
      "image/png": "[encoded data removed]",
      "text/plain": [
       "<Figure size 1440x504 with 1 Axes>"
      ]
     },
     "metadata": {
      "needs_background": "light"
     },
     "output_type": "display_data"
    }
   ],
   "source": [
    "plt.figure(figsize=(20,7))\n",
    "\n",
    "접촉력상위.sort_values().plot(kind ='barh')\n",
    "\n",
    "plt.axvline(8000)\n",
    "\n",
    "plt.xticks(rotation = 20)\n",
    "plt.show()"
   ]
  },
  {
   "cell_type": "code",
   "execution_count": 54,
   "metadata": {
    "collapsed": true
   },
   "outputs": [
    {
     "data": {
      "text/html": [
       "<div>\n",
       "<style scoped>\n",
       "    .dataframe tbody tr th:only-of-type {\n",
       "        vertical-align: middle;\n",
       "    }\n",
       "\n",
       "    .dataframe tbody tr th {\n",
       "        vertical-align: top;\n",
       "    }\n",
       "\n",
       "    .dataframe thead th {\n",
       "        text-align: right;\n",
       "    }\n",
       "</style>\n",
       "<table border=\"1\" class=\"dataframe\">\n",
       "  <thead>\n",
       "    <tr style=\"text-align: right;\">\n",
       "      <th></th>\n",
       "      <th>접촉력</th>\n",
       "      <th>ID</th>\n",
       "    </tr>\n",
       "  </thead>\n",
       "  <tbody>\n",
       "    <tr>\n",
       "      <th>0</th>\n",
       "      <td>기타 확진자 접촉</td>\n",
       "      <td>9660</td>\n",
       "    </tr>\n",
       "    <tr>\n",
       "      <th>1</th>\n",
       "      <td>감염경로 조사중</td>\n",
       "      <td>6994</td>\n",
       "    </tr>\n",
       "    <tr>\n",
       "      <th>2</th>\n",
       "      <td>타시도 확진자 접촉</td>\n",
       "      <td>1304</td>\n",
       "    </tr>\n",
       "    <tr>\n",
       "      <th>3</th>\n",
       "      <td>동부구치소 관련</td>\n",
       "      <td>1175</td>\n",
       "    </tr>\n",
       "    <tr>\n",
       "      <th>4</th>\n",
       "      <td>해외유입</td>\n",
       "      <td>965</td>\n",
       "    </tr>\n",
       "    <tr>\n",
       "      <th>5</th>\n",
       "      <td>성북구 사랑제일교회 관련</td>\n",
       "      <td>641</td>\n",
       "    </tr>\n",
       "    <tr>\n",
       "      <th>6</th>\n",
       "      <td>강서구 교회 관련</td>\n",
       "      <td>246</td>\n",
       "    </tr>\n",
       "    <tr>\n",
       "      <th>7</th>\n",
       "      <td>종로구 소재 파고다타운 관련</td>\n",
       "      <td>227</td>\n",
       "    </tr>\n",
       "    <tr>\n",
       "      <th>8</th>\n",
       "      <td>구로구 소재 요양병원/요양원 관련</td>\n",
       "      <td>226</td>\n",
       "    </tr>\n",
       "    <tr>\n",
       "      <th>9</th>\n",
       "      <td>강서구 댄스교습관련 시설</td>\n",
       "      <td>224</td>\n",
       "    </tr>\n",
       "    <tr>\n",
       "      <th>10</th>\n",
       "      <td>용산구 소재 병원 관련</td>\n",
       "      <td>219</td>\n",
       "    </tr>\n",
       "    <tr>\n",
       "      <th>11</th>\n",
       "      <td>병원 및 요양시설</td>\n",
       "      <td>170</td>\n",
       "    </tr>\n",
       "    <tr>\n",
       "      <th>12</th>\n",
       "      <td>이태원 클럽 관련</td>\n",
       "      <td>139</td>\n",
       "    </tr>\n",
       "    <tr>\n",
       "      <th>13</th>\n",
       "      <td>8.15서울도심집회</td>\n",
       "      <td>126</td>\n",
       "    </tr>\n",
       "    <tr>\n",
       "      <th>14</th>\n",
       "      <td>마포구 홍대새교회 관련</td>\n",
       "      <td>109</td>\n",
       "    </tr>\n",
       "  </tbody>\n",
       "</table>\n",
       "</div>"
      ],
      "text/plain": [
       "                   접촉력    ID\n",
       "0            기타 확진자 접촉  9660\n",
       "1             감염경로 조사중  6994\n",
       "2           타시도 확진자 접촉  1304\n",
       "3             동부구치소 관련  1175\n",
       "4                 해외유입   965\n",
       "5        성북구 사랑제일교회 관련   641\n",
       "6            강서구 교회 관련   246\n",
       "7      종로구 소재 파고다타운 관련   227\n",
       "8   구로구 소재 요양병원/요양원 관련   226\n",
       "9        강서구 댄스교습관련 시설   224\n",
       "10        용산구 소재 병원 관련   219\n",
       "11           병원 및 요양시설   170\n",
       "12           이태원 클럽 관련   139\n",
       "13          8.15서울도심집회   126\n",
       "14        마포구 홍대새교회 관련   109"
      ]
     },
     "execution_count": 54,
     "metadata": {},
     "output_type": "execute_result"
    }
   ],
   "source": [
    "m=접촉력상위.to_frame()\n",
    "m.reset_index()"
   ]
  },
  {
   "cell_type": "code",
   "execution_count": null,
   "metadata": {},
   "outputs": [],
   "source": []
  },
  {
   "cell_type": "markdown",
   "metadata": {},
   "source": [
    "## 확진자를 가장 많이 발생시킨 접촉력 상위 15개를 기준으로  월별 빈도수를 집계\n",
    "- 몇 월에 발생했는지 확인 (년도는 무시)"
   ]
  },
  {
   "cell_type": "code",
   "execution_count": 56,
   "metadata": {
    "collapsed": true
   },
   "outputs": [
    {
     "data": {
      "text/html": [
       "<div>\n",
       "<style scoped>\n",
       "    .dataframe tbody tr th:only-of-type {\n",
       "        vertical-align: middle;\n",
       "    }\n",
       "\n",
       "    .dataframe tbody tr th {\n",
       "        vertical-align: top;\n",
       "    }\n",
       "\n",
       "    .dataframe thead th {\n",
       "        text-align: right;\n",
       "    }\n",
       "</style>\n",
       "<table border=\"1\" class=\"dataframe\">\n",
       "  <thead>\n",
       "    <tr style=\"text-align: right;\">\n",
       "      <th></th>\n",
       "      <th>ID</th>\n",
       "      <th>확진일</th>\n",
       "      <th>주</th>\n",
       "      <th>자치구</th>\n",
       "      <th>여행력</th>\n",
       "      <th>접촉력</th>\n",
       "      <th>현재상태</th>\n",
       "      <th>년</th>\n",
       "      <th>월</th>\n",
       "      <th>요일</th>\n",
       "    </tr>\n",
       "  </thead>\n",
       "  <tbody>\n",
       "    <tr>\n",
       "      <th>0</th>\n",
       "      <td>30061</td>\n",
       "      <td>2021-03-14</td>\n",
       "      <td>10</td>\n",
       "      <td>동대문구</td>\n",
       "      <td>NaN</td>\n",
       "      <td>동대문구 소재 병원 관련(\\'21.2.)</td>\n",
       "      <td>사망</td>\n",
       "      <td>2021</td>\n",
       "      <td>3</td>\n",
       "      <td>일</td>\n",
       "    </tr>\n",
       "    <tr>\n",
       "      <th>1</th>\n",
       "      <td>30060</td>\n",
       "      <td>2021-03-14</td>\n",
       "      <td>10</td>\n",
       "      <td>강동구</td>\n",
       "      <td>NaN</td>\n",
       "      <td>감염경로 조사중</td>\n",
       "      <td>NaN</td>\n",
       "      <td>2021</td>\n",
       "      <td>3</td>\n",
       "      <td>일</td>\n",
       "    </tr>\n",
       "    <tr>\n",
       "      <th>2</th>\n",
       "      <td>30059</td>\n",
       "      <td>2021-03-14</td>\n",
       "      <td>10</td>\n",
       "      <td>타시도</td>\n",
       "      <td>NaN</td>\n",
       "      <td>관악구 소재 미용업 관련</td>\n",
       "      <td>NaN</td>\n",
       "      <td>2021</td>\n",
       "      <td>3</td>\n",
       "      <td>일</td>\n",
       "    </tr>\n",
       "    <tr>\n",
       "      <th>3</th>\n",
       "      <td>30058</td>\n",
       "      <td>2021-03-14</td>\n",
       "      <td>10</td>\n",
       "      <td>마포구</td>\n",
       "      <td>NaN</td>\n",
       "      <td>감염경로 조사중</td>\n",
       "      <td>NaN</td>\n",
       "      <td>2021</td>\n",
       "      <td>3</td>\n",
       "      <td>일</td>\n",
       "    </tr>\n",
       "    <tr>\n",
       "      <th>4</th>\n",
       "      <td>30057</td>\n",
       "      <td>2021-03-14</td>\n",
       "      <td>10</td>\n",
       "      <td>서대문구</td>\n",
       "      <td>NaN</td>\n",
       "      <td>타시도 확진자 접촉</td>\n",
       "      <td>NaN</td>\n",
       "      <td>2021</td>\n",
       "      <td>3</td>\n",
       "      <td>일</td>\n",
       "    </tr>\n",
       "  </tbody>\n",
       "</table>\n",
       "</div>"
      ],
      "text/plain": [
       "      ID        확진일   주   자치구  여행력                     접촉력 현재상태     년  월 요일\n",
       "0  30061 2021-03-14  10  동대문구  NaN  동대문구 소재 병원 관련(\\'21.2.)   사망  2021  3  일\n",
       "1  30060 2021-03-14  10   강동구  NaN                감염경로 조사중  NaN  2021  3  일\n",
       "2  30059 2021-03-14  10   타시도  NaN           관악구 소재 미용업 관련  NaN  2021  3  일\n",
       "3  30058 2021-03-14  10   마포구  NaN                감염경로 조사중  NaN  2021  3  일\n",
       "4  30057 2021-03-14  10  서대문구  NaN              타시도 확진자 접촉  NaN  2021  3  일"
      ]
     },
     "execution_count": 56,
     "metadata": {},
     "output_type": "execute_result"
    }
   ],
   "source": [
    "corona_df.head(5)"
   ]
  },
  {
   "cell_type": "code",
   "execution_count": 290,
   "metadata": {},
   "outputs": [
    {
     "data": {
      "text/plain": [
       "Index(['기타 확진자 접촉', '감염경로 조사중', '타시도 확진자 접촉', '동부구치소 관련', '해외유입',\n",
       "       '성북구 사랑제일교회 관련', '강서구 교회 관련', '종로구 소재 파고다타운 관련', '구로구 소재 요양병원/요양원 관련',\n",
       "       '강서구 댄스교습관련 시설', '용산구 소재 병원 관련', '병원 및 요양시설', '이태원 클럽 관련', '8.15서울도심집회',\n",
       "       '마포구 홍대새교회 관련'],\n",
       "      dtype='object', name='접촉력')"
      ]
     },
     "execution_count": 290,
     "metadata": {},
     "output_type": "execute_result"
    }
   ],
   "source": [
    "접촉력상위.index"
   ]
  },
  {
   "cell_type": "code",
   "execution_count": 301,
   "metadata": {},
   "outputs": [
    {
     "data": {
      "text/html": [
       "<div>\n",
       "<style scoped>\n",
       "    .dataframe tbody tr th:only-of-type {\n",
       "        vertical-align: middle;\n",
       "    }\n",
       "\n",
       "    .dataframe tbody tr th {\n",
       "        vertical-align: top;\n",
       "    }\n",
       "\n",
       "    .dataframe thead th {\n",
       "        text-align: right;\n",
       "    }\n",
       "</style>\n",
       "<table border=\"1\" class=\"dataframe\">\n",
       "  <thead>\n",
       "    <tr style=\"text-align: right;\">\n",
       "      <th>월</th>\n",
       "      <th>1</th>\n",
       "      <th>2</th>\n",
       "      <th>3</th>\n",
       "      <th>4</th>\n",
       "      <th>5</th>\n",
       "      <th>6</th>\n",
       "      <th>7</th>\n",
       "      <th>8</th>\n",
       "      <th>9</th>\n",
       "      <th>10</th>\n",
       "      <th>11</th>\n",
       "      <th>12</th>\n",
       "    </tr>\n",
       "    <tr>\n",
       "      <th>접촉력</th>\n",
       "      <th></th>\n",
       "      <th></th>\n",
       "      <th></th>\n",
       "      <th></th>\n",
       "      <th></th>\n",
       "      <th></th>\n",
       "      <th></th>\n",
       "      <th></th>\n",
       "      <th></th>\n",
       "      <th></th>\n",
       "      <th></th>\n",
       "      <th></th>\n",
       "    </tr>\n",
       "  </thead>\n",
       "  <tbody>\n",
       "    <tr>\n",
       "      <th>8.15서울도심집회</th>\n",
       "      <td>0.0</td>\n",
       "      <td>0.0</td>\n",
       "      <td>0.0</td>\n",
       "      <td>0.0</td>\n",
       "      <td>0.0</td>\n",
       "      <td>0.0</td>\n",
       "      <td>0.0</td>\n",
       "      <td>113.0</td>\n",
       "      <td>13.0</td>\n",
       "      <td>0.0</td>\n",
       "      <td>0.0</td>\n",
       "      <td>0.0</td>\n",
       "    </tr>\n",
       "    <tr>\n",
       "      <th>감염경로 조사중</th>\n",
       "      <td>1348.0</td>\n",
       "      <td>967.0</td>\n",
       "      <td>462.0</td>\n",
       "      <td>16.0</td>\n",
       "      <td>5.0</td>\n",
       "      <td>66.0</td>\n",
       "      <td>49.0</td>\n",
       "      <td>440.0</td>\n",
       "      <td>286.0</td>\n",
       "      <td>120.0</td>\n",
       "      <td>474.0</td>\n",
       "      <td>2761.0</td>\n",
       "    </tr>\n",
       "    <tr>\n",
       "      <th>강서구 교회 관련</th>\n",
       "      <td>1.0</td>\n",
       "      <td>0.0</td>\n",
       "      <td>0.0</td>\n",
       "      <td>0.0</td>\n",
       "      <td>0.0</td>\n",
       "      <td>0.0</td>\n",
       "      <td>0.0</td>\n",
       "      <td>0.0</td>\n",
       "      <td>0.0</td>\n",
       "      <td>0.0</td>\n",
       "      <td>0.0</td>\n",
       "      <td>245.0</td>\n",
       "    </tr>\n",
       "    <tr>\n",
       "      <th>강서구 댄스교습관련 시설</th>\n",
       "      <td>0.0</td>\n",
       "      <td>0.0</td>\n",
       "      <td>0.0</td>\n",
       "      <td>0.0</td>\n",
       "      <td>0.0</td>\n",
       "      <td>0.0</td>\n",
       "      <td>0.0</td>\n",
       "      <td>0.0</td>\n",
       "      <td>0.0</td>\n",
       "      <td>0.0</td>\n",
       "      <td>182.0</td>\n",
       "      <td>42.0</td>\n",
       "    </tr>\n",
       "    <tr>\n",
       "      <th>구로구 소재 요양병원/요양원 관련</th>\n",
       "      <td>27.0</td>\n",
       "      <td>0.0</td>\n",
       "      <td>0.0</td>\n",
       "      <td>0.0</td>\n",
       "      <td>0.0</td>\n",
       "      <td>0.0</td>\n",
       "      <td>0.0</td>\n",
       "      <td>0.0</td>\n",
       "      <td>0.0</td>\n",
       "      <td>0.0</td>\n",
       "      <td>0.0</td>\n",
       "      <td>199.0</td>\n",
       "    </tr>\n",
       "    <tr>\n",
       "      <th>기타 확진자 접촉</th>\n",
       "      <td>1964.0</td>\n",
       "      <td>1518.0</td>\n",
       "      <td>637.0</td>\n",
       "      <td>9.0</td>\n",
       "      <td>0.0</td>\n",
       "      <td>14.0</td>\n",
       "      <td>33.0</td>\n",
       "      <td>440.0</td>\n",
       "      <td>304.0</td>\n",
       "      <td>116.0</td>\n",
       "      <td>631.0</td>\n",
       "      <td>3994.0</td>\n",
       "    </tr>\n",
       "    <tr>\n",
       "      <th>동부구치소 관련</th>\n",
       "      <td>242.0</td>\n",
       "      <td>0.0</td>\n",
       "      <td>0.0</td>\n",
       "      <td>0.0</td>\n",
       "      <td>0.0</td>\n",
       "      <td>0.0</td>\n",
       "      <td>0.0</td>\n",
       "      <td>0.0</td>\n",
       "      <td>0.0</td>\n",
       "      <td>0.0</td>\n",
       "      <td>3.0</td>\n",
       "      <td>930.0</td>\n",
       "    </tr>\n",
       "    <tr>\n",
       "      <th>마포구 홍대새교회 관련</th>\n",
       "      <td>0.0</td>\n",
       "      <td>0.0</td>\n",
       "      <td>0.0</td>\n",
       "      <td>0.0</td>\n",
       "      <td>0.0</td>\n",
       "      <td>0.0</td>\n",
       "      <td>0.0</td>\n",
       "      <td>0.0</td>\n",
       "      <td>0.0</td>\n",
       "      <td>0.0</td>\n",
       "      <td>96.0</td>\n",
       "      <td>13.0</td>\n",
       "    </tr>\n",
       "    <tr>\n",
       "      <th>병원 및 요양시설</th>\n",
       "      <td>57.0</td>\n",
       "      <td>82.0</td>\n",
       "      <td>31.0</td>\n",
       "      <td>0.0</td>\n",
       "      <td>0.0</td>\n",
       "      <td>0.0</td>\n",
       "      <td>0.0</td>\n",
       "      <td>0.0</td>\n",
       "      <td>0.0</td>\n",
       "      <td>0.0</td>\n",
       "      <td>0.0</td>\n",
       "      <td>0.0</td>\n",
       "    </tr>\n",
       "    <tr>\n",
       "      <th>성북구 사랑제일교회 관련</th>\n",
       "      <td>0.0</td>\n",
       "      <td>0.0</td>\n",
       "      <td>0.0</td>\n",
       "      <td>0.0</td>\n",
       "      <td>0.0</td>\n",
       "      <td>0.0</td>\n",
       "      <td>0.0</td>\n",
       "      <td>628.0</td>\n",
       "      <td>13.0</td>\n",
       "      <td>0.0</td>\n",
       "      <td>0.0</td>\n",
       "      <td>0.0</td>\n",
       "    </tr>\n",
       "    <tr>\n",
       "      <th>용산구 소재 병원 관련</th>\n",
       "      <td>0.0</td>\n",
       "      <td>203.0</td>\n",
       "      <td>16.0</td>\n",
       "      <td>0.0</td>\n",
       "      <td>0.0</td>\n",
       "      <td>0.0</td>\n",
       "      <td>0.0</td>\n",
       "      <td>0.0</td>\n",
       "      <td>0.0</td>\n",
       "      <td>0.0</td>\n",
       "      <td>0.0</td>\n",
       "      <td>0.0</td>\n",
       "    </tr>\n",
       "    <tr>\n",
       "      <th>이태원 클럽 관련</th>\n",
       "      <td>0.0</td>\n",
       "      <td>0.0</td>\n",
       "      <td>0.0</td>\n",
       "      <td>0.0</td>\n",
       "      <td>133.0</td>\n",
       "      <td>6.0</td>\n",
       "      <td>0.0</td>\n",
       "      <td>0.0</td>\n",
       "      <td>0.0</td>\n",
       "      <td>0.0</td>\n",
       "      <td>0.0</td>\n",
       "      <td>0.0</td>\n",
       "    </tr>\n",
       "    <tr>\n",
       "      <th>종로구 소재 파고다타운 관련</th>\n",
       "      <td>0.0</td>\n",
       "      <td>0.0</td>\n",
       "      <td>0.0</td>\n",
       "      <td>0.0</td>\n",
       "      <td>0.0</td>\n",
       "      <td>0.0</td>\n",
       "      <td>0.0</td>\n",
       "      <td>0.0</td>\n",
       "      <td>0.0</td>\n",
       "      <td>0.0</td>\n",
       "      <td>1.0</td>\n",
       "      <td>226.0</td>\n",
       "    </tr>\n",
       "    <tr>\n",
       "      <th>타시도 확진자 접촉</th>\n",
       "      <td>212.0</td>\n",
       "      <td>163.0</td>\n",
       "      <td>115.0</td>\n",
       "      <td>1.0</td>\n",
       "      <td>2.0</td>\n",
       "      <td>4.0</td>\n",
       "      <td>13.0</td>\n",
       "      <td>102.0</td>\n",
       "      <td>71.0</td>\n",
       "      <td>33.0</td>\n",
       "      <td>124.0</td>\n",
       "      <td>464.0</td>\n",
       "    </tr>\n",
       "    <tr>\n",
       "      <th>해외유입</th>\n",
       "      <td>152.0</td>\n",
       "      <td>141.0</td>\n",
       "      <td>164.0</td>\n",
       "      <td>111.0</td>\n",
       "      <td>25.0</td>\n",
       "      <td>23.0</td>\n",
       "      <td>39.0</td>\n",
       "      <td>50.0</td>\n",
       "      <td>23.0</td>\n",
       "      <td>44.0</td>\n",
       "      <td>83.0</td>\n",
       "      <td>110.0</td>\n",
       "    </tr>\n",
       "  </tbody>\n",
       "</table>\n",
       "</div>"
      ],
      "text/plain": [
       "월                       1       2      3      4      5     6     7      8   \\\n",
       "접촉력                                                                          \n",
       "8.15서울도심집회             0.0     0.0    0.0    0.0    0.0   0.0   0.0  113.0   \n",
       "감염경로 조사중            1348.0   967.0  462.0   16.0    5.0  66.0  49.0  440.0   \n",
       "강서구 교회 관련              1.0     0.0    0.0    0.0    0.0   0.0   0.0    0.0   \n",
       "강서구 댄스교습관련 시설          0.0     0.0    0.0    0.0    0.0   0.0   0.0    0.0   \n",
       "구로구 소재 요양병원/요양원 관련    27.0     0.0    0.0    0.0    0.0   0.0   0.0    0.0   \n",
       "기타 확진자 접촉           1964.0  1518.0  637.0    9.0    0.0  14.0  33.0  440.0   \n",
       "동부구치소 관련             242.0     0.0    0.0    0.0    0.0   0.0   0.0    0.0   \n",
       "마포구 홍대새교회 관련           0.0     0.0    0.0    0.0    0.0   0.0   0.0    0.0   \n",
       "병원 및 요양시설             57.0    82.0   31.0    0.0    0.0   0.0   0.0    0.0   \n",
       "성북구 사랑제일교회 관련          0.0     0.0    0.0    0.0    0.0   0.0   0.0  628.0   \n",
       "용산구 소재 병원 관련           0.0   203.0   16.0    0.0    0.0   0.0   0.0    0.0   \n",
       "이태원 클럽 관련              0.0     0.0    0.0    0.0  133.0   6.0   0.0    0.0   \n",
       "종로구 소재 파고다타운 관련        0.0     0.0    0.0    0.0    0.0   0.0   0.0    0.0   \n",
       "타시도 확진자 접촉           212.0   163.0  115.0    1.0    2.0   4.0  13.0  102.0   \n",
       "해외유입                 152.0   141.0  164.0  111.0   25.0  23.0  39.0   50.0   \n",
       "\n",
       "월                      9      10     11      12  \n",
       "접촉력                                              \n",
       "8.15서울도심집회           13.0    0.0    0.0     0.0  \n",
       "감염경로 조사중            286.0  120.0  474.0  2761.0  \n",
       "강서구 교회 관련             0.0    0.0    0.0   245.0  \n",
       "강서구 댄스교습관련 시설         0.0    0.0  182.0    42.0  \n",
       "구로구 소재 요양병원/요양원 관련    0.0    0.0    0.0   199.0  \n",
       "기타 확진자 접촉           304.0  116.0  631.0  3994.0  \n",
       "동부구치소 관련              0.0    0.0    3.0   930.0  \n",
       "마포구 홍대새교회 관련          0.0    0.0   96.0    13.0  \n",
       "병원 및 요양시설             0.0    0.0    0.0     0.0  \n",
       "성북구 사랑제일교회 관련        13.0    0.0    0.0     0.0  \n",
       "용산구 소재 병원 관련          0.0    0.0    0.0     0.0  \n",
       "이태원 클럽 관련             0.0    0.0    0.0     0.0  \n",
       "종로구 소재 파고다타운 관련       0.0    0.0    1.0   226.0  \n",
       "타시도 확진자 접촉           71.0   33.0  124.0   464.0  \n",
       "해외유입                 23.0   44.0   83.0   110.0  "
      ]
     },
     "execution_count": 301,
     "metadata": {},
     "output_type": "execute_result"
    }
   ],
   "source": [
    "corona_df[corona_df['접촉력'].isin(접촉력상위.index)].pivot_table(index = '접촉력', columns ='월', values = 'ID', aggfunc ='count').fillna(0)"
   ]
  },
  {
   "cell_type": "code",
   "execution_count": null,
   "metadata": {},
   "outputs": [],
   "source": []
  },
  {
   "cell_type": "code",
   "execution_count": null,
   "metadata": {},
   "outputs": [],
   "source": []
  },
  {
   "cell_type": "code",
   "execution_count": null,
   "metadata": {},
   "outputs": [],
   "source": []
  },
  {
   "cell_type": "code",
   "execution_count": null,
   "metadata": {},
   "outputs": [],
   "source": []
  },
  {
   "cell_type": "code",
   "execution_count": 297,
   "metadata": {
    "collapsed": true
   },
   "outputs": [
    {
     "data": {
      "text/html": [
       "<div>\n",
       "<style scoped>\n",
       "    .dataframe tbody tr th:only-of-type {\n",
       "        vertical-align: middle;\n",
       "    }\n",
       "\n",
       "    .dataframe tbody tr th {\n",
       "        vertical-align: top;\n",
       "    }\n",
       "\n",
       "    .dataframe thead th {\n",
       "        text-align: right;\n",
       "    }\n",
       "</style>\n",
       "<table border=\"1\" class=\"dataframe\">\n",
       "  <thead>\n",
       "    <tr style=\"text-align: right;\">\n",
       "      <th></th>\n",
       "      <th>ID</th>\n",
       "      <th>확진일</th>\n",
       "      <th>주</th>\n",
       "      <th>자치구</th>\n",
       "      <th>여행력</th>\n",
       "      <th>접촉력</th>\n",
       "      <th>현재상태</th>\n",
       "      <th>년</th>\n",
       "      <th>월</th>\n",
       "      <th>요일</th>\n",
       "    </tr>\n",
       "  </thead>\n",
       "  <tbody>\n",
       "    <tr>\n",
       "      <th>1</th>\n",
       "      <td>30060</td>\n",
       "      <td>2021-03-14</td>\n",
       "      <td>10</td>\n",
       "      <td>강동구</td>\n",
       "      <td>NaN</td>\n",
       "      <td>감염경로 조사중</td>\n",
       "      <td>NaN</td>\n",
       "      <td>2021</td>\n",
       "      <td>3</td>\n",
       "      <td>일</td>\n",
       "    </tr>\n",
       "    <tr>\n",
       "      <th>3</th>\n",
       "      <td>30058</td>\n",
       "      <td>2021-03-14</td>\n",
       "      <td>10</td>\n",
       "      <td>마포구</td>\n",
       "      <td>NaN</td>\n",
       "      <td>감염경로 조사중</td>\n",
       "      <td>NaN</td>\n",
       "      <td>2021</td>\n",
       "      <td>3</td>\n",
       "      <td>일</td>\n",
       "    </tr>\n",
       "    <tr>\n",
       "      <th>4</th>\n",
       "      <td>30057</td>\n",
       "      <td>2021-03-14</td>\n",
       "      <td>10</td>\n",
       "      <td>서대문구</td>\n",
       "      <td>NaN</td>\n",
       "      <td>타시도 확진자 접촉</td>\n",
       "      <td>NaN</td>\n",
       "      <td>2021</td>\n",
       "      <td>3</td>\n",
       "      <td>일</td>\n",
       "    </tr>\n",
       "    <tr>\n",
       "      <th>5</th>\n",
       "      <td>30056</td>\n",
       "      <td>2021-03-14</td>\n",
       "      <td>10</td>\n",
       "      <td>서대문구</td>\n",
       "      <td>NaN</td>\n",
       "      <td>기타 확진자 접촉</td>\n",
       "      <td>NaN</td>\n",
       "      <td>2021</td>\n",
       "      <td>3</td>\n",
       "      <td>일</td>\n",
       "    </tr>\n",
       "    <tr>\n",
       "      <th>8</th>\n",
       "      <td>30053</td>\n",
       "      <td>2021-03-14</td>\n",
       "      <td>10</td>\n",
       "      <td>광진구</td>\n",
       "      <td>NaN</td>\n",
       "      <td>병원 및 요양시설</td>\n",
       "      <td>NaN</td>\n",
       "      <td>2021</td>\n",
       "      <td>3</td>\n",
       "      <td>일</td>\n",
       "    </tr>\n",
       "    <tr>\n",
       "      <th>...</th>\n",
       "      <td>...</td>\n",
       "      <td>...</td>\n",
       "      <td>...</td>\n",
       "      <td>...</td>\n",
       "      <td>...</td>\n",
       "      <td>...</td>\n",
       "      <td>...</td>\n",
       "      <td>...</td>\n",
       "      <td>...</td>\n",
       "      <td>...</td>\n",
       "    </tr>\n",
       "    <tr>\n",
       "      <th>30053</th>\n",
       "      <td>8</td>\n",
       "      <td>2020-02-02</td>\n",
       "      <td>5</td>\n",
       "      <td>종로구</td>\n",
       "      <td>중국</td>\n",
       "      <td>해외유입</td>\n",
       "      <td>퇴원</td>\n",
       "      <td>2020</td>\n",
       "      <td>2</td>\n",
       "      <td>일</td>\n",
       "    </tr>\n",
       "    <tr>\n",
       "      <th>30056</th>\n",
       "      <td>5</td>\n",
       "      <td>2020-01-31</td>\n",
       "      <td>5</td>\n",
       "      <td>마포구</td>\n",
       "      <td>NaN</td>\n",
       "      <td>기타 확진자 접촉</td>\n",
       "      <td>퇴원</td>\n",
       "      <td>2020</td>\n",
       "      <td>1</td>\n",
       "      <td>금</td>\n",
       "    </tr>\n",
       "    <tr>\n",
       "      <th>30057</th>\n",
       "      <td>4</td>\n",
       "      <td>2020-01-30</td>\n",
       "      <td>5</td>\n",
       "      <td>종로구</td>\n",
       "      <td>중국</td>\n",
       "      <td>해외유입</td>\n",
       "      <td>퇴원</td>\n",
       "      <td>2020</td>\n",
       "      <td>1</td>\n",
       "      <td>목</td>\n",
       "    </tr>\n",
       "    <tr>\n",
       "      <th>30059</th>\n",
       "      <td>2</td>\n",
       "      <td>2020-01-30</td>\n",
       "      <td>5</td>\n",
       "      <td>강서구</td>\n",
       "      <td>중국</td>\n",
       "      <td>해외유입</td>\n",
       "      <td>퇴원</td>\n",
       "      <td>2020</td>\n",
       "      <td>1</td>\n",
       "      <td>목</td>\n",
       "    </tr>\n",
       "    <tr>\n",
       "      <th>30060</th>\n",
       "      <td>1</td>\n",
       "      <td>2020-01-24</td>\n",
       "      <td>4</td>\n",
       "      <td>강서구</td>\n",
       "      <td>중국</td>\n",
       "      <td>해외유입</td>\n",
       "      <td>퇴원</td>\n",
       "      <td>2020</td>\n",
       "      <td>1</td>\n",
       "      <td>금</td>\n",
       "    </tr>\n",
       "  </tbody>\n",
       "</table>\n",
       "<p>22425 rows × 10 columns</p>\n",
       "</div>"
      ],
      "text/plain": [
       "          ID        확진일   주   자치구  여행력         접촉력 현재상태     년  월 요일\n",
       "1      30060 2021-03-14  10   강동구  NaN    감염경로 조사중  NaN  2021  3  일\n",
       "3      30058 2021-03-14  10   마포구  NaN    감염경로 조사중  NaN  2021  3  일\n",
       "4      30057 2021-03-14  10  서대문구  NaN  타시도 확진자 접촉  NaN  2021  3  일\n",
       "5      30056 2021-03-14  10  서대문구  NaN   기타 확진자 접촉  NaN  2021  3  일\n",
       "8      30053 2021-03-14  10   광진구  NaN   병원 및 요양시설  NaN  2021  3  일\n",
       "...      ...        ...  ..   ...  ...         ...  ...   ... .. ..\n",
       "30053      8 2020-02-02   5   종로구   중국        해외유입   퇴원  2020  2  일\n",
       "30056      5 2020-01-31   5   마포구  NaN   기타 확진자 접촉   퇴원  2020  1  금\n",
       "30057      4 2020-01-30   5   종로구   중국        해외유입   퇴원  2020  1  목\n",
       "30059      2 2020-01-30   5   강서구   중국        해외유입   퇴원  2020  1  목\n",
       "30060      1 2020-01-24   4   강서구   중국        해외유입   퇴원  2020  1  금\n",
       "\n",
       "[22425 rows x 10 columns]"
      ]
     },
     "execution_count": 297,
     "metadata": {},
     "output_type": "execute_result"
    }
   ],
   "source": [
    "k=corona_df[corona_df['접촉력'].isin(접촉력상위.index)]  # 접촉력 상위 15개의 접촉력인 행들 \n",
    "k"
   ]
  },
  {
   "cell_type": "code",
   "execution_count": 58,
   "metadata": {},
   "outputs": [
    {
     "data": {
      "text/plain": [
       "월\n",
       "1     4003\n",
       "2     3074\n",
       "3     1425\n",
       "4      137\n",
       "5      165\n",
       "6      113\n",
       "7      134\n",
       "8     1773\n",
       "9      710\n",
       "10     313\n",
       "11    1594\n",
       "12    8984\n",
       "Name: ID, dtype: int64"
      ]
     },
     "execution_count": 58,
     "metadata": {},
     "output_type": "execute_result"
    }
   ],
   "source": [
    "k.groupby('월')['ID'].count()"
   ]
  },
  {
   "cell_type": "code",
   "execution_count": 59,
   "metadata": {},
   "outputs": [
    {
     "data": {
      "image/png": "[encoded data removed]",
      "text/plain": [
       "<Figure size 432x288 with 1 Axes>"
      ]
     },
     "metadata": {
      "needs_background": "light"
     },
     "output_type": "display_data"
    }
   ],
   "source": [
    "k.groupby('월')['ID'].count().plot(kind='bar')\n",
    "\n",
    "plt.xticks(rotation=0)\n",
    "plt.show()"
   ]
  },
  {
   "cell_type": "code",
   "execution_count": null,
   "metadata": {},
   "outputs": [],
   "source": []
  },
  {
   "cell_type": "code",
   "execution_count": null,
   "metadata": {},
   "outputs": [],
   "source": []
  },
  {
   "cell_type": "code",
   "execution_count": null,
   "metadata": {},
   "outputs": [],
   "source": []
  },
  {
   "cell_type": "markdown",
   "metadata": {},
   "source": [
    "# 현재상태 관련조회"
   ]
  },
  {
   "cell_type": "markdown",
   "metadata": {},
   "source": [
    "## 사망자 수/비율 조회"
   ]
  },
  {
   "cell_type": "code",
   "execution_count": 60,
   "metadata": {
    "collapsed": true
   },
   "outputs": [
    {
     "data": {
      "text/html": [
       "<div>\n",
       "<style scoped>\n",
       "    .dataframe tbody tr th:only-of-type {\n",
       "        vertical-align: middle;\n",
       "    }\n",
       "\n",
       "    .dataframe tbody tr th {\n",
       "        vertical-align: top;\n",
       "    }\n",
       "\n",
       "    .dataframe thead th {\n",
       "        text-align: right;\n",
       "    }\n",
       "</style>\n",
       "<table border=\"1\" class=\"dataframe\">\n",
       "  <thead>\n",
       "    <tr style=\"text-align: right;\">\n",
       "      <th></th>\n",
       "      <th>ID</th>\n",
       "      <th>확진일</th>\n",
       "      <th>주</th>\n",
       "      <th>자치구</th>\n",
       "      <th>여행력</th>\n",
       "      <th>접촉력</th>\n",
       "      <th>현재상태</th>\n",
       "      <th>년</th>\n",
       "      <th>월</th>\n",
       "      <th>요일</th>\n",
       "    </tr>\n",
       "  </thead>\n",
       "  <tbody>\n",
       "    <tr>\n",
       "      <th>0</th>\n",
       "      <td>30061</td>\n",
       "      <td>2021-03-14</td>\n",
       "      <td>10</td>\n",
       "      <td>동대문구</td>\n",
       "      <td>NaN</td>\n",
       "      <td>동대문구 소재 병원 관련(\\'21.2.)</td>\n",
       "      <td>사망</td>\n",
       "      <td>2021</td>\n",
       "      <td>3</td>\n",
       "      <td>일</td>\n",
       "    </tr>\n",
       "    <tr>\n",
       "      <th>1</th>\n",
       "      <td>30060</td>\n",
       "      <td>2021-03-14</td>\n",
       "      <td>10</td>\n",
       "      <td>강동구</td>\n",
       "      <td>NaN</td>\n",
       "      <td>감염경로 조사중</td>\n",
       "      <td>NaN</td>\n",
       "      <td>2021</td>\n",
       "      <td>3</td>\n",
       "      <td>일</td>\n",
       "    </tr>\n",
       "    <tr>\n",
       "      <th>2</th>\n",
       "      <td>30059</td>\n",
       "      <td>2021-03-14</td>\n",
       "      <td>10</td>\n",
       "      <td>타시도</td>\n",
       "      <td>NaN</td>\n",
       "      <td>관악구 소재 미용업 관련</td>\n",
       "      <td>NaN</td>\n",
       "      <td>2021</td>\n",
       "      <td>3</td>\n",
       "      <td>일</td>\n",
       "    </tr>\n",
       "    <tr>\n",
       "      <th>3</th>\n",
       "      <td>30058</td>\n",
       "      <td>2021-03-14</td>\n",
       "      <td>10</td>\n",
       "      <td>마포구</td>\n",
       "      <td>NaN</td>\n",
       "      <td>감염경로 조사중</td>\n",
       "      <td>NaN</td>\n",
       "      <td>2021</td>\n",
       "      <td>3</td>\n",
       "      <td>일</td>\n",
       "    </tr>\n",
       "    <tr>\n",
       "      <th>4</th>\n",
       "      <td>30057</td>\n",
       "      <td>2021-03-14</td>\n",
       "      <td>10</td>\n",
       "      <td>서대문구</td>\n",
       "      <td>NaN</td>\n",
       "      <td>타시도 확진자 접촉</td>\n",
       "      <td>NaN</td>\n",
       "      <td>2021</td>\n",
       "      <td>3</td>\n",
       "      <td>일</td>\n",
       "    </tr>\n",
       "    <tr>\n",
       "      <th>...</th>\n",
       "      <td>...</td>\n",
       "      <td>...</td>\n",
       "      <td>...</td>\n",
       "      <td>...</td>\n",
       "      <td>...</td>\n",
       "      <td>...</td>\n",
       "      <td>...</td>\n",
       "      <td>...</td>\n",
       "      <td>...</td>\n",
       "      <td>...</td>\n",
       "    </tr>\n",
       "    <tr>\n",
       "      <th>30056</th>\n",
       "      <td>5</td>\n",
       "      <td>2020-01-31</td>\n",
       "      <td>5</td>\n",
       "      <td>마포구</td>\n",
       "      <td>NaN</td>\n",
       "      <td>기타 확진자 접촉</td>\n",
       "      <td>퇴원</td>\n",
       "      <td>2020</td>\n",
       "      <td>1</td>\n",
       "      <td>금</td>\n",
       "    </tr>\n",
       "    <tr>\n",
       "      <th>30057</th>\n",
       "      <td>4</td>\n",
       "      <td>2020-01-30</td>\n",
       "      <td>5</td>\n",
       "      <td>종로구</td>\n",
       "      <td>중국</td>\n",
       "      <td>해외유입</td>\n",
       "      <td>퇴원</td>\n",
       "      <td>2020</td>\n",
       "      <td>1</td>\n",
       "      <td>목</td>\n",
       "    </tr>\n",
       "    <tr>\n",
       "      <th>30058</th>\n",
       "      <td>3</td>\n",
       "      <td>2020-01-30</td>\n",
       "      <td>5</td>\n",
       "      <td>중랑구</td>\n",
       "      <td>NaN</td>\n",
       "      <td>종로구 집단발병</td>\n",
       "      <td>퇴원</td>\n",
       "      <td>2020</td>\n",
       "      <td>1</td>\n",
       "      <td>목</td>\n",
       "    </tr>\n",
       "    <tr>\n",
       "      <th>30059</th>\n",
       "      <td>2</td>\n",
       "      <td>2020-01-30</td>\n",
       "      <td>5</td>\n",
       "      <td>강서구</td>\n",
       "      <td>중국</td>\n",
       "      <td>해외유입</td>\n",
       "      <td>퇴원</td>\n",
       "      <td>2020</td>\n",
       "      <td>1</td>\n",
       "      <td>목</td>\n",
       "    </tr>\n",
       "    <tr>\n",
       "      <th>30060</th>\n",
       "      <td>1</td>\n",
       "      <td>2020-01-24</td>\n",
       "      <td>4</td>\n",
       "      <td>강서구</td>\n",
       "      <td>중국</td>\n",
       "      <td>해외유입</td>\n",
       "      <td>퇴원</td>\n",
       "      <td>2020</td>\n",
       "      <td>1</td>\n",
       "      <td>금</td>\n",
       "    </tr>\n",
       "  </tbody>\n",
       "</table>\n",
       "<p>30061 rows × 10 columns</p>\n",
       "</div>"
      ],
      "text/plain": [
       "          ID        확진일   주   자치구  여행력                     접촉력 현재상태     년  월  \\\n",
       "0      30061 2021-03-14  10  동대문구  NaN  동대문구 소재 병원 관련(\\'21.2.)   사망  2021  3   \n",
       "1      30060 2021-03-14  10   강동구  NaN                감염경로 조사중  NaN  2021  3   \n",
       "2      30059 2021-03-14  10   타시도  NaN           관악구 소재 미용업 관련  NaN  2021  3   \n",
       "3      30058 2021-03-14  10   마포구  NaN                감염경로 조사중  NaN  2021  3   \n",
       "4      30057 2021-03-14  10  서대문구  NaN              타시도 확진자 접촉  NaN  2021  3   \n",
       "...      ...        ...  ..   ...  ...                     ...  ...   ... ..   \n",
       "30056      5 2020-01-31   5   마포구  NaN               기타 확진자 접촉   퇴원  2020  1   \n",
       "30057      4 2020-01-30   5   종로구   중국                    해외유입   퇴원  2020  1   \n",
       "30058      3 2020-01-30   5   중랑구  NaN                종로구 집단발병   퇴원  2020  1   \n",
       "30059      2 2020-01-30   5   강서구   중국                    해외유입   퇴원  2020  1   \n",
       "30060      1 2020-01-24   4   강서구   중국                    해외유입   퇴원  2020  1   \n",
       "\n",
       "      요일  \n",
       "0      일  \n",
       "1      일  \n",
       "2      일  \n",
       "3      일  \n",
       "4      일  \n",
       "...   ..  \n",
       "30056  금  \n",
       "30057  목  \n",
       "30058  목  \n",
       "30059  목  \n",
       "30060  금  \n",
       "\n",
       "[30061 rows x 10 columns]"
      ]
     },
     "execution_count": 60,
     "metadata": {},
     "output_type": "execute_result"
    }
   ],
   "source": [
    "corona_df"
   ]
  },
  {
   "cell_type": "code",
   "execution_count": 306,
   "metadata": {},
   "outputs": [
    {
     "data": {
      "text/plain": [
       "405"
      ]
     },
     "execution_count": 306,
     "metadata": {},
     "output_type": "execute_result"
    }
   ],
   "source": [
    "(corona_df['현재상태']=='사망').sum()# 사망한 코로나환자수 "
   ]
  },
  {
   "cell_type": "code",
   "execution_count": 307,
   "metadata": {},
   "outputs": [
    {
     "data": {
      "text/plain": [
       "0.013472605701739795"
      ]
     },
     "execution_count": 307,
     "metadata": {},
     "output_type": "execute_result"
    }
   ],
   "source": [
    "(corona_df['현재상태']=='사망').mean()"
   ]
  },
  {
   "cell_type": "code",
   "execution_count": null,
   "metadata": {},
   "outputs": [],
   "source": []
  },
  {
   "cell_type": "code",
   "execution_count": 62,
   "metadata": {},
   "outputs": [
    {
     "data": {
      "text/plain": [
       "1.35"
      ]
     },
     "execution_count": 62,
     "metadata": {},
     "output_type": "execute_result"
    }
   ],
   "source": [
    "np.round(corona_df[corona_df['현재상태']=='사망']['ID'].count()/corona_df['ID'].count()*100,2)"
   ]
  },
  {
   "cell_type": "code",
   "execution_count": null,
   "metadata": {},
   "outputs": [],
   "source": []
  },
  {
   "cell_type": "code",
   "execution_count": null,
   "metadata": {},
   "outputs": [],
   "source": []
  },
  {
   "cell_type": "markdown",
   "metadata": {},
   "source": [
    "## 퇴원, 사망자, 치료중(NA)의 비율을 시각화"
   ]
  },
  {
   "cell_type": "code",
   "execution_count": 63,
   "metadata": {},
   "outputs": [
    {
     "data": {
      "text/plain": [
       "98.65"
      ]
     },
     "execution_count": 63,
     "metadata": {},
     "output_type": "execute_result"
    }
   ],
   "source": [
    "np.round(corona_df[corona_df['현재상태']!='사망']['ID'].count()/corona_df['ID'].count()*100,2)"
   ]
  },
  {
   "cell_type": "code",
   "execution_count": 64,
   "metadata": {},
   "outputs": [
    {
     "data": {
      "text/plain": [
       "퇴원    0.985079\n",
       "사망    0.014921\n",
       "Name: 현재상태, dtype: float64"
      ]
     },
     "execution_count": 64,
     "metadata": {},
     "output_type": "execute_result"
    }
   ],
   "source": [
    "corona_df['현재상태'].value_counts(normalize= True)"
   ]
  },
  {
   "cell_type": "code",
   "execution_count": 182,
   "metadata": {},
   "outputs": [
    {
     "data": {
      "text/plain": [
       "퇴원     26738\n",
       "NaN     2918\n",
       "사망       405\n",
       "Name: 현재상태, dtype: int64"
      ]
     },
     "execution_count": 182,
     "metadata": {},
     "output_type": "execute_result"
    }
   ],
   "source": [
    "corona_df['현재상태'].value_counts(dropna = False)"
   ]
  },
  {
   "cell_type": "code",
   "execution_count": 181,
   "metadata": {},
   "outputs": [
    {
     "data": {
      "text/plain": [
       "퇴원     0.889458\n",
       "NaN    0.097069\n",
       "사망     0.013473\n",
       "Name: 현재상태, dtype: float64"
      ]
     },
     "execution_count": 181,
     "metadata": {},
     "output_type": "execute_result"
    }
   ],
   "source": [
    "corona_df['현재상태'].value_counts(dropna = False,normalize= True)"
   ]
  },
  {
   "cell_type": "code",
   "execution_count": 65,
   "metadata": {},
   "outputs": [
    {
     "data": {
      "text/plain": [
       "퇴원     0.889458\n",
       "치료중    0.097069\n",
       "사망     0.013473\n",
       "Name: 현재상태, dtype: float64"
      ]
     },
     "execution_count": 65,
     "metadata": {},
     "output_type": "execute_result"
    }
   ],
   "source": [
    "#corona_df['현재상태'].fillna('치료중')  현재상태 컬럼에서 NA 값을 '치료중'으로 채움\n",
    "corona_df['현재상태'].fillna('치료중').value_counts(normalize= True)   # 현재상태 컬럼의 값들을 비율화 시킴\n"
   ]
  },
  {
   "cell_type": "code",
   "execution_count": 309,
   "metadata": {},
   "outputs": [
    {
     "data": {
      "text/plain": [
       "<AxesSubplot:ylabel='현재상태'>"
      ]
     },
     "execution_count": 309,
     "metadata": {},
     "output_type": "execute_result"
    },
    {
     "data": {
      "image/png": "[encoded data removed]",
      "text/plain": [
       "<Figure size 432x288 with 1 Axes>"
      ]
     },
     "metadata": {},
     "output_type": "display_data"
    }
   ],
   "source": [
    "corona_df['현재상태'].fillna('치료중').value_counts().plot.pie()"
   ]
  },
  {
   "cell_type": "code",
   "execution_count": 183,
   "metadata": {},
   "outputs": [
    {
     "data": {
      "image/png": "[encoded data removed]",
      "text/plain": [
       "<Figure size 648x648 with 1 Axes>"
      ]
     },
     "metadata": {},
     "output_type": "display_data"
    }
   ],
   "source": [
    "plt.figure(figsize =(9,9))\n",
    "\n",
    "corona_df['현재상태'].fillna('치료중').value_counts(normalize= True).plot(kind ='pie', autopct= '%.2f%%', fontsize = 20)\n",
    "\n",
    "plt.show()"
   ]
  },
  {
   "cell_type": "code",
   "execution_count": null,
   "metadata": {},
   "outputs": [],
   "source": []
  }
 ],
 "metadata": {
  "kernelspec": {
   "display_name": "Python 3",
   "language": "python",
   "name": "python3"
  },
  "language_info": {
   "codemirror_mode": {
    "name": "ipython",
    "version": 3
   },
   "file_extension": ".py",
   "mimetype": "text/x-python",
   "name": "python",
   "nbconvert_exporter": "python",
   "pygments_lexer": "ipython3",
   "version": "3.8.5"
  },
  "toc": {
   "base_numbering": 1,
   "nav_menu": {},
   "number_sections": true,
   "sideBar": true,
   "skip_h1_title": false,
   "title_cell": "Table of Contents",
   "title_sidebar": "Contents",
   "toc_cell": false,
   "toc_position": {},
   "toc_section_display": true,
   "toc_window_display": false
  },
  "varInspector": {
   "cols": {
    "lenName": 16,
    "lenType": 16,
    "lenVar": 40
   },
   "kernels_config": {
    "python": {
     "delete_cmd_postfix": "",
     "delete_cmd_prefix": "del ",
     "library": "var_list.py",
     "varRefreshCmd": "print(var_dic_list())"
    },
    "r": {
     "delete_cmd_postfix": ") ",
     "delete_cmd_prefix": "rm(",
     "library": "var_list.r",
     "varRefreshCmd": "cat(var_dic_list()) "
    }
   },
   "types_to_exclude": [
    "module",
    "function",
    "builtin_function_or_method",
    "instance",
    "_Feature"
   ],
   "window_display": false
  }
 },
 "nbformat": 4,
 "nbformat_minor": 4
}
