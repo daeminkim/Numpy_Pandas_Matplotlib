{
 "cells": [
  {
   "cell_type": "code",
   "execution_count": null,
   "metadata": {},
   "outputs": [],
   "source": [
    "\n",
    "# 오늘 중 (12시)"
   ]
  },
  {
   "cell_type": "markdown",
   "metadata": {},
   "source": [
    "# 4 , 16 번 잘 모르겠음\n",
    "# 27,28 ,30 axis 이유 잘 모르겠음. 왜 0으로 해야하는지."
   ]
  },
  {
   "cell_type": "code",
   "execution_count": null,
   "metadata": {},
   "outputs": [],
   "source": [
    "1. 10, 7, 5, 90, 100 을 가지는 1차원 배열을 생성."
   ]
  },
  {
   "cell_type": "code",
   "execution_count": 2,
   "metadata": {},
   "outputs": [
    {
     "data": {
      "text/plain": [
       "array([ 10,   7,   5,  90, 100])"
      ]
     },
     "execution_count": 2,
     "metadata": {},
     "output_type": "execute_result"
    }
   ],
   "source": [
    "import numpy as np\n",
    "arr = np.array([10,7,5,90,100])\n",
    "arr"
   ]
  },
  {
   "cell_type": "code",
   "execution_count": null,
   "metadata": {},
   "outputs": [],
   "source": [
    "2. 100 ~ 200 범위의 숫자중 짝수를 가지는 배열을 생성."
   ]
  },
  {
   "cell_type": "code",
   "execution_count": 5,
   "metadata": {},
   "outputs": [
    {
     "name": "stdout",
     "output_type": "stream",
     "text": [
      "[100 102 104 106 108 110 112 114 116 118 120 122 124 126 128 130 132 134\n",
      " 136 138 140 142 144 146 148 150 152 154 156 158 160 162 164 166 168 170\n",
      " 172 174 176 178 180 182 184 186 188 190 192 194 196 198 200]\n",
      "(51,)\n"
     ]
    }
   ],
   "source": [
    "arr1= np.arange(100,201,2)\n",
    "print(arr1)\n",
    "print(arr1.shape)"
   ]
  },
  {
   "cell_type": "code",
   "execution_count": null,
   "metadata": {},
   "outputs": [],
   "source": [
    "3. 2번에서 생성한 배열과 동일한 shape에 0을 원소로 가지는 배열 생성."
   ]
  },
  {
   "cell_type": "code",
   "execution_count": 10,
   "metadata": {},
   "outputs": [
    {
     "name": "stdout",
     "output_type": "stream",
     "text": [
      "[0. 0. 0. 0. 0. 0. 0. 0. 0. 0. 0. 0. 0. 0. 0. 0. 0. 0. 0. 0. 0. 0. 0. 0.\n",
      " 0. 0. 0. 0. 0. 0. 0. 0. 0. 0. 0. 0. 0. 0. 0. 0. 0. 0. 0. 0. 0. 0. 0. 0.\n",
      " 0. 0. 0.]\n",
      "(51,)\n"
     ]
    }
   ],
   "source": [
    "z = np.zeros(51,)\n",
    "print(z)\n",
    "print(z.shape)"
   ]
  },
  {
   "cell_type": "code",
   "execution_count": null,
   "metadata": {},
   "outputs": [],
   "source": [
    "4. 1001 ~ 10000 범위의 정수 중 100의 배수만 가지는 3차원 배열을 생성. (shape은 상관없음.)\n",
    "- 다시 "
   ]
  },
  {
   "cell_type": "code",
   "execution_count": 188,
   "metadata": {},
   "outputs": [
    {
     "data": {
      "text/plain": [
       "array([1001, 1101, 1201, 1301, 1401, 1501, 1601, 1701, 1801, 1901, 2001,\n",
       "       2101, 2201, 2301, 2401, 2501, 2601, 2701, 2801, 2901, 3001, 3101,\n",
       "       3201, 3301, 3401, 3501, 3601, 3701, 3801, 3901, 4001, 4101, 4201,\n",
       "       4301, 4401, 4501, 4601, 4701, 4801, 4901, 5001, 5101, 5201, 5301,\n",
       "       5401, 5501, 5601, 5701, 5801, 5901, 6001, 6101, 6201, 6301, 6401,\n",
       "       6501, 6601, 6701, 6801, 6901, 7001, 7101, 7201, 7301, 7401, 7501,\n",
       "       7601, 7701, 7801, 7901, 8001, 8101, 8201, 8301, 8401, 8501, 8601,\n",
       "       8701, 8801, 8901, 9001, 9101, 9201, 9301, 9401, 9501, 9601, 9701,\n",
       "       9801, 9901])"
      ]
     },
     "execution_count": 188,
     "metadata": {},
     "output_type": "execute_result"
    }
   ],
   "source": [
    "k= np.arange(1001,10000,100)\n",
    "k"
   ]
  },
  {
   "cell_type": "code",
   "execution_count": 189,
   "metadata": {},
   "outputs": [
    {
     "name": "stdout",
     "output_type": "stream",
     "text": [
      "90\n",
      "[[[1001 1101 1201 1301 1401]\n",
      "  [1501 1601 1701 1801 1901]\n",
      "  [2001 2101 2201 2301 2401]\n",
      "  [2501 2601 2701 2801 2901]\n",
      "  [3001 3101 3201 3301 3401]\n",
      "  [3501 3601 3701 3801 3901]\n",
      "  [4001 4101 4201 4301 4401]\n",
      "  [4501 4601 4701 4801 4901]\n",
      "  [5001 5101 5201 5301 5401]]\n",
      "\n",
      " [[5501 5601 5701 5801 5901]\n",
      "  [6001 6101 6201 6301 6401]\n",
      "  [6501 6601 6701 6801 6901]\n",
      "  [7001 7101 7201 7301 7401]\n",
      "  [7501 7601 7701 7801 7901]\n",
      "  [8001 8101 8201 8301 8401]\n",
      "  [8501 8601 8701 8801 8901]\n",
      "  [9001 9101 9201 9301 9401]\n",
      "  [9501 9601 9701 9801 9901]]]\n"
     ]
    }
   ],
   "source": [
    "print(k.size)\n",
    "print(k.reshape(2,9,5))"
   ]
  },
  {
   "cell_type": "code",
   "execution_count": null,
   "metadata": {},
   "outputs": [],
   "source": [
    "5. (4,4) 형태의 단위행렬(항등행렬)을 생성."
   ]
  },
  {
   "cell_type": "code",
   "execution_count": 23,
   "metadata": {},
   "outputs": [
    {
     "data": {
      "text/plain": [
       "array([[1., 0., 0., 0.],\n",
       "       [0., 1., 0., 0.],\n",
       "       [0., 0., 1., 0.],\n",
       "       [0., 0., 0., 1.]])"
      ]
     },
     "execution_count": 23,
     "metadata": {},
     "output_type": "execute_result"
    }
   ],
   "source": [
    "k1 = np.identity(4)\n",
    "k1"
   ]
  },
  {
   "cell_type": "code",
   "execution_count": null,
   "metadata": {},
   "outputs": [],
   "source": [
    "6. 다음 값을 가지는 배열을 생성하고 배열의 차원수(rank)와 형태, 총 원소(element)의 개수를 조회.\n",
    "20, 90, 80, 100, -20, 30\n",
    "50, -10, 25, 120, -40, 90"
   ]
  },
  {
   "cell_type": "code",
   "execution_count": 28,
   "metadata": {},
   "outputs": [
    {
     "name": "stdout",
     "output_type": "stream",
     "text": [
      "2\n",
      "12\n"
     ]
    }
   ],
   "source": [
    "l=[\n",
    "    [20, 90, 80, 100, -20, 30],\n",
    "    [50, -10, 25, 120, -40, 90]\n",
    "]\n",
    "\n",
    "arr = np.array(l)\n",
    "print(arr.ndim)  # 차원\n",
    "print(arr.size)  # 개수"
   ]
  },
  {
   "cell_type": "code",
   "execution_count": null,
   "metadata": {},
   "outputs": [],
   "source": [
    "7. 정규분포를 따르는 난수를 가지는 (3,2,7) 형태의 배열을 생성."
   ]
  },
  {
   "cell_type": "code",
   "execution_count": 36,
   "metadata": {},
   "outputs": [
    {
     "name": "stdout",
     "output_type": "stream",
     "text": [
      "(3, 2, 7)\n",
      "[[[ 0.285049   21.64027655  3.35841632  6.61203136 11.21262896\n",
      "    9.33606738 11.10202655]\n",
      "  [11.06630143 12.81746548  4.19250851 18.6126226  12.24506663\n",
      "   17.67377758 -0.72592372]]\n",
      "\n",
      " [[17.83106809 12.85459324 15.55296328  3.06987083  9.56523088\n",
      "    5.79822953 10.21172051]\n",
      "  [13.32471461 13.74772984 11.06395038 12.59899608  8.63928535\n",
      "   -0.7980305   7.39851364]]\n",
      "\n",
      " [[ 9.77982248 10.84747602  8.46948846  3.74000932 13.9475671\n",
      "   21.7564035   0.85977615]\n",
      "  [ 2.73540507 18.59411443  9.84238401 10.53951762 -3.85601188\n",
      "   14.32690647 16.43466392]]]\n"
     ]
    }
   ],
   "source": [
    "dm = np.random.normal(10,5,size=(3,2,7))  # (평균,표준편차,size)\n",
    "print(dm.shape)\n",
    "print(dm)\n"
   ]
  },
  {
   "cell_type": "code",
   "execution_count": null,
   "metadata": {},
   "outputs": [],
   "source": [
    "8. 1 ~ 100 사이의 정수 난수를 가지는 (4, 5) 형태의 배열을 생성한 뒤 arr.npy 파일로 저장."
   ]
  },
  {
   "cell_type": "code",
   "execution_count": 38,
   "metadata": {},
   "outputs": [
    {
     "name": "stdout",
     "output_type": "stream",
     "text": [
      "(4, 5)\n",
      "[[61 15 38 20 38]\n",
      " [99 11 76  3 84]\n",
      " [59 38 49 93  6]\n",
      " [63 10 59 92 55]]\n"
     ]
    }
   ],
   "source": [
    "m1 = np.random.randint(1,101,(4,5))\n",
    "print(m1.shape)\n",
    "print(m1)"
   ]
  },
  {
   "cell_type": "code",
   "execution_count": 39,
   "metadata": {},
   "outputs": [],
   "source": [
    "np.save('arr.npy',m1)"
   ]
  },
  {
   "cell_type": "code",
   "execution_count": null,
   "metadata": {},
   "outputs": [],
   "source": [
    "9. 8번에서 저장한 arr.npy 의 배열을 불러와서 출력."
   ]
  },
  {
   "cell_type": "code",
   "execution_count": 40,
   "metadata": {},
   "outputs": [
    {
     "data": {
      "text/plain": [
       "array([[61, 15, 38, 20, 38],\n",
       "       [99, 11, 76,  3, 84],\n",
       "       [59, 38, 49, 93,  6],\n",
       "       [63, 10, 59, 92, 55]])"
      ]
     },
     "execution_count": 40,
     "metadata": {},
     "output_type": "execute_result"
    }
   ],
   "source": [
    "m2 =np.load('arr.npy')\n",
    "m2"
   ]
  },
  {
   "cell_type": "code",
   "execution_count": null,
   "metadata": {},
   "outputs": [],
   "source": [
    "10. 9번에서 불러온 배열에서 전체 값의 총합, 0번축 기준의 총합, 1번축 기준의 총합을 구하기."
   ]
  },
  {
   "cell_type": "code",
   "execution_count": 45,
   "metadata": {},
   "outputs": [
    {
     "name": "stdout",
     "output_type": "stream",
     "text": [
      "969\n",
      "[282  74 222 208 183]\n",
      "[172 273 245 279]\n"
     ]
    }
   ],
   "source": [
    "print(np.add.reduce(m2,axis=None))\n",
    "print(np.add.reduce(m2,axis = 0))\n",
    "print(np.add.reduce(m2,axis = 1))"
   ]
  },
  {
   "cell_type": "code",
   "execution_count": null,
   "metadata": {},
   "outputs": [],
   "source": [
    "11. 임의의 Boolean 값을 가지는 (5, 10) 배열을 생성하고 True의 개수를 출력하시오."
   ]
  },
  {
   "cell_type": "code",
   "execution_count": 50,
   "metadata": {},
   "outputs": [
    {
     "data": {
      "text/plain": [
       "(5, 10)"
      ]
     },
     "execution_count": 50,
     "metadata": {},
     "output_type": "execute_result"
    }
   ],
   "source": [
    "bool1 = np.random.choice([True,False],size=50)\n",
    "bool2=bool1.reshape(5,10)\n",
    "bool2.shape  "
   ]
  },
  {
   "cell_type": "code",
   "execution_count": 51,
   "metadata": {},
   "outputs": [
    {
     "data": {
      "text/plain": [
       "23"
      ]
     },
     "execution_count": 51,
     "metadata": {},
     "output_type": "execute_result"
    }
   ],
   "source": [
    "np.sum(bool2)  # True 개수"
   ]
  },
  {
   "cell_type": "code",
   "execution_count": null,
   "metadata": {},
   "outputs": [],
   "source": [
    "12-17. 아래 배열을 생성하고 12번 ~ 17번 문제는 아래 조건으로 생성한 배열을 가지고 푸세요.\n",
    " 0 ~ 29 범위의 정수를 원소로 가지는 (5,6) 의 배열을 생성하고 변수에 저장."
   ]
  },
  {
   "cell_type": "code",
   "execution_count": 52,
   "metadata": {},
   "outputs": [
    {
     "data": {
      "text/plain": [
       "array([[10,  1, 19,  0, 21, 25],\n",
       "       [16,  6, 21, 18,  5, 14],\n",
       "       [21, 12,  2,  5, 20,  4],\n",
       "       [19, 25, 28, 22,  7,  7],\n",
       "       [ 8,  3,  0, 21, 24, 28]])"
      ]
     },
     "execution_count": 52,
     "metadata": {},
     "output_type": "execute_result"
    }
   ],
   "source": [
    "d1 = np.random.randint(0,30,size=(5,6))\n",
    "d1"
   ]
  },
  {
   "cell_type": "code",
   "execution_count": null,
   "metadata": {},
   "outputs": [],
   "source": [
    "12. index (1,1), (2,3), (1,5)의 값들 조회"
   ]
  },
  {
   "cell_type": "code",
   "execution_count": 56,
   "metadata": {},
   "outputs": [
    {
     "data": {
      "text/plain": [
       "array([ 6,  5, 14])"
      ]
     },
     "execution_count": 56,
     "metadata": {},
     "output_type": "execute_result"
    }
   ],
   "source": [
    "d1[[1,2,1],[1,3,5]]"
   ]
  },
  {
   "cell_type": "code",
   "execution_count": null,
   "metadata": {},
   "outputs": [],
   "source": [
    "13. index (1,1), (1,2), (1,3), (2,1), (2,2), (2,3), (3,1), (3,2), (3,3)의 값들을 조회."
   ]
  },
  {
   "cell_type": "code",
   "execution_count": 57,
   "metadata": {},
   "outputs": [
    {
     "data": {
      "text/plain": [
       "array([ 6, 21, 18, 12,  2,  5, 25, 28, 22])"
      ]
     },
     "execution_count": 57,
     "metadata": {},
     "output_type": "execute_result"
    }
   ],
   "source": [
    "d1[[1,1,1,2,2,2,3,3,3],[1,2,3,1,2,3,1,2,3]]"
   ]
  },
  {
   "cell_type": "code",
   "execution_count": null,
   "metadata": {},
   "outputs": [],
   "source": [
    "14. 13와 같은 index의 값들을 뒤집어서(reversing) 조회."
   ]
  },
  {
   "cell_type": "code",
   "execution_count": 62,
   "metadata": {},
   "outputs": [
    {
     "name": "stdout",
     "output_type": "stream",
     "text": [
      "[[28 24 21  0  3  8]\n",
      " [ 7  7 22 28 25 19]\n",
      " [ 4 20  5  2 12 21]\n",
      " [14  5 18 21  6 16]\n",
      " [25 21  0 19  1 10]]\n"
     ]
    }
   ],
   "source": [
    "print(np.flip(d1))"
   ]
  },
  {
   "cell_type": "code",
   "execution_count": 63,
   "metadata": {},
   "outputs": [
    {
     "name": "stdout",
     "output_type": "stream",
     "text": [
      "[[25 21  0 19  1 10]\n",
      " [14  5 18 21  6 16]\n",
      " [ 4 20  5  2 12 21]\n",
      " [ 7  7 22 28 25 19]\n",
      " [28 24 21  0  3  8]]\n"
     ]
    }
   ],
   "source": [
    "print(np.flip(d1,axis=1))"
   ]
  },
  {
   "cell_type": "code",
   "execution_count": 70,
   "metadata": {},
   "outputs": [
    {
     "data": {
      "text/plain": [
       "array([[10,  1, 19,  0, 21, 25],\n",
       "       [16,  6, 21, 18,  5, 14],\n",
       "       [21, 12,  2,  5, 20,  4],\n",
       "       [19, 25, 28, 22,  7,  7],\n",
       "       [ 8,  3,  0, 21, 24, 28]])"
      ]
     },
     "execution_count": 70,
     "metadata": {},
     "output_type": "execute_result"
    }
   ],
   "source": [
    "d1"
   ]
  },
  {
   "cell_type": "code",
   "execution_count": 69,
   "metadata": {},
   "outputs": [
    {
     "data": {
      "text/plain": [
       "array([[ 8,  3,  0, 21, 24, 28],\n",
       "       [19, 25, 28, 22,  7,  7],\n",
       "       [21, 12,  2,  5, 20,  4],\n",
       "       [16,  6, 21, 18,  5, 14],\n",
       "       [10,  1, 19,  0, 21, 25]])"
      ]
     },
     "execution_count": 69,
     "metadata": {},
     "output_type": "execute_result"
    }
   ],
   "source": [
    "d1[::-1,::]"
   ]
  },
  {
   "cell_type": "code",
   "execution_count": 71,
   "metadata": {},
   "outputs": [
    {
     "data": {
      "text/plain": [
       "array([[25, 21,  0, 19,  1, 10],\n",
       "       [14,  5, 18, 21,  6, 16],\n",
       "       [ 4, 20,  5,  2, 12, 21],\n",
       "       [ 7,  7, 22, 28, 25, 19],\n",
       "       [28, 24, 21,  0,  3,  8]])"
      ]
     },
     "execution_count": 71,
     "metadata": {},
     "output_type": "execute_result"
    }
   ],
   "source": [
    "d1[::,::-1]"
   ]
  },
  {
   "cell_type": "code",
   "execution_count": null,
   "metadata": {},
   "outputs": [],
   "source": [
    "15. 배열에서 15 이상의 원소만 조회해서 그 평균을 출력."
   ]
  },
  {
   "cell_type": "code",
   "execution_count": 80,
   "metadata": {},
   "outputs": [
    {
     "data": {
      "text/plain": [
       "21.866666666666667"
      ]
     },
     "execution_count": 80,
     "metadata": {},
     "output_type": "execute_result"
    }
   ],
   "source": [
    "sum(d1[d1>15])/np.sum(d1>15)"
   ]
  },
  {
   "cell_type": "code",
   "execution_count": 81,
   "metadata": {},
   "outputs": [
    {
     "data": {
      "text/plain": [
       "15"
      ]
     },
     "execution_count": 81,
     "metadata": {},
     "output_type": "execute_result"
    }
   ],
   "source": [
    "np.sum(d1>15)"
   ]
  },
  {
   "cell_type": "code",
   "execution_count": 82,
   "metadata": {},
   "outputs": [
    {
     "data": {
      "text/plain": [
       "328"
      ]
     },
     "execution_count": 82,
     "metadata": {},
     "output_type": "execute_result"
    }
   ],
   "source": [
    "sum(d1[d1>15])"
   ]
  },
  {
   "cell_type": "code",
   "execution_count": 190,
   "metadata": {},
   "outputs": [
    {
     "data": {
      "text/plain": [
       "array([[10,  1, 19,  0, 21, 25],\n",
       "       [16,  6, 21, 18,  5, 14],\n",
       "       [21, 12,  2,  5, 20,  4],\n",
       "       [19, 25, 28, 22,  7,  7],\n",
       "       [ 8,  3,  0, 21, 24, 28]])"
      ]
     },
     "execution_count": 190,
     "metadata": {},
     "output_type": "execute_result"
    }
   ],
   "source": [
    "d1"
   ]
  },
  {
   "cell_type": "code",
   "execution_count": null,
   "metadata": {},
   "outputs": [],
   "source": [
    "16. 배열에서 15이상의 원소들의 index를 조회. (0축 index, 1축 index) 형식으로 출력. \n",
    "    ex: (0,0), (0,1) 식으로 출력\n",
    "- 다시 "
   ]
  },
  {
   "cell_type": "code",
   "execution_count": 191,
   "metadata": {},
   "outputs": [
    {
     "data": {
      "text/plain": [
       "(array([0, 0, 0, 1, 1, 1, 2, 2, 3, 3, 3, 3, 4, 4, 4], dtype=int64),\n",
       " array([2, 4, 5, 0, 2, 3, 0, 4, 0, 1, 2, 3, 3, 4, 5], dtype=int64))"
      ]
     },
     "execution_count": 191,
     "metadata": {},
     "output_type": "execute_result"
    }
   ],
   "source": [
    "k=np.where(d1>15)\n",
    "k"
   ]
  },
  {
   "cell_type": "code",
   "execution_count": 197,
   "metadata": {},
   "outputs": [
    {
     "data": {
      "text/plain": [
       "array([0, 0, 0, 1, 1, 1, 2, 2, 3, 3, 3, 3, 4, 4, 4, 2, 4, 5, 0, 2, 3, 0,\n",
       "       4, 0, 1, 2, 3, 3, 4, 5], dtype=int64)"
      ]
     },
     "execution_count": 197,
     "metadata": {},
     "output_type": "execute_result"
    }
   ],
   "source": [
    "k1= np.array(k).reshape(30,)\n",
    "k1"
   ]
  },
  {
   "cell_type": "code",
   "execution_count": null,
   "metadata": {},
   "outputs": [],
   "source": [
    "17. 배열을 axis 1을 기준으로 내림차순으로 정렬. \n",
    "결과\n",
    "[[ 5,  4,  3,  2,  1,  0],\n",
    " [11, 10,  9,  8,  7,  6],\n",
    " [17, 16, 15, 14, 13, 12],\n",
    " [23, 22, 21, 20, 19, 18],\n",
    " [29, 28, 27, 26, 25, 24]]   "
   ]
  },
  {
   "cell_type": "code",
   "execution_count": 88,
   "metadata": {},
   "outputs": [],
   "source": [
    "m=  [[ 5,  4,  3,  2,  1,  0],\n",
    " [11, 10,  9,  8,  7,  6],\n",
    " [17, 16, 15, 14, 13, 12],\n",
    " [23, 22, 21, 20, 19, 18],\n",
    " [29, 28, 27, 26, 25, 24]]"
   ]
  },
  {
   "cell_type": "code",
   "execution_count": 89,
   "metadata": {},
   "outputs": [
    {
     "data": {
      "text/plain": [
       "array([[[ 5,  4,  3,  2,  1,  0],\n",
       "        [11, 10,  9,  8,  7,  6],\n",
       "        [17, 16, 15, 14, 13, 12],\n",
       "        [23, 22, 21, 20, 19, 18],\n",
       "        [29, 28, 27, 26, 25, 24]]])"
      ]
     },
     "execution_count": 89,
     "metadata": {},
     "output_type": "execute_result"
    }
   ],
   "source": [
    "m2= np.array([m])\n",
    "m2"
   ]
  },
  {
   "cell_type": "code",
   "execution_count": 105,
   "metadata": {},
   "outputs": [
    {
     "data": {
      "text/plain": [
       "array([[[29, 28, 27, 26, 25, 24],\n",
       "        [23, 22, 21, 20, 19, 18],\n",
       "        [17, 16, 15, 14, 13, 12],\n",
       "        [11, 10,  9,  8,  7,  6],\n",
       "        [ 5,  4,  3,  2,  1,  0]]])"
      ]
     },
     "execution_count": 105,
     "metadata": {},
     "output_type": "execute_result"
    }
   ],
   "source": [
    "m3 = np.sort(m2,axis =1)\n",
    "m3[::-1,::-1]"
   ]
  },
  {
   "cell_type": "code",
   "execution_count": null,
   "metadata": {},
   "outputs": [],
   "source": [
    "18-21. 아래 배열을 생성하고 18번 ~ 21번 문제는 아래 조건으로 생성한 배열을 가지고 푸세요.\n",
    "(3, 2) shape의 배열을 생성 하시오. "
   ]
  },
  {
   "cell_type": "code",
   "execution_count": 108,
   "metadata": {},
   "outputs": [
    {
     "data": {
      "text/plain": [
       "(3, 2)"
      ]
     },
     "execution_count": 108,
     "metadata": {},
     "output_type": "execute_result"
    }
   ],
   "source": [
    "arr1 = np.arange(6).reshape(3,2)\n",
    "arr1.shape"
   ]
  },
  {
   "cell_type": "code",
   "execution_count": null,
   "metadata": {},
   "outputs": [],
   "source": [
    "18. 배열의 shape을 (1, 3, 2) 로 변환한 배열을 생성."
   ]
  },
  {
   "cell_type": "code",
   "execution_count": 110,
   "metadata": {},
   "outputs": [
    {
     "data": {
      "text/plain": [
       "(1, 3, 2)"
      ]
     },
     "execution_count": 110,
     "metadata": {},
     "output_type": "execute_result"
    }
   ],
   "source": [
    "arr2= arr1[np.newaxis,:,:]\n",
    "arr2.shape"
   ]
  },
  {
   "cell_type": "code",
   "execution_count": null,
   "metadata": {},
   "outputs": [],
   "source": [
    "19. 배열의 shape을 (1, 3, 2, 1) 로 변환한 배열을 생성."
   ]
  },
  {
   "cell_type": "code",
   "execution_count": 111,
   "metadata": {},
   "outputs": [
    {
     "data": {
      "text/plain": [
       "(1, 3, 2, 1)"
      ]
     },
     "execution_count": 111,
     "metadata": {},
     "output_type": "execute_result"
    }
   ],
   "source": [
    "arr3 = arr1[np.newaxis,:,:,np.newaxis]\n",
    "arr3.shape"
   ]
  },
  {
   "cell_type": "code",
   "execution_count": null,
   "metadata": {},
   "outputs": [],
   "source": [
    "20. 배열을 1차원 배열로 변환한 배열을 생성."
   ]
  },
  {
   "cell_type": "code",
   "execution_count": 112,
   "metadata": {},
   "outputs": [
    {
     "data": {
      "text/plain": [
       "array([0, 1, 2, 3, 4, 5])"
      ]
     },
     "execution_count": 112,
     "metadata": {},
     "output_type": "execute_result"
    }
   ],
   "source": [
    "arr4=arr1.reshape(6,)\n",
    "arr4"
   ]
  },
  {
   "cell_type": "code",
   "execution_count": null,
   "metadata": {},
   "outputs": [],
   "source": [
    "21. 배열의 0번 축에 2개의 값을 추가. (추가된 배열의 shape: (5,2))//"
   ]
  },
  {
   "cell_type": "code",
   "execution_count": 113,
   "metadata": {},
   "outputs": [
    {
     "data": {
      "text/plain": [
       "array([[0, 1],\n",
       "       [2, 3],\n",
       "       [4, 5]])"
      ]
     },
     "execution_count": 113,
     "metadata": {},
     "output_type": "execute_result"
    }
   ],
   "source": [
    "arr1"
   ]
  },
  {
   "cell_type": "code",
   "execution_count": 116,
   "metadata": {},
   "outputs": [
    {
     "data": {
      "text/plain": [
       "(5, 2)"
      ]
     },
     "execution_count": 116,
     "metadata": {},
     "output_type": "execute_result"
    }
   ],
   "source": [
    "arr0=np.append(arr1,[[6,7],[8,9]],axis=0)\n",
    "arr0.shape"
   ]
  },
  {
   "cell_type": "code",
   "execution_count": null,
   "metadata": {},
   "outputs": [],
   "source": [
    "22-28. 다음 배열은 5명 학생의 국어, 영어, 수학, 과학 시험 점수이다. 행(axis=0)은 각 학생의 시험점수이고 컬럼(axis=1)은 과목을 가리킨다."
   ]
  },
  {
   "cell_type": "code",
   "execution_count": 119,
   "metadata": {},
   "outputs": [],
   "source": [
    "l=[\n",
    " [ 60,  80,  60, 100],\n",
    " [ 80,  80,  90,  90],\n",
    " [ 90,  60,  70,  50],\n",
    " [ 40,  80,  60,  50],\n",
    " [ 60,  50,  70, 100]\n",
    "]"
   ]
  },
  {
   "cell_type": "code",
   "execution_count": 127,
   "metadata": {},
   "outputs": [
    {
     "data": {
      "text/plain": [
       "(5, 4)"
      ]
     },
     "execution_count": 127,
     "metadata": {},
     "output_type": "execute_result"
    }
   ],
   "source": [
    "jum = np.array(l)\n",
    "jum\n",
    "jum.shape"
   ]
  },
  {
   "cell_type": "code",
   "execution_count": null,
   "metadata": {},
   "outputs": [],
   "source": [
    "22. 각 과목별 평균점수를 조회."
   ]
  },
  {
   "cell_type": "code",
   "execution_count": 130,
   "metadata": {},
   "outputs": [],
   "source": [
    "av=np.add.reduce(jum,axis=0)/5\n",
    "av1=av.reshape(1,4)"
   ]
  },
  {
   "cell_type": "code",
   "execution_count": null,
   "metadata": {},
   "outputs": [],
   "source": []
  },
  {
   "cell_type": "code",
   "execution_count": null,
   "metadata": {},
   "outputs": [],
   "source": [
    "23. 각 과목별 평균 점수를 성적 배열에 추가. "
   ]
  },
  {
   "cell_type": "code",
   "execution_count": 131,
   "metadata": {},
   "outputs": [
    {
     "data": {
      "text/plain": [
       "array([[ 60.,  80.,  60., 100.],\n",
       "       [ 80.,  80.,  90.,  90.],\n",
       "       [ 90.,  60.,  70.,  50.],\n",
       "       [ 40.,  80.,  60.,  50.],\n",
       "       [ 60.,  50.,  70., 100.],\n",
       "       [ 66.,  70.,  70.,  78.]])"
      ]
     },
     "execution_count": 131,
     "metadata": {},
     "output_type": "execute_result"
    }
   ],
   "source": [
    "np.append(jum,av1,axis=0)"
   ]
  },
  {
   "cell_type": "code",
   "execution_count": null,
   "metadata": {},
   "outputs": [],
   "source": [
    "24. 각 학생들의 평균 점수 조회"
   ]
  },
  {
   "cell_type": "code",
   "execution_count": 132,
   "metadata": {},
   "outputs": [
    {
     "data": {
      "text/plain": [
       "array([75. , 85. , 67.5, 57.5, 70. ])"
      ]
     },
     "execution_count": 132,
     "metadata": {},
     "output_type": "execute_result"
    }
   ],
   "source": [
    "np.add.reduce(jum,axis=1)/4"
   ]
  },
  {
   "cell_type": "code",
   "execution_count": null,
   "metadata": {},
   "outputs": [],
   "source": [
    "25. 과목별로 몇번째 학생의 성적이 가장 높은지 조회"
   ]
  },
  {
   "cell_type": "code",
   "execution_count": 138,
   "metadata": {},
   "outputs": [
    {
     "data": {
      "text/plain": [
       "array([ 90,  80,  90, 100])"
      ]
     },
     "execution_count": 138,
     "metadata": {},
     "output_type": "execute_result"
    }
   ],
   "source": [
    "np.max(jum,axis=0)"
   ]
  },
  {
   "cell_type": "code",
   "execution_count": 137,
   "metadata": {},
   "outputs": [
    {
     "data": {
      "text/plain": [
       "array([2, 0, 1, 0], dtype=int64)"
      ]
     },
     "execution_count": 137,
     "metadata": {},
     "output_type": "execute_result"
    }
   ],
   "source": [
    "np.argmax(jum,axis=0)"
   ]
  },
  {
   "cell_type": "code",
   "execution_count": 142,
   "metadata": {},
   "outputs": [
    {
     "data": {
      "text/plain": [
       "array([[ 60,  80,  60, 100],\n",
       "       [ 80,  80,  90,  90],\n",
       "       [ 90,  60,  70,  50],\n",
       "       [ 40,  80,  60,  50],\n",
       "       [ 60,  50,  70, 100]])"
      ]
     },
     "execution_count": 142,
     "metadata": {},
     "output_type": "execute_result"
    }
   ],
   "source": [
    "jum"
   ]
  },
  {
   "cell_type": "code",
   "execution_count": null,
   "metadata": {},
   "outputs": [],
   "source": [
    "26. 학생별로 어떤 과목의 점수가 가장 낮은지 조회."
   ]
  },
  {
   "cell_type": "code",
   "execution_count": 143,
   "metadata": {},
   "outputs": [
    {
     "data": {
      "text/plain": [
       "array([0, 0, 3, 0, 1], dtype=int64)"
      ]
     },
     "execution_count": 143,
     "metadata": {},
     "output_type": "execute_result"
    }
   ],
   "source": [
    "np.argmin(jum,axis=1)"
   ]
  },
  {
   "cell_type": "code",
   "execution_count": null,
   "metadata": {},
   "outputs": [],
   "source": [
    "27. 각 과목별로 편차가 가장 적은 과목과 가장 큰 과목을 조회\n",
    "# 왜 axis =0 으로 해야하는지 모르겠음 axis=1 방향이 과목인데.."
   ]
  },
  {
   "cell_type": "code",
   "execution_count": 153,
   "metadata": {},
   "outputs": [
    {
     "data": {
      "text/plain": [
       "3"
      ]
     },
     "execution_count": 153,
     "metadata": {},
     "output_type": "execute_result"
    }
   ],
   "source": [
    "np.argmax(np.std(jum,axis=0))"
   ]
  },
  {
   "cell_type": "code",
   "execution_count": 152,
   "metadata": {},
   "outputs": [
    {
     "data": {
      "text/plain": [
       "2"
      ]
     },
     "execution_count": 152,
     "metadata": {},
     "output_type": "execute_result"
    }
   ],
   "source": [
    "np.argmin(np.std(jum,axis=0))"
   ]
  },
  {
   "cell_type": "code",
   "execution_count": 151,
   "metadata": {},
   "outputs": [
    {
     "data": {
      "text/plain": [
       "array([17.43559577, 12.64911064, 10.95445115, 23.15167381])"
      ]
     },
     "execution_count": 151,
     "metadata": {},
     "output_type": "execute_result"
    }
   ],
   "source": [
    "np.std(jum,axis=0)"
   ]
  },
  {
   "cell_type": "code",
   "execution_count": null,
   "metadata": {},
   "outputs": [],
   "source": [
    "28. 학생들 중 과목간의 점수의 편차가 가장 적은 학생을 조회"
   ]
  },
  {
   "cell_type": "code",
   "execution_count": 155,
   "metadata": {},
   "outputs": [
    {
     "data": {
      "text/plain": [
       "1"
      ]
     },
     "execution_count": 155,
     "metadata": {},
     "output_type": "execute_result"
    }
   ],
   "source": [
    "np.argmin(np.std(jum,axis=1))"
   ]
  },
  {
   "cell_type": "code",
   "execution_count": null,
   "metadata": {},
   "outputs": [],
   "source": [
    "29-30 다음 두 배열을 가지고 29,30번 문제를 푸세요."
   ]
  },
  {
   "cell_type": "code",
   "execution_count": 161,
   "metadata": {},
   "outputs": [],
   "source": [
    "A=[\n",
    "  [1,2,3],\n",
    "  [4,5,6],\n",
    "  [7,8,9]\n",
    "]\n",
    "B=[\n",
    "  [10,20,30],\n",
    "  [40,50,60],\n",
    "  [70,80,90]\n",
    "]"
   ]
  },
  {
   "cell_type": "code",
   "execution_count": null,
   "metadata": {},
   "outputs": [],
   "source": [
    "29. 두 배열을 수직방향으로 합치기. "
   ]
  },
  {
   "cell_type": "code",
   "execution_count": 163,
   "metadata": {},
   "outputs": [
    {
     "data": {
      "text/plain": [
       "array([[ 1,  2,  3],\n",
       "       [ 4,  5,  6],\n",
       "       [ 7,  8,  9],\n",
       "       [10, 20, 30],\n",
       "       [40, 50, 60],\n",
       "       [70, 80, 90]])"
      ]
     },
     "execution_count": 163,
     "metadata": {},
     "output_type": "execute_result"
    }
   ],
   "source": [
    "c=np.concatenate((A,B),axis=0)\n",
    "c"
   ]
  },
  {
   "cell_type": "code",
   "execution_count": null,
   "metadata": {},
   "outputs": [],
   "source": [
    "30. 29에서 합친 배열을 수평방향으로 index 2를 기준으로 나누기."
   ]
  },
  {
   "cell_type": "code",
   "execution_count": 165,
   "metadata": {},
   "outputs": [
    {
     "data": {
      "text/plain": [
       "[array([[1, 2, 3],\n",
       "        [4, 5, 6]]),\n",
       " array([[ 7,  8,  9],\n",
       "        [10, 20, 30],\n",
       "        [40, 50, 60],\n",
       "        [70, 80, 90]])]"
      ]
     },
     "execution_count": 165,
     "metadata": {},
     "output_type": "execute_result"
    }
   ],
   "source": [
    "np.split(c,[2],axis=0)"
   ]
  },
  {
   "cell_type": "code",
   "execution_count": null,
   "metadata": {},
   "outputs": [],
   "source": [
    "31-32 다움은 7명의 학생의 점수이다. 배열을 생성한뒤 33번 ~ 35번 문제를 푸세요."
   ]
  },
  {
   "cell_type": "code",
   "execution_count": 166,
   "metadata": {},
   "outputs": [
    {
     "data": {
      "text/plain": [
       "array([10, 50, 75, 20, 70, 50, 80])"
      ]
     },
     "execution_count": 166,
     "metadata": {},
     "output_type": "execute_result"
    }
   ],
   "source": [
    "j=np.array([10, 50, 75, 20, 70, 50, 80])\n",
    "j"
   ]
  },
  {
   "cell_type": "code",
   "execution_count": null,
   "metadata": {},
   "outputs": [],
   "source": [
    "31. 다음 배열에서 평균 이상의 점수를 받은 학생이 몇명인지 조회"
   ]
  },
  {
   "cell_type": "code",
   "execution_count": 168,
   "metadata": {},
   "outputs": [
    {
     "data": {
      "text/plain": [
       "array([75, 70, 80])"
      ]
     },
     "execution_count": 168,
     "metadata": {},
     "output_type": "execute_result"
    }
   ],
   "source": [
    "j[j>np.mean(j)]"
   ]
  },
  {
   "cell_type": "code",
   "execution_count": 169,
   "metadata": {},
   "outputs": [
    {
     "data": {
      "text/plain": [
       "3"
      ]
     },
     "execution_count": 169,
     "metadata": {},
     "output_type": "execute_result"
    }
   ],
   "source": [
    "np.sum(j>np.mean(j))"
   ]
  },
  {
   "cell_type": "code",
   "execution_count": null,
   "metadata": {},
   "outputs": [],
   "source": [
    "32. 다음 배열에서 평균 이상의 점수를 받은 학생이 전체 학생 중 몇명인지 비율을 조회."
   ]
  },
  {
   "cell_type": "code",
   "execution_count": 170,
   "metadata": {},
   "outputs": [
    {
     "data": {
      "text/plain": [
       "0.42857142857142855"
      ]
     },
     "execution_count": 170,
     "metadata": {},
     "output_type": "execute_result"
    }
   ],
   "source": [
    "np.sum(j>np.mean(j))/j.size"
   ]
  },
  {
   "cell_type": "code",
   "execution_count": null,
   "metadata": {},
   "outputs": [],
   "source": [
    "33-35 다음 배열은 스무명의 사람들의 연봉의 표본이다. (단위 만원) 배열을 생성한뒤 33번 ~ 35번 문제를 푸세요."
   ]
  },
  {
   "cell_type": "code",
   "execution_count": 171,
   "metadata": {},
   "outputs": [],
   "source": [
    "bong=[7650, 4210, 7260, 8020, 8200, 8740, 4960, 1420,\n",
    " 5410, 9770, 2370, 7960, 8960, 2660, 7940, 5120,\n",
    " 7100, 5220, 8810, 253000]\n",
    " "
   ]
  },
  {
   "cell_type": "code",
   "execution_count": null,
   "metadata": {},
   "outputs": [],
   "source": [
    "33. 위 배열에서 상위 75% 는 얼마 이상을 받는지 조회."
   ]
  },
  {
   "cell_type": "code",
   "execution_count": 173,
   "metadata": {},
   "outputs": [
    {
     "data": {
      "text/plain": [
       "8335.0"
      ]
     },
     "execution_count": 173,
     "metadata": {},
     "output_type": "execute_result"
    }
   ],
   "source": [
    "np.quantile(bong,q=0.75)   # 75% 의 위치에 있는 연봉 = > 이것 이상 받는다."
   ]
  },
  {
   "cell_type": "code",
   "execution_count": null,
   "metadata": {},
   "outputs": [],
   "source": [
    "34. 위 배열에서 하위 25%는 얼마 이하를 받는지 조회."
   ]
  },
  {
   "cell_type": "code",
   "execution_count": 174,
   "metadata": {},
   "outputs": [
    {
     "data": {
      "text/plain": [
       "5080.0"
      ]
     },
     "execution_count": 174,
     "metadata": {},
     "output_type": "execute_result"
    }
   ],
   "source": [
    "np.quantile(bong,q=0.25)"
   ]
  },
  {
   "cell_type": "code",
   "execution_count": null,
   "metadata": {},
   "outputs": [],
   "source": [
    "35. 위 배열의 평균과 중앙값을 구하고 배열의 대푯값으로 어떤 것을 사용하는 것이 맞는지 적으세요.\n",
    "- \"중앙값\"을 대푯값으로 쓰는 것이 맞음"
   ]
  },
  {
   "cell_type": "code",
   "execution_count": 175,
   "metadata": {},
   "outputs": [
    {
     "data": {
      "text/plain": [
       "18739.0"
      ]
     },
     "execution_count": 175,
     "metadata": {},
     "output_type": "execute_result"
    }
   ],
   "source": [
    "np.mean(bong)"
   ]
  },
  {
   "cell_type": "code",
   "execution_count": 177,
   "metadata": {},
   "outputs": [
    {
     "data": {
      "text/plain": [
       "7455.0"
      ]
     },
     "execution_count": 177,
     "metadata": {},
     "output_type": "execute_result"
    }
   ],
   "source": [
    "np.median(bong)"
   ]
  }
 ],
 "metadata": {
  "kernelspec": {
   "display_name": "Python 3",
   "language": "python",
   "name": "python3"
  },
  "language_info": {
   "codemirror_mode": {
    "name": "ipython",
    "version": 3
   },
   "file_extension": ".py",
   "mimetype": "text/x-python",
   "name": "python",
   "nbconvert_exporter": "python",
   "pygments_lexer": "ipython3",
   "version": "3.8.5"
  }
 },
 "nbformat": 4,
 "nbformat_minor": 4
}
