{
 "cells": [
  {
   "cell_type": "code",
   "execution_count": 3,
   "metadata": {},
   "outputs": [
    {
     "data": {
      "text/plain": [
       "(5,)"
      ]
     },
     "execution_count": 3,
     "metadata": {},
     "output_type": "execute_result"
    }
   ],
   "source": [
    "# 1. 10, 7, 5, 90, 100 을 가지는 1차원 배열을 생성.\n",
    "import numpy as np\n",
    "arr1=np.array([10, 7, 5, 90, 100])\n",
    "arr1.shape"
   ]
  },
  {
   "cell_type": "code",
   "execution_count": 7,
   "metadata": {},
   "outputs": [
    {
     "name": "stdout",
     "output_type": "stream",
     "text": [
      "[100 102 104 106 108 110 112 114 116 118 120 122 124 126 128 130 132 134\n",
      " 136 138 140 142 144 146 148 150 152 154 156 158 160 162 164 166 168 170\n",
      " 172 174 176 178 180 182 184 186 188 190 192 194 196 198 200]\n",
      "(51,)\n"
     ]
    }
   ],
   "source": [
    "#2. 100 ~ 200 범위의 숫자중 짝수를 가지는 배열을 생성.\n",
    "arr = np.arange(100,201,2)\n",
    "print(arr)\n",
    "print(arr.shape)"
   ]
  },
  {
   "cell_type": "code",
   "execution_count": 16,
   "metadata": {},
   "outputs": [
    {
     "data": {
      "text/plain": [
       "(array([100., 102., 104., 106., 108., 110., 112., 114., 116., 118., 120.,\n",
       "        122., 124., 126., 128., 130., 132., 134., 136., 138., 140., 142.,\n",
       "        144., 146., 148., 150., 152., 154., 156., 158., 160., 162., 164.,\n",
       "        166., 168., 170., 172., 174., 176., 178., 180., 182., 184., 186.,\n",
       "        188., 190., 192., 194., 196., 198., 200.]),\n",
       " 2.0)"
      ]
     },
     "execution_count": 16,
     "metadata": {},
     "output_type": "execute_result"
    }
   ],
   "source": [
    "arr1 = np.linspace(100,200,num=51,retstep=True) #linspace(start,end,num=50,retstep=False,endpoit=True,dtype=none)\n",
    "arr1"
   ]
  },
  {
   "cell_type": "code",
   "execution_count": 10,
   "metadata": {},
   "outputs": [
    {
     "data": {
      "text/plain": [
       "array([0., 0., 0., 0., 0., 0., 0., 0., 0., 0., 0., 0., 0., 0., 0., 0., 0.,\n",
       "       0., 0., 0., 0., 0., 0., 0., 0., 0., 0., 0., 0., 0., 0., 0., 0., 0.,\n",
       "       0., 0., 0., 0., 0., 0., 0., 0., 0., 0., 0., 0., 0., 0., 0., 0., 0.])"
      ]
     },
     "execution_count": 10,
     "metadata": {},
     "output_type": "execute_result"
    }
   ],
   "source": [
    "#3. 2번에서 생성한 배열과 동일한 shape에 0을 원소로 가지는 배열 생성.\n",
    "a = np.zeros(arr.shape)\n",
    "a"
   ]
  },
  {
   "cell_type": "code",
   "execution_count": 12,
   "metadata": {},
   "outputs": [
    {
     "data": {
      "text/plain": [
       "array([0, 0, 0, 0, 0, 0, 0, 0, 0, 0, 0, 0, 0, 0, 0, 0, 0, 0, 0, 0, 0, 0,\n",
       "       0, 0, 0, 0, 0, 0, 0, 0, 0, 0, 0, 0, 0, 0, 0, 0, 0, 0, 0, 0, 0, 0,\n",
       "       0, 0, 0, 0, 0, 0, 0])"
      ]
     },
     "execution_count": 12,
     "metadata": {},
     "output_type": "execute_result"
    }
   ],
   "source": [
    "b = np.zeros_like(arr)\n",
    "b"
   ]
  },
  {
   "cell_type": "code",
   "execution_count": 19,
   "metadata": {},
   "outputs": [
    {
     "data": {
      "text/plain": [
       "(51,)"
      ]
     },
     "execution_count": 19,
     "metadata": {},
     "output_type": "execute_result"
    }
   ],
   "source": [
    "a1= np.zeros(51,)\n",
    "a1.shape\n"
   ]
  },
  {
   "cell_type": "code",
   "execution_count": 29,
   "metadata": {},
   "outputs": [
    {
     "name": "stdout",
     "output_type": "stream",
     "text": [
      "[ 1000  1100  1200  1300  1400  1500  1600  1700  1800  1900  2000  2100\n",
      "  2200  2300  2400  2500  2600  2700  2800  2900  3000  3100  3200  3300\n",
      "  3400  3500  3600  3700  3800  3900  4000  4100  4200  4300  4400  4500\n",
      "  4600  4700  4800  4900  5000  5100  5200  5300  5400  5500  5600  5700\n",
      "  5800  5900  6000  6100  6200  6300  6400  6500  6600  6700  6800  6900\n",
      "  7000  7100  7200  7300  7400  7500  7600  7700  7800  7900  8000  8100\n",
      "  8200  8300  8400  8500  8600  8700  8800  8900  9000  9100  9200  9300\n",
      "  9400  9500  9600  9700  9800  9900 10000]\n",
      "(91,)\n"
     ]
    },
    {
     "data": {
      "text/plain": [
       "(array([ 1000.,  1100.,  1200.,  1300.,  1400.,  1500.,  1600.,  1700.,\n",
       "         1800.,  1900.,  2000.,  2100.,  2200.,  2300.,  2400.,  2500.,\n",
       "         2600.,  2700.,  2800.,  2900.,  3000.,  3100.,  3200.,  3300.,\n",
       "         3400.,  3500.,  3600.,  3700.,  3800.,  3900.,  4000.,  4100.,\n",
       "         4200.,  4300.,  4400.,  4500.,  4600.,  4700.,  4800.,  4900.,\n",
       "         5000.,  5100.,  5200.,  5300.,  5400.,  5500.,  5600.,  5700.,\n",
       "         5800.,  5900.,  6000.,  6100.,  6200.,  6300.,  6400.,  6500.,\n",
       "         6600.,  6700.,  6800.,  6900.,  7000.,  7100.,  7200.,  7300.,\n",
       "         7400.,  7500.,  7600.,  7700.,  7800.,  7900.,  8000.,  8100.,\n",
       "         8200.,  8300.,  8400.,  8500.,  8600.,  8700.,  8800.,  8900.,\n",
       "         9000.,  9100.,  9200.,  9300.,  9400.,  9500.,  9600.,  9700.,\n",
       "         9800.,  9900., 10000.]),\n",
       " 100.0)"
      ]
     },
     "execution_count": 29,
     "metadata": {},
     "output_type": "execute_result"
    }
   ],
   "source": [
    "#4. 1001 ~ 10000 범위의 정수 중 100의 배수만 가지는 3차원 배열을 생성. (shape은 상관없음.)\n",
    "arr = np.arange(1000,10001,100)\n",
    "print(arr)\n",
    "print(arr.shape)\n",
    "arr1 =np.linspace(1000,10000,num=91,retstep=True,dtype=float)\n",
    "arr1\n"
   ]
  },
  {
   "cell_type": "code",
   "execution_count": 36,
   "metadata": {},
   "outputs": [
    {
     "name": "stdout",
     "output_type": "stream",
     "text": [
      "[[0. 0. 1. 0.]\n",
      " [0. 0. 0. 1.]\n",
      " [0. 0. 0. 0.]\n",
      " [0. 0. 0. 0.]]\n",
      "[[1. 0. 0. 0.]\n",
      " [0. 1. 0. 0.]\n",
      " [0. 0. 1. 0.]\n",
      " [0. 0. 0. 1.]]\n"
     ]
    }
   ],
   "source": [
    "#5. (4,4) 형태의 단위행렬(항등행렬)을 생성.\n",
    "print(np.eye(4,4,2))\n",
    "print(np.identity(4)) # np.identity(n, dtype=None)"
   ]
  },
  {
   "cell_type": "code",
   "execution_count": 40,
   "metadata": {},
   "outputs": [
    {
     "name": "stdout",
     "output_type": "stream",
     "text": [
      "[[ 20  90  80 100 -20  30]\n",
      " [ 50 -10  25 120 -40  90]]\n",
      "(2, 6)\n",
      "12\n",
      "2\n"
     ]
    }
   ],
   "source": [
    "# 6. 다음 값을 가지는 배열을 생성하고 배열의 차원수(rank)와 형태, 총 원소(element)의 개수를 조회.\n",
    "# 20, 90, 80, 100, -20, 30\n",
    "# 50, -10, 25, 120, -40, 90\n",
    "\n",
    "arr=np.array([[20, 90, 80, 100, -20, 30],\n",
    "         [50, -10, 25, 120, -40, 90]])\n",
    "print(arr)\n",
    "print(arr.shape)\n",
    "print(arr.size)\n",
    "print(arr.ndim)"
   ]
  },
  {
   "cell_type": "code",
   "execution_count": 43,
   "metadata": {},
   "outputs": [
    {
     "data": {
      "text/plain": [
       "array([3.10670276, 4.17392382, 1.57705372, 0.8437521 , 6.40882277,\n",
       "       1.24958505, 4.59129589])"
      ]
     },
     "execution_count": 43,
     "metadata": {},
     "output_type": "execute_result"
    }
   ],
   "source": [
    "#7. 정규분포를 따르는 난수를 가지는 (3,2,7) 형태의 배열을 생성.\n",
    "arr=np.random.normal(3,2,7)  # normal(loc=0.0, scale=1.0, size=None)  ->defalt값\n",
    "arr"
   ]
  },
  {
   "cell_type": "code",
   "execution_count": 46,
   "metadata": {},
   "outputs": [
    {
     "data": {
      "text/plain": [
       "array([[93, 92, 63, 16, 63],\n",
       "       [39, 32, 36, 18, 11],\n",
       "       [75, 58, 40, 67, 12],\n",
       "       [87, 33, 94, 15, 92]])"
      ]
     },
     "execution_count": 46,
     "metadata": {},
     "output_type": "execute_result"
    }
   ],
   "source": [
    "#8. 1 ~ 100 사이의 정수 난수를 가지는 (4, 5) 형태의 배열을 생성한 뒤 arr.npy 파일로 저장.\n",
    "arr = np.random.randint(1,100,size=(4,5))\n",
    "arr\n",
    "np.save('arr.npy',arr) # np.save('파일명',arr) --->\n",
    "np.load('arr.npy')"
   ]
  },
  {
   "cell_type": "code",
   "execution_count": null,
   "metadata": {},
   "outputs": [],
   "source": [
    "9. 8번에서 저장한 arr.npy 의 배열을 불러와서 출력."
   ]
  },
  {
   "cell_type": "code",
   "execution_count": 48,
   "metadata": {},
   "outputs": [
    {
     "data": {
      "text/plain": [
       "(1036, array([327, 136, 252, 321]))"
      ]
     },
     "execution_count": 48,
     "metadata": {},
     "output_type": "execute_result"
    }
   ],
   "source": [
    "#10. 9번에서 불러온 배열에서 전체 값의 총합, 0번축 기준의 총합, 1번축 기준의 총합을 구하기.\n",
    "np.sum(arr),np.sum(arr,axis=1)"
   ]
  },
  {
   "cell_type": "code",
   "execution_count": 59,
   "metadata": {},
   "outputs": [
    {
     "name": "stdout",
     "output_type": "stream",
     "text": [
      "[[ True False False  True  True False  True False False False]\n",
      " [False False False  True False False False False  True False]\n",
      " [ True False False  True  True  True False  True False False]\n",
      " [False False  True False  True False  True  True False  True]\n",
      " [ True False  True  True False False  True  True  True False]]\n",
      "22\n"
     ]
    }
   ],
   "source": [
    "#11. 임의의 Boolean 값을 가지는 (5, 10) 배열을 생성하고 True의 개수를 출력하시오.\n",
    "arr=np.random.choice([True,False],(5,10))  #choice(a, size=None, replace=True, p=None)\n",
    "print(arr)\n",
    "print(arr.sum())\n"
   ]
  },
  {
   "cell_type": "code",
   "execution_count": 58,
   "metadata": {},
   "outputs": [
    {
     "data": {
      "text/plain": [
       "array([[ 0,  1,  2,  3,  4,  5],\n",
       "       [ 6,  7,  8,  9, 10, 11],\n",
       "       [12, 13, 14, 15, 16, 17],\n",
       "       [18, 19, 20, 21, 22, 23],\n",
       "       [24, 25, 26, 27, 28, 29]])"
      ]
     },
     "execution_count": 58,
     "metadata": {},
     "output_type": "execute_result"
    }
   ],
   "source": [
    "# 12-17. 아래 배열을 생성하고 12번 ~ 17번 문제는 아래 조건으로 생성한 배열을 가지고 푸세요.\n",
    "#  0 ~ 29 범위의 정수를 원소로 가지는 (5,6) 의 배열을 생성하고 변수에 저장.\n",
    "arr = np.arange(0,30).reshape(5,6)\n",
    "arr"
   ]
  },
  {
   "cell_type": "code",
   "execution_count": 65,
   "metadata": {},
   "outputs": [
    {
     "data": {
      "text/plain": [
       "array([[10, 24, 26, 17, 27,  2],\n",
       "       [ 5, 11, 18,  1,  4, 26],\n",
       "       [ 3, 16, 12, 15, 14, 25],\n",
       "       [11, 18, 10,  5,  1, 19],\n",
       "       [ 7, 25, 29,  1, 12,  8]])"
      ]
     },
     "execution_count": 65,
     "metadata": {},
     "output_type": "execute_result"
    }
   ],
   "source": [
    "ar = np.random.randint(0,30,size=(5,6))\n",
    "ar"
   ]
  },
  {
   "cell_type": "code",
   "execution_count": 68,
   "metadata": {},
   "outputs": [
    {
     "data": {
      "text/plain": [
       "array([11, 15, 26])"
      ]
     },
     "execution_count": 68,
     "metadata": {},
     "output_type": "execute_result"
    }
   ],
   "source": [
    "#12. index (1,1), (2,3), (1,5)의 값들 조회\n",
    "ar[[1,2,1],[1,3,5]]"
   ]
  },
  {
   "cell_type": "code",
   "execution_count": 71,
   "metadata": {},
   "outputs": [
    {
     "data": {
      "text/plain": [
       "array([[11, 18,  1],\n",
       "       [16, 12, 15],\n",
       "       [18, 10,  5]])"
      ]
     },
     "execution_count": 71,
     "metadata": {},
     "output_type": "execute_result"
    }
   ],
   "source": [
    "#13. index (1,1), (1,2), (1,3), (2,1), (2,2), (2,3), (3,1), (3,2), (3,3)의 값들을 조회.\n",
    "a=ar[1:4,1:4]\n",
    "a"
   ]
  },
  {
   "cell_type": "code",
   "execution_count": 73,
   "metadata": {},
   "outputs": [
    {
     "data": {
      "text/plain": [
       "array([[ 5, 10, 18],\n",
       "       [15, 12, 16],\n",
       "       [ 1, 18, 11]])"
      ]
     },
     "execution_count": 73,
     "metadata": {},
     "output_type": "execute_result"
    }
   ],
   "source": [
    "#14. 13와 같은 index의 값들을 뒤집어서(reversing) 조회.\n",
    "np.flip(a)"
   ]
  },
  {
   "cell_type": "code",
   "execution_count": 79,
   "metadata": {},
   "outputs": [
    {
     "name": "stdout",
     "output_type": "stream",
     "text": [
      "21.92\n",
      "[24 26 17 27 18 26 16 15 25 18 19 25 29]\n"
     ]
    }
   ],
   "source": [
    "#15. 배열에서 15 이상의 원소만 조회해서 그 평균을 출력.\n",
    "p=np.mean(ar[ar>=15])\n",
    "print(np.round(p,2))\n",
    "print(ar[ar>=15])"
   ]
  },
  {
   "cell_type": "code",
   "execution_count": 87,
   "metadata": {},
   "outputs": [
    {
     "data": {
      "text/plain": [
       "(array([0, 0, 0, 0, 1, 1, 2, 2, 2, 3, 3, 4, 4], dtype=int64),\n",
       " array([1, 2, 3, 4, 2, 5, 1, 3, 5, 1, 5, 1, 2], dtype=int64))"
      ]
     },
     "execution_count": 87,
     "metadata": {},
     "output_type": "execute_result"
    }
   ],
   "source": [
    "#16. 배열에서 15이상의 원소들의 index를 조회. (0축 index, 1축 index) 형식으로 출력. \n",
    " #   ex: (0,0), (0,1) 식으로 출력\n",
    "kd=np.where(ar>=15)\n",
    "kd"
   ]
  },
  {
   "cell_type": "code",
   "execution_count": 89,
   "metadata": {
    "collapsed": true
   },
   "outputs": [
    {
     "name": "stdout",
     "output_type": "stream",
     "text": [
      "(0, 1)\n",
      "(0, 2)\n",
      "(0, 3)\n",
      "(0, 4)\n",
      "(1, 2)\n",
      "(1, 5)\n",
      "(2, 1)\n",
      "(2, 3)\n",
      "(2, 5)\n",
      "(3, 1)\n",
      "(3, 5)\n",
      "(4, 1)\n",
      "(4, 2)\n"
     ]
    }
   ],
   "source": [
    "for i in zip(kd[0],kd[1]):\n",
    "    print (i)"
   ]
  },
  {
   "cell_type": "code",
   "execution_count": 93,
   "metadata": {},
   "outputs": [
    {
     "data": {
      "text/plain": [
       "array([[ 5,  4,  3,  2,  1,  0],\n",
       "       [11, 10,  9,  8,  7,  6],\n",
       "       [17, 16, 15, 14, 13, 12],\n",
       "       [23, 22, 21, 20, 19, 18],\n",
       "       [29, 28, 27, 26, 25, 24]])"
      ]
     },
     "execution_count": 93,
     "metadata": {},
     "output_type": "execute_result"
    }
   ],
   "source": [
    "# 17. 배열을 axis 1을 기준으로 내림차순으로 정렬. \n",
    "# 결과\n",
    "# [[ 5,  4,  3,  2,  1,  0],\n",
    "#  [11, 10,  9,  8,  7,  6],\n",
    "#  [17, 16, 15, 14, 13, 12],\n",
    "#  [23, 22, 21, 20, 19, 18],\n",
    "#  [29, 28, 27, 26, 25, 24]]   \n",
    "arr = np.array([[ 5,  4,  3,  2,  1,  0],\n",
    "                 [11, 10,  9,  8,  7,  6],\n",
    "                 [17, 16, 15, 14, 13, 12],\n",
    "                 [23, 22, 21, 20, 19, 18],\n",
    "                [29, 28, 27, 26, 25, 24]] \n",
    "                )\n",
    "\n",
    "arr.sort()\n",
    "arr[::,::-1]"
   ]
  },
  {
   "cell_type": "code",
   "execution_count": 95,
   "metadata": {},
   "outputs": [
    {
     "data": {
      "text/plain": [
       "(3, 2)"
      ]
     },
     "execution_count": 95,
     "metadata": {},
     "output_type": "execute_result"
    }
   ],
   "source": [
    "# 18-21. 아래 배열을 생성하고 18번 ~ 21번 문제는 아래 조건으로 생성한 배열을 가지고 푸세요.\n",
    "# (3, 2) shape의 배열을 생성 하시오. \n",
    "\n",
    "arr = np.random.randint(1,30,size=(3,2))\n",
    "arr.shape"
   ]
  },
  {
   "cell_type": "code",
   "execution_count": 108,
   "metadata": {},
   "outputs": [
    {
     "data": {
      "text/plain": [
       "(1, 3, 2)"
      ]
     },
     "execution_count": 108,
     "metadata": {},
     "output_type": "execute_result"
    }
   ],
   "source": [
    "#18. 배열의 shape을 (1, 3, 2) 로 변환한 배열을 생성.\n",
    "arr1=arr[np.newaxis,...]\n",
    "arr1.shape"
   ]
  },
  {
   "cell_type": "code",
   "execution_count": 110,
   "metadata": {},
   "outputs": [
    {
     "data": {
      "text/plain": [
       "(1, 3, 2)"
      ]
     },
     "execution_count": 110,
     "metadata": {},
     "output_type": "execute_result"
    }
   ],
   "source": [
    "arr2=arr[np.newaxis,:,:]\n",
    "arr2.shape"
   ]
  },
  {
   "cell_type": "code",
   "execution_count": null,
   "metadata": {},
   "outputs": [],
   "source": []
  },
  {
   "cell_type": "code",
   "execution_count": 114,
   "metadata": {},
   "outputs": [
    {
     "data": {
      "text/plain": [
       "(1, 3, 2, 1)"
      ]
     },
     "execution_count": 114,
     "metadata": {},
     "output_type": "execute_result"
    }
   ],
   "source": [
    "#19. 배열의 shape을 (1, 3, 2, 1) 로 변환한 배열을 생성.\n",
    "a=arr[np.newaxis,:,:,np.newaxis]\n",
    "a.shape"
   ]
  },
  {
   "cell_type": "code",
   "execution_count": 118,
   "metadata": {},
   "outputs": [
    {
     "name": "stdout",
     "output_type": "stream",
     "text": [
      "[ 6 18 14 15 23 21]\n"
     ]
    },
    {
     "data": {
      "text/plain": [
       "array([[ 6, 18],\n",
       "       [14, 15],\n",
       "       [23, 21]])"
      ]
     },
     "execution_count": 118,
     "metadata": {},
     "output_type": "execute_result"
    }
   ],
   "source": [
    "#20. 배열을 1차원 배열로 변환한 배열을 생성.\n",
    "a =arr.flatten()\n",
    "print(a)\n",
    "arr"
   ]
  },
  {
   "cell_type": "code",
   "execution_count": 122,
   "metadata": {},
   "outputs": [
    {
     "data": {
      "text/plain": [
       "array([[ 6, 18],\n",
       "       [14, 15],\n",
       "       [23, 21],\n",
       "       [ 1,  2],\n",
       "       [ 3,  4]])"
      ]
     },
     "execution_count": 122,
     "metadata": {},
     "output_type": "execute_result"
    }
   ],
   "source": [
    "#21. 배열의 0번 축에 2개의 값을 추가. (추가된 배열의 shape: (5,2))//\n",
    "np.insert(arr,3,[[1,2],[3,4]],axis=0)\n",
    "np.append(arr,[[1,2],[3,4]],axis=0)"
   ]
  },
  {
   "cell_type": "code",
   "execution_count": 127,
   "metadata": {},
   "outputs": [
    {
     "data": {
      "text/plain": [
       "array([[ 6,  1,  2,  3, 18],\n",
       "       [14,  1,  2,  3, 15],\n",
       "       [23,  1,  2,  3, 21]])"
      ]
     },
     "execution_count": 127,
     "metadata": {},
     "output_type": "execute_result"
    }
   ],
   "source": [
    "ar1=np.insert(arr,1,[[1,1,1],[2,2,2],[3,3,3]],axis=1)\n",
    "ar1"
   ]
  },
  {
   "cell_type": "code",
   "execution_count": 132,
   "metadata": {},
   "outputs": [
    {
     "data": {
      "text/plain": [
       "(2, 2, 5)"
      ]
     },
     "execution_count": 132,
     "metadata": {},
     "output_type": "execute_result"
    }
   ],
   "source": [
    "a= np.arange(0,20).reshape(1,2,2,1,1,5)\n",
    "np.squeeze(a).shape"
   ]
  },
  {
   "cell_type": "code",
   "execution_count": 135,
   "metadata": {},
   "outputs": [
    {
     "data": {
      "text/plain": [
       "(1, 2, 2, 1, 5)"
      ]
     },
     "execution_count": 135,
     "metadata": {},
     "output_type": "execute_result"
    }
   ],
   "source": [
    "np.squeeze(a,axis=4).shape\n"
   ]
  },
  {
   "cell_type": "code",
   "execution_count": null,
   "metadata": {},
   "outputs": [],
   "source": []
  },
  {
   "cell_type": "code",
   "execution_count": null,
   "metadata": {},
   "outputs": [],
   "source": []
  },
  {
   "cell_type": "code",
   "execution_count": null,
   "metadata": {},
   "outputs": [],
   "source": []
  },
  {
   "cell_type": "code",
   "execution_count": 136,
   "metadata": {},
   "outputs": [],
   "source": [
    "#22-28. 다음 배열은 5명 학생의 국어, 영어, 수학, 과학 시험 점수이다. 행(axis=0)은 각 학생의 시험점수이고 컬럼(axis=1)은 과목을 가리킨다.\n",
    "\n",
    "score= np.array([\n",
    " [ 60,  80,  60, 100],\n",
    " [ 80,  80,  90,  90],\n",
    " [ 90,  60,  70,  50],\n",
    " [ 40,  80,  60,  50],\n",
    " [ 60,  50,  70, 100]\n",
    "])"
   ]
  },
  {
   "cell_type": "code",
   "execution_count": 137,
   "metadata": {},
   "outputs": [
    {
     "data": {
      "text/plain": [
       "array([[ 60,  80,  60, 100],\n",
       "       [ 80,  80,  90,  90],\n",
       "       [ 90,  60,  70,  50],\n",
       "       [ 40,  80,  60,  50],\n",
       "       [ 60,  50,  70, 100]])"
      ]
     },
     "execution_count": 137,
     "metadata": {},
     "output_type": "execute_result"
    }
   ],
   "source": [
    "score"
   ]
  },
  {
   "cell_type": "code",
   "execution_count": 147,
   "metadata": {},
   "outputs": [
    {
     "data": {
      "text/plain": [
       "array([66., 70., 70., 78.])"
      ]
     },
     "execution_count": 147,
     "metadata": {},
     "output_type": "execute_result"
    }
   ],
   "source": [
    "#22. 각 과목별 평균점수를 조회.\n",
    "p= np.mean(score,axis=0)\n",
    "p"
   ]
  },
  {
   "cell_type": "code",
   "execution_count": 142,
   "metadata": {},
   "outputs": [
    {
     "data": {
      "text/plain": [
       "array([66., 70., 70., 78.])"
      ]
     },
     "execution_count": 142,
     "metadata": {},
     "output_type": "execute_result"
    }
   ],
   "source": [
    "np.add.reduce(score,axis=0)/5"
   ]
  },
  {
   "cell_type": "code",
   "execution_count": null,
   "metadata": {},
   "outputs": [],
   "source": []
  },
  {
   "cell_type": "code",
   "execution_count": 149,
   "metadata": {},
   "outputs": [
    {
     "data": {
      "text/plain": [
       "array([[ 60.,  80.,  60., 100.],\n",
       "       [ 80.,  80.,  90.,  90.],\n",
       "       [ 90.,  60.,  70.,  50.],\n",
       "       [ 40.,  80.,  60.,  50.],\n",
       "       [ 60.,  50.,  70., 100.],\n",
       "       [ 66.,  70.,  70.,  78.]])"
      ]
     },
     "execution_count": 149,
     "metadata": {},
     "output_type": "execute_result"
    }
   ],
   "source": [
    "#23. 각 과목별 평균 점수를 성적 배열에 추가. \n",
    "np.append(score,[p],axis=0)  # 차원수를 맞춰줬어야함 "
   ]
  },
  {
   "cell_type": "code",
   "execution_count": 144,
   "metadata": {},
   "outputs": [
    {
     "data": {
      "text/plain": [
       "array([300, 340, 270, 230, 280])"
      ]
     },
     "execution_count": 144,
     "metadata": {},
     "output_type": "execute_result"
    }
   ],
   "source": [
    "np.add.reduce(score,axis=1)"
   ]
  },
  {
   "cell_type": "code",
   "execution_count": 150,
   "metadata": {},
   "outputs": [
    {
     "data": {
      "text/plain": [
       "array([[ 60,  80,  60, 100],\n",
       "       [ 80,  80,  90,  90],\n",
       "       [ 90,  60,  70,  50],\n",
       "       [ 40,  80,  60,  50],\n",
       "       [ 60,  50,  70, 100]])"
      ]
     },
     "execution_count": 150,
     "metadata": {},
     "output_type": "execute_result"
    }
   ],
   "source": [
    "score"
   ]
  },
  {
   "cell_type": "code",
   "execution_count": null,
   "metadata": {},
   "outputs": [],
   "source": [
    "24. 각 학생들의 평균 점수 조회"
   ]
  },
  {
   "cell_type": "code",
   "execution_count": 153,
   "metadata": {},
   "outputs": [
    {
     "data": {
      "text/plain": [
       "array([75. , 85. , 67.5, 57.5, 70. ])"
      ]
     },
     "execution_count": 153,
     "metadata": {},
     "output_type": "execute_result"
    }
   ],
   "source": [
    "stud_mean = np.mean(score,axis=1)\n",
    "stud_mean"
   ]
  },
  {
   "cell_type": "code",
   "execution_count": 166,
   "metadata": {},
   "outputs": [
    {
     "name": "stdout",
     "output_type": "stream",
     "text": [
      "[ 90  80  90 100]\n",
      "[3 1 2 1]\n"
     ]
    }
   ],
   "source": [
    "#25. 과목별로 몇번째 학생의 성적이 가장 높은지 조회\n",
    "print(np.max(score,axis=0))\n",
    "print(np.argmax(score,axis=0)+1)\n"
   ]
  },
  {
   "cell_type": "code",
   "execution_count": 164,
   "metadata": {},
   "outputs": [
    {
     "data": {
      "text/plain": [
       "(array([0], dtype=int64),)"
      ]
     },
     "execution_count": 164,
     "metadata": {},
     "output_type": "execute_result"
    }
   ],
   "source": [
    "#np.where() --> bool 조건에 True 인 값의 인덱스를 알려줌"
   ]
  },
  {
   "cell_type": "code",
   "execution_count": 168,
   "metadata": {},
   "outputs": [
    {
     "data": {
      "text/plain": [
       "array([0, 0, 3, 0, 1], dtype=int64)"
      ]
     },
     "execution_count": 168,
     "metadata": {},
     "output_type": "execute_result"
    }
   ],
   "source": [
    "#26. 학생별로 어떤 과목의 점수가 가장 낮은지 조회.\n",
    "np.argmin(score,axis=1)"
   ]
  },
  {
   "cell_type": "code",
   "execution_count": 169,
   "metadata": {},
   "outputs": [
    {
     "data": {
      "text/plain": [
       "array(['국어', '국어', '과학', '국어', '영어'], dtype='<U2')"
      ]
     },
     "execution_count": 169,
     "metadata": {},
     "output_type": "execute_result"
    }
   ],
   "source": [
    "sub = np.array(['국어', '영어', '수학', '과학'])\n",
    "sub[np.argmin(score,axis=1)] # fancy indexing 한다고 생각하면 됨"
   ]
  },
  {
   "cell_type": "code",
   "execution_count": 170,
   "metadata": {},
   "outputs": [
    {
     "data": {
      "text/plain": [
       "array([[ 60,  80,  60, 100],\n",
       "       [ 80,  80,  90,  90],\n",
       "       [ 90,  60,  70,  50],\n",
       "       [ 40,  80,  60,  50],\n",
       "       [ 60,  50,  70, 100]])"
      ]
     },
     "execution_count": 170,
     "metadata": {},
     "output_type": "execute_result"
    }
   ],
   "source": [
    "score"
   ]
  },
  {
   "cell_type": "code",
   "execution_count": 172,
   "metadata": {},
   "outputs": [
    {
     "data": {
      "text/plain": [
       "3"
      ]
     },
     "execution_count": 172,
     "metadata": {},
     "output_type": "execute_result"
    }
   ],
   "source": [
    "#27. 각 과목별로 편차가 가장 적은 과목과 가장 큰 과목을 조회\n",
    "np.argmax(np.std(score,axis=0))"
   ]
  },
  {
   "cell_type": "code",
   "execution_count": 174,
   "metadata": {},
   "outputs": [
    {
     "data": {
      "text/plain": [
       "2"
      ]
     },
     "execution_count": 174,
     "metadata": {},
     "output_type": "execute_result"
    }
   ],
   "source": [
    "np.argmin(np.std(score,axis=0))"
   ]
  },
  {
   "cell_type": "code",
   "execution_count": 173,
   "metadata": {},
   "outputs": [
    {
     "data": {
      "text/plain": [
       "'과학'"
      ]
     },
     "execution_count": 173,
     "metadata": {},
     "output_type": "execute_result"
    }
   ],
   "source": [
    "sub[np.argmax(np.std(score,axis=0))]"
   ]
  },
  {
   "cell_type": "code",
   "execution_count": 175,
   "metadata": {},
   "outputs": [
    {
     "data": {
      "text/plain": [
       "1"
      ]
     },
     "execution_count": 175,
     "metadata": {},
     "output_type": "execute_result"
    }
   ],
   "source": [
    "#28. 학생들 중 과목간의 점수의 편차가 가장 적은 학생을 조회\n",
    "np.argmin(np.std(score,axis=1))"
   ]
  },
  {
   "cell_type": "code",
   "execution_count": 177,
   "metadata": {},
   "outputs": [],
   "source": [
    "#29-30 다음 두 배열을 가지고 29,30번 문제를 푸세요.\n",
    "a=np.array(\n",
    "[\n",
    "  [1,2,3],\n",
    "  [4,5,6],\n",
    "  [7,8,9]\n",
    "])\n",
    "\n",
    "b= np.array(\n",
    "[\n",
    "  [10,20,30],\n",
    "  [40,50,60],\n",
    "  [70,80,90]\n",
    "])"
   ]
  },
  {
   "cell_type": "code",
   "execution_count": 178,
   "metadata": {},
   "outputs": [
    {
     "data": {
      "text/plain": [
       "(array([[1, 2, 3],\n",
       "        [4, 5, 6],\n",
       "        [7, 8, 9]]),\n",
       " array([[10, 20, 30],\n",
       "        [40, 50, 60],\n",
       "        [70, 80, 90]]))"
      ]
     },
     "execution_count": 178,
     "metadata": {},
     "output_type": "execute_result"
    }
   ],
   "source": [
    "a,b"
   ]
  },
  {
   "cell_type": "code",
   "execution_count": 181,
   "metadata": {},
   "outputs": [
    {
     "data": {
      "text/plain": [
       "array([[ 1,  2,  3],\n",
       "       [ 4,  5,  6],\n",
       "       [ 7,  8,  9],\n",
       "       [10, 20, 30],\n",
       "       [40, 50, 60],\n",
       "       [70, 80, 90]])"
      ]
     },
     "execution_count": 181,
     "metadata": {},
     "output_type": "execute_result"
    }
   ],
   "source": [
    "#29. 두 배열을 수직방향으로 합치기. \n",
    "ab=np.concatenate((a,b),axis=0)\n",
    "ab"
   ]
  },
  {
   "cell_type": "code",
   "execution_count": 183,
   "metadata": {},
   "outputs": [
    {
     "data": {
      "text/plain": [
       "[array([[1, 2, 3],\n",
       "        [4, 5, 6]]),\n",
       " array([[ 7,  8,  9],\n",
       "        [10, 20, 30],\n",
       "        [40, 50, 60],\n",
       "        [70, 80, 90]])]"
      ]
     },
     "execution_count": 183,
     "metadata": {},
     "output_type": "execute_result"
    }
   ],
   "source": [
    "#30. 29에서 합친 배열을 수평방향으로 index 2를 기준으로 나누기.\n",
    "np.split(ab,[2])"
   ]
  },
  {
   "cell_type": "code",
   "execution_count": 184,
   "metadata": {},
   "outputs": [],
   "source": [
    "#31-32 다움은 7명의 학생의 점수이다. 배열을 생성한뒤 33번 ~ 35번 문제를 푸세요.\n",
    "sc = np.array([10, 50, 75, 20, 70, 50, 80])"
   ]
  },
  {
   "cell_type": "code",
   "execution_count": 188,
   "metadata": {},
   "outputs": [
    {
     "data": {
      "text/plain": [
       "50.71"
      ]
     },
     "execution_count": 188,
     "metadata": {},
     "output_type": "execute_result"
    }
   ],
   "source": [
    "#31. 다음 배열에서 평균 이상의 점수를 받은 학생이 몇명인지 조회\n",
    "aver=np.round(np.mean(sc),2)\n",
    "aver"
   ]
  },
  {
   "cell_type": "code",
   "execution_count": 189,
   "metadata": {},
   "outputs": [
    {
     "data": {
      "text/plain": [
       "3"
      ]
     },
     "execution_count": 189,
     "metadata": {},
     "output_type": "execute_result"
    }
   ],
   "source": [
    "np.sum(sc>=aver)"
   ]
  },
  {
   "cell_type": "code",
   "execution_count": 191,
   "metadata": {},
   "outputs": [
    {
     "data": {
      "text/plain": [
       "0.42857142857142855"
      ]
     },
     "execution_count": 191,
     "metadata": {},
     "output_type": "execute_result"
    }
   ],
   "source": [
    "#32. 다음 배열에서 평균 이상의 점수를 받은 학생이 전체 학생 중 몇명인지 비율을 조회.\n",
    "np.mean(sc>=aver)"
   ]
  },
  {
   "cell_type": "code",
   "execution_count": 192,
   "metadata": {},
   "outputs": [
    {
     "data": {
      "text/plain": [
       "50.714285714285715"
      ]
     },
     "execution_count": 192,
     "metadata": {},
     "output_type": "execute_result"
    }
   ],
   "source": [
    "np.mean(sc)"
   ]
  },
  {
   "cell_type": "code",
   "execution_count": 195,
   "metadata": {},
   "outputs": [
    {
     "data": {
      "text/plain": [
       "array([  7650,   4210,   7260,   8020,   8200,   8740,   4960,   1420,\n",
       "         5410,   9770,   2370,   7960,   8960,   2660,   7940,   5120,\n",
       "         7100,   5220,   8810, 253000])"
      ]
     },
     "execution_count": 195,
     "metadata": {},
     "output_type": "execute_result"
    }
   ],
   "source": [
    "#33-35 다음 배열은 스무명의 사람들의 연봉의 표본이다. (단위 만원) 배열을 생성한뒤 33번 ~ 35번 문제를 푸세요.\n",
    "salary =np.array([7650, 4210, 7260, 8020, 8200, 8740, 4960, 1420,\n",
    " 5410, 9770, 2370, 7960, 8960, 2660, 7940, 5120,\n",
    " 7100, 5220, 8810, 253000])\n",
    "\n",
    "salary"
   ]
  },
  {
   "cell_type": "code",
   "execution_count": 196,
   "metadata": {},
   "outputs": [
    {
     "data": {
      "text/plain": [
       "8335.0"
      ]
     },
     "execution_count": 196,
     "metadata": {},
     "output_type": "execute_result"
    }
   ],
   "source": [
    "#33. 위 배열에서 상위 75% 는 얼마 이상을 받는지 조회.\n",
    "np.quantile(salary,q=0.75)"
   ]
  },
  {
   "cell_type": "code",
   "execution_count": 198,
   "metadata": {},
   "outputs": [
    {
     "data": {
      "text/plain": [
       "5080.0"
      ]
     },
     "execution_count": 198,
     "metadata": {},
     "output_type": "execute_result"
    }
   ],
   "source": [
    "#34. 위 배열에서 하위 25%는 얼마 이하를 받는지 조회.\n",
    "np.quantile(salary,q=0.25)"
   ]
  },
  {
   "cell_type": "code",
   "execution_count": 199,
   "metadata": {},
   "outputs": [
    {
     "data": {
      "text/plain": [
       "18739.0"
      ]
     },
     "execution_count": 199,
     "metadata": {},
     "output_type": "execute_result"
    }
   ],
   "source": [
    "#35. 위 배열의 평균과 중앙값을 구하고 배열의 대푯값으로 어떤 것을 사용하는 것이 맞는지 적으세요.\n",
    "np.mean(salary)"
   ]
  },
  {
   "cell_type": "code",
   "execution_count": 200,
   "metadata": {},
   "outputs": [
    {
     "data": {
      "text/plain": [
       "7455.0"
      ]
     },
     "execution_count": 200,
     "metadata": {},
     "output_type": "execute_result"
    }
   ],
   "source": [
    "np.median(salary)"
   ]
  }
 ],
 "metadata": {
  "kernelspec": {
   "display_name": "Python 3",
   "language": "python",
   "name": "python3"
  },
  "language_info": {
   "codemirror_mode": {
    "name": "ipython",
    "version": 3
   },
   "file_extension": ".py",
   "mimetype": "text/x-python",
   "name": "python",
   "nbconvert_exporter": "python",
   "pygments_lexer": "ipython3",
   "version": "3.8.5"
  }
 },
 "nbformat": 4,
 "nbformat_minor": 4
}
